{
 "cells": [
  {
   "cell_type": "markdown",
   "metadata": {
    "slideshow": {
     "slide_type": "slide"
    }
   },
   "source": [
    "# Bayesian Statistical Inference: IV\n",
    "\n",
    "*N. Pol (2025)*\n",
    "\n",
    "Material in this lecture and notebook is based upon the lectures of A. Connolly's & Ž. Ivezić's \"Astrostatistics & Machine Learning\" class at the University of Washington (ASTR 598, https://github.com/dirac-institute/uw-astr598-w18). Also the \"Inference2\" lecture of G. Richards' \"Astrostatistics\" class at Drexel University (PHYS 440/540, https://github.com/gtrichards/PHYS_440_540), Karen Leighly's [Bayesian Stats](http://seminar.ouml.org/lectures/bayesian-statistics/), and J. Bovy's mini-course on \"Statistics & Inference in Astrophysics\" at the University of Toronto (http://astro.utoronto.ca/~bovy/teaching.html). \n",
    "\n",
    "##### Reading:\n",
    "\n",
    "- [Textbook](http://press.princeton.edu/titles/10159.html) Chapter 5.\n",
    "- [MCMC Sampling](https://twiecki.io/blog/2015/11/10/mcmc-sampling) by Thomas Wiecki.\n",
    "- [Sampler, Samplers, Everywhere...](http://mattpitkin.github.io/samplers-demo/pages/samplers-samplers-everywhere/) by Matt Pitkin.\n",
    "- [MCMC Interactive Demo](https://chi-feng.github.io/mcmc-demo/app.html) by Chi Feng.\n",
    "\n",
    "---\n",
    "\n",
    "## Contents\n",
    "* [Practical MCMC](#one)\n",
    "* [MCMC Parameter Estimation In The Wild](#two)\n",
    "* [MCMC With Emcee](#three)\n",
    "* [MCMC With PyMC3](#four)\n",
    "* [MCMC With The PTMCMCSampler](#five)\n",
    "\n",
    "---\n",
    "\n",
    "***Exercises required for class participation are in <font color='red'>red</font>.***\n",
    "\n",
    "---"
   ]
  },
  {
   "cell_type": "markdown",
   "metadata": {},
   "source": [
    "***In case you didn't do it last time:*** Please pause for a few minutes and install these packages `emcee`, `pymc3`, and `PTMCMCSampler` before going through today's notebook. Make sure this notebook is in the correct Python kernel for the class conda environment before executing each of the following cells in turn."
   ]
  },
  {
   "cell_type": "code",
   "execution_count": 1,
   "metadata": {},
   "outputs": [
    {
     "name": "stdout",
     "output_type": "stream",
     "text": [
      "Requirement already satisfied: emcee in c:\\users\\heide\\appdata\\local\\programs\\python\\python311\\lib\\site-packages (3.1.6)"
     ]
    },
    {
     "name": "stderr",
     "output_type": "stream",
     "text": [
      "\n",
      "[notice] A new release of pip is available: 23.2.1 -> 25.0.1\n",
      "[notice] To update, run: python.exe -m pip install --upgrade pip\n"
     ]
    },
    {
     "name": "stdout",
     "output_type": "stream",
     "text": [
      "\n",
      "Requirement already satisfied: numpy in c:\\users\\heide\\appdata\\local\\programs\\python\\python311\\lib\\site-packages (from emcee) (1.26.4)\n"
     ]
    }
   ],
   "source": [
    "!pip install emcee"
   ]
  },
  {
   "cell_type": "code",
   "execution_count": 2,
   "metadata": {},
   "outputs": [
    {
     "name": "stdout",
     "output_type": "stream",
     "text": [
      "Requirement already satisfied: pymc in c:\\users\\heide\\appdata\\local\\programs\\python\\python311\\lib\\site-packages (5.20.1)\n",
      "Requirement already satisfied: arviz>=0.13.0 in c:\\users\\heide\\appdata\\local\\programs\\python\\python311\\lib\\site-packages (from pymc) (0.20.0)\n",
      "Requirement already satisfied: cachetools>=4.2.1 in c:\\users\\heide\\appdata\\local\\programs\\python\\python311\\lib\\site-packages (from pymc) (5.5.0)\n",
      "Requirement already satisfied: cloudpickle in c:\\users\\heide\\appdata\\local\\programs\\python\\python311\\lib\\site-packages (from pymc) (3.1.1)\n",
      "Requirement already satisfied: numpy>=1.25.0 in c:\\users\\heide\\appdata\\local\\programs\\python\\python311\\lib\\site-packages (from pymc) (1.26.4)\n",
      "Requirement already satisfied: pandas>=0.24.0 in c:\\users\\heide\\appdata\\local\\programs\\python\\python311\\lib\\site-packages (from pymc) (2.2.3)\n",
      "Requirement already satisfied: pytensor<2.28,>=2.26.1 in c:\\users\\heide\\appdata\\local\\programs\\python\\python311\\lib\\site-packages (from pymc) (2.27.1)\n",
      "Requirement already satisfied: rich>=13.7.1 in c:\\users\\heide\\appdata\\local\\programs\\python\\python311\\lib\\site-packages (from pymc) (13.9.4)\n",
      "Requirement already satisfied: scipy>=1.4.1 in c:\\users\\heide\\appdata\\local\\programs\\python\\python311\\lib\\site-packages (from pymc) (1.10.1)\n",
      "Requirement already satisfied: threadpoolctl<4.0.0,>=3.1.0 in c:\\users\\heide\\appdata\\local\\programs\\python\\python311\\lib\\site-packages (from pymc) (3.5.0)\n",
      "Requirement already satisfied: typing-extensions>=3.7.4 in c:\\users\\heide\\appdata\\roaming\\python\\python311\\site-packages (from pymc) (4.12.2)\n",
      "Requirement already satisfied: setuptools>=60.0.0 in c:\\users\\heide\\appdata\\local\\programs\\python\\python311\\lib\\site-packages (from arviz>=0.13.0->pymc) (65.5.0)\n",
      "Requirement already satisfied: matplotlib>=3.5 in c:\\users\\heide\\appdata\\local\\programs\\python\\python311\\lib\\site-packages (from arviz>=0.13.0->pymc) (3.7.1)\n",
      "Requirement already satisfied: packaging in c:\\users\\heide\\appdata\\local\\programs\\python\\python311\\lib\\site-packages (from arviz>=0.13.0->pymc) (24.2)\n",
      "Requirement already satisfied: xarray>=2022.6.0 in c:\\users\\heide\\appdata\\local\\programs\\python\\python311\\lib\\site-packages (from arviz>=0.13.0->pymc) (2025.1.1)\n",
      "Requirement already satisfied: h5netcdf>=1.0.2 in c:\\users\\heide\\appdata\\local\\programs\\python\\python311\\lib\\site-packages (from arviz>=0.13.0->pymc) (1.4.1)\n",
      "Requirement already satisfied: xarray-einstats>=0.3 in c:\\users\\heide\\appdata\\local\\programs\\python\\python311\\lib\\site-packages (from arviz>=0.13.0->pymc) (0.8.0)\n",
      "Requirement already satisfied: python-dateutil>=2.8.2 in c:\\users\\heide\\appdata\\local\\programs\\python\\python311\\lib\\site-packages (from pandas>=0.24.0->pymc) (2.8.2)\n",
      "Requirement already satisfied: pytz>=2020.1 in c:\\users\\heide\\appdata\\local\\programs\\python\\python311\\lib\\site-packages (from pandas>=0.24.0->pymc) (2024.2)\n",
      "Requirement already satisfied: tzdata>=2022.7 in c:\\users\\heide\\appdata\\local\\programs\\python\\python311\\lib\\site-packages (from pandas>=0.24.0->pymc) (2025.1)\n",
      "Requirement already satisfied: filelock>=3.15 in c:\\users\\heide\\appdata\\local\\programs\\python\\python311\\lib\\site-packages (from pytensor<2.28,>=2.26.1->pymc) (3.17.0)\n",
      "Requirement already satisfied: etuples in c:\\users\\heide\\appdata\\local\\programs\\python\\python311\\lib\\site-packages (from pytensor<2.28,>=2.26.1->pymc) (0.3.9)\n",
      "Requirement already satisfied: logical-unification in c:\\users\\heide\\appdata\\local\\programs\\python\\python311\\lib\\site-packages (from pytensor<2.28,>=2.26.1->pymc) (0.4.6)\n",
      "Requirement already satisfied: miniKanren in c:\\users\\heide\\appdata\\local\\programs\\python\\python311\\lib\\site-packages (from pytensor<2.28,>=2.26.1->pymc) (1.0.3)\n",
      "Requirement already satisfied: cons in c:\\users\\heide\\appdata\\local\\programs\\python\\python311\\lib\\site-packages (from pytensor<2.28,>=2.26.1->pymc) (0.4.6)\n",
      "Requirement already satisfied: markdown-it-py>=2.2.0 in c:\\users\\heide\\appdata\\local\\programs\\python\\python311\\lib\\site-packages (from rich>=13.7.1->pymc) (3.0.0)\n",
      "Requirement already satisfied: pygments<3.0.0,>=2.13.0 in c:\\users\\heide\\appdata\\roaming\\python\\python311\\site-packages (from rich>=13.7.1->pymc) (2.19.1)\n",
      "Requirement already satisfied: h5py in c:\\users\\heide\\appdata\\local\\programs\\python\\python311\\lib\\site-packages (from h5netcdf>=1.0.2->arviz>=0.13.0->pymc) (3.12.1)\n",
      "Requirement already satisfied: mdurl~=0.1 in c:\\users\\heide\\appdata\\local\\programs\\python\\python311\\lib\\site-packages (from markdown-it-py>=2.2.0->rich>=13.7.1->pymc) (0.1.2)\n",
      "Requirement already satisfied: contourpy>=1.0.1 in c:\\users\\heide\\appdata\\local\\programs\\python\\python311\\lib\\site-packages (from matplotlib>=3.5->arviz>=0.13.0->pymc) (1.0.7)\n",
      "Requirement already satisfied: cycler>=0.10 in c:\\users\\heide\\appdata\\local\\programs\\python\\python311\\lib\\site-packages (from matplotlib>=3.5->arviz>=0.13.0->pymc) (0.11.0)\n",
      "Requirement already satisfied: fonttools>=4.22.0 in c:\\users\\heide\\appdata\\local\\programs\\python\\python311\\lib\\site-packages (from matplotlib>=3.5->arviz>=0.13.0->pymc) (4.39.3)\n",
      "Requirement already satisfied: kiwisolver>=1.0.1 in c:\\users\\heide\\appdata\\local\\programs\\python\\python311\\lib\\site-packages (from matplotlib>=3.5->arviz>=0.13.0->pymc) (1.4.4)\n",
      "Requirement already satisfied: pillow>=6.2.0 in c:\\users\\heide\\appdata\\local\\programs\\python\\python311\\lib\\site-packages (from matplotlib>=3.5->arviz>=0.13.0->pymc) (9.5.0)\n",
      "Requirement already satisfied: pyparsing>=2.3.1 in c:\\users\\heide\\appdata\\local\\programs\\python\\python311\\lib\\site-packages (from matplotlib>=3.5->arviz>=0.13.0->pymc) (3.0.9)\n",
      "Requirement already satisfied: six>=1.5 in c:\\users\\heide\\appdata\\local\\programs\\python\\python311\\lib\\site-packages (from python-dateutil>=2.8.2->pandas>=0.24.0->pymc) (1.16.0)\n",
      "Requirement already satisfied: toolz in c:\\users\\heide\\appdata\\local\\programs\\python\\python311\\lib\\site-packages (from logical-unification->pytensor<2.28,>=2.26.1->pymc) (1.0.0)\n",
      "Requirement already satisfied: multipledispatch in c:\\users\\heide\\appdata\\local\\programs\\python\\python311\\lib\\site-packages (from logical-unification->pytensor<2.28,>=2.26.1->pymc) (1.0.0)\n"
     ]
    },
    {
     "name": "stderr",
     "output_type": "stream",
     "text": [
      "\n",
      "[notice] A new release of pip is available: 23.2.1 -> 25.0.1\n",
      "[notice] To update, run: python.exe -m pip install --upgrade pip\n"
     ]
    }
   ],
   "source": [
    "!pip install pymc"
   ]
  },
  {
   "cell_type": "code",
   "execution_count": 3,
   "metadata": {},
   "outputs": [
    {
     "name": "stdout",
     "output_type": "stream",
     "text": [
      "Collecting git+https://github.com/jellis18/PTMCMCSampler@master\n",
      "  Cloning https://github.com/jellis18/PTMCMCSampler (to revision master) to c:\\users\\heide\\appdata\\local\\temp\\pip-req-build-jczoc7za\n",
      "  Resolved https://github.com/jellis18/PTMCMCSampler to commit 5e3bebf0a6aab060483ba9d2227111f8e314fab5\n",
      "  Installing build dependencies: started\n",
      "  Installing build dependencies: finished with status 'done'\n",
      "  Getting requirements to build wheel: started\n",
      "  Getting requirements to build wheel: finished with status 'done'\n",
      "  Preparing metadata (pyproject.toml): started\n",
      "  Preparing metadata (pyproject.toml): finished with status 'done'\n",
      "Requirement already satisfied: numpy>=1.16.3 in c:\\users\\heide\\appdata\\local\\programs\\python\\python311\\lib\\site-packages (from ptmcmcsampler==2.1.3.dev2+g5e3bebf) (1.26.4)\n",
      "Requirement already satisfied: scipy>=1.2.0 in c:\\users\\heide\\appdata\\local\\programs\\python\\python311\\lib\\site-packages (from ptmcmcsampler==2.1.3.dev2+g5e3bebf) (1.10.1)\n"
     ]
    },
    {
     "name": "stderr",
     "output_type": "stream",
     "text": [
      "  Running command git clone --filter=blob:none --quiet https://github.com/jellis18/PTMCMCSampler 'C:\\Users\\heide\\AppData\\Local\\Temp\\pip-req-build-jczoc7za'\n",
      "\n",
      "[notice] A new release of pip is available: 23.2.1 -> 25.0.1\n",
      "[notice] To update, run: python.exe -m pip install --upgrade pip\n"
     ]
    }
   ],
   "source": [
    "!pip install git+https://github.com/jellis18/PTMCMCSampler@master"
   ]
  },
  {
   "cell_type": "code",
   "execution_count": null,
   "metadata": {},
   "outputs": [],
   "source": []
  },
  {
   "cell_type": "code",
   "execution_count": 4,
   "metadata": {},
   "outputs": [
    {
     "name": "stdout",
     "output_type": "stream",
     "text": [
      "Collecting git+https://github.com/dfm/acor@master\n",
      "  Cloning https://github.com/dfm/acor (to revision master) to c:\\users\\heide\\appdata\\local\\temp\\pip-req-build-qe6o7jn2\n",
      "  Resolved https://github.com/dfm/acor to commit b55eb8efa7df6c73b6f3f0c9b64fa1c801e8f821\n",
      "  Installing build dependencies: started\n",
      "  Installing build dependencies: finished with status 'done'\n",
      "  Getting requirements to build wheel: started\n",
      "  Getting requirements to build wheel: finished with status 'error'\n"
     ]
    },
    {
     "name": "stderr",
     "output_type": "stream",
     "text": [
      "  Running command git clone --filter=blob:none --quiet https://github.com/dfm/acor 'C:\\Users\\heide\\AppData\\Local\\Temp\\pip-req-build-qe6o7jn2'\n",
      "  Running command git checkout -b master --track origin/master\n",
      "  branch 'master' set up to track 'origin/master'.\n",
      "  Switched to a new branch 'master'\n",
      "  error: subprocess-exited-with-error\n",
      "  \n",
      "  × Getting requirements to build wheel did not run successfully.\n",
      "  │ exit code: 1\n",
      "  ╰─> [20 lines of output]\n",
      "      Traceback (most recent call last):\n",
      "        File \"C:\\Users\\heide\\AppData\\Local\\Programs\\Python\\Python311\\Lib\\site-packages\\pip\\_vendor\\pyproject_hooks\\_in_process\\_in_process.py\", line 353, in <module>\n",
      "          main()\n",
      "        File \"C:\\Users\\heide\\AppData\\Local\\Programs\\Python\\Python311\\Lib\\site-packages\\pip\\_vendor\\pyproject_hooks\\_in_process\\_in_process.py\", line 335, in main\n",
      "          json_out['return_val'] = hook(**hook_input['kwargs'])\n",
      "                                   ^^^^^^^^^^^^^^^^^^^^^^^^^^^^\n",
      "        File \"C:\\Users\\heide\\AppData\\Local\\Programs\\Python\\Python311\\Lib\\site-packages\\pip\\_vendor\\pyproject_hooks\\_in_process\\_in_process.py\", line 118, in get_requires_for_build_wheel\n",
      "          return hook(config_settings)\n",
      "                 ^^^^^^^^^^^^^^^^^^^^^\n",
      "        File \"C:\\Users\\heide\\AppData\\Local\\Temp\\pip-build-env-9zuq3ny1\\overlay\\Lib\\site-packages\\setuptools\\build_meta.py\", line 334, in get_requires_for_build_wheel\n",
      "          return self._get_build_requires(config_settings, requirements=[])\n",
      "                 ^^^^^^^^^^^^^^^^^^^^^^^^^^^^^^^^^^^^^^^^^^^^^^^^^^^^^^^^^^\n",
      "        File \"C:\\Users\\heide\\AppData\\Local\\Temp\\pip-build-env-9zuq3ny1\\overlay\\Lib\\site-packages\\setuptools\\build_meta.py\", line 304, in _get_build_requires\n",
      "          self.run_setup()\n",
      "        File \"C:\\Users\\heide\\AppData\\Local\\Temp\\pip-build-env-9zuq3ny1\\overlay\\Lib\\site-packages\\setuptools\\build_meta.py\", line 522, in run_setup\n",
      "          super().run_setup(setup_script=setup_script)\n",
      "        File \"C:\\Users\\heide\\AppData\\Local\\Temp\\pip-build-env-9zuq3ny1\\overlay\\Lib\\site-packages\\setuptools\\build_meta.py\", line 320, in run_setup\n",
      "          exec(code, locals())\n",
      "        File \"<string>\", line 14, in <module>\n",
      "      ModuleNotFoundError: No module named 'numpy'\n",
      "      [end of output]\n",
      "  \n",
      "  note: This error originates from a subprocess, and is likely not a problem with pip.\n",
      "error: subprocess-exited-with-error\n",
      "\n",
      "× Getting requirements to build wheel did not run successfully.\n",
      "│ exit code: 1\n",
      "╰─> See above for output.\n",
      "\n",
      "note: This error originates from a subprocess, and is likely not a problem with pip.\n",
      "\n",
      "[notice] A new release of pip is available: 23.2.1 -> 25.0.1\n",
      "[notice] To update, run: python.exe -m pip install --upgrade pip\n"
     ]
    }
   ],
   "source": [
    "!pip install git+https://github.com/dfm/acor@master"
   ]
  },
  {
   "cell_type": "markdown",
   "metadata": {},
   "source": [
    "# For installation issues with `pymc`:"
   ]
  },
  {
   "cell_type": "markdown",
   "metadata": {},
   "source": [
    "- Check what your python version is:\n",
    "\n",
    "```\n",
    "from platform import python_version\n",
    "\n",
    "print(python_version())\n",
    "```\n",
    "\n",
    "- If you have a python version >3.13, then you will need to downgrade to a lower python version."
   ]
  },
  {
   "cell_type": "markdown",
   "metadata": {},
   "source": [
    "To downgrade the python version in your environment:\n",
    "\n",
    "- open your terminal\n",
    "- activate our class environment with `conda activate your_env_name`\n",
    "- do: `conda install python=3.12`\n",
    "\n",
    "**Note:** once you update your python, there might be times where you might need to reinstall some packages. You can do this with our usual way of installing packages (either via `pip` or `conda install`, whichever one you prefer)."
   ]
  },
  {
   "cell_type": "markdown",
   "metadata": {},
   "source": [
    "# For installation issues with `acor`:\n",
    "\n",
    "If the `pip install` method above does not work:\n",
    "\n",
    "- Open your terminal.\n",
    "- Activate your class environment.\n",
    "- Clone the repository from https://github.com/dfm/acor somewhere on your machine (**not in your course directory**).\n",
    "- Enter the directory with `cd`.\n",
    "- Run `python setup.py install`.\n",
    "\n",
    "The final command will probably still result in what looks like an error in the installation process, but `acor` will be installed in your environment."
   ]
  },
  {
   "cell_type": "code",
   "execution_count": null,
   "metadata": {},
   "outputs": [],
   "source": []
  },
  {
   "cell_type": "markdown",
   "metadata": {
    "slideshow": {
     "slide_type": "slide"
    }
   },
   "source": [
    "## Practical MCMC <a class=\"anchor\" id=\"one\"></a>"
   ]
  },
  {
   "cell_type": "code",
   "execution_count": 9,
   "metadata": {
    "slideshow": {
     "slide_type": "slide"
    }
   },
   "outputs": [
    {
     "ename": "AttributeError",
     "evalue": "partially initialized module 'theano' has no attribute 'compile' (most likely due to a circular import)",
     "output_type": "error",
     "traceback": [
      "\u001b[1;31m---------------------------------------------------------------------------\u001b[0m",
      "\u001b[1;31mAttributeError\u001b[0m                            Traceback (most recent call last)",
      "Cell \u001b[1;32mIn[9], line 11\u001b[0m\n\u001b[0;32m      9\u001b[0m \u001b[38;5;28;01mfrom\u001b[39;00m\u001b[38;5;250m \u001b[39m\u001b[38;5;21;01mscipy\u001b[39;00m\u001b[38;5;21;01m.\u001b[39;00m\u001b[38;5;21;01mstats\u001b[39;00m\u001b[38;5;250m \u001b[39m\u001b[38;5;28;01mimport\u001b[39;00m norm\n\u001b[0;32m     10\u001b[0m \u001b[38;5;28;01mfrom\u001b[39;00m\u001b[38;5;250m \u001b[39m\u001b[38;5;21;01mscipy\u001b[39;00m\u001b[38;5;21;01m.\u001b[39;00m\u001b[38;5;21;01mstats\u001b[39;00m\u001b[38;5;250m \u001b[39m\u001b[38;5;28;01mimport\u001b[39;00m cauchy\n\u001b[1;32m---> 11\u001b[0m \u001b[38;5;28;01mfrom\u001b[39;00m\u001b[38;5;250m \u001b[39m\u001b[38;5;21;01mastroML\u001b[39;00m\u001b[38;5;21;01m.\u001b[39;00m\u001b[38;5;21;01mplotting\u001b[39;00m\u001b[38;5;250m \u001b[39m\u001b[38;5;28;01mimport\u001b[39;00m hist\n\u001b[0;32m     12\u001b[0m \u001b[38;5;28;01mfrom\u001b[39;00m\u001b[38;5;250m \u001b[39m\u001b[38;5;21;01mastroML\u001b[39;00m\u001b[38;5;21;01m.\u001b[39;00m\u001b[38;5;21;01mplotting\u001b[39;00m\u001b[38;5;21;01m.\u001b[39;00m\u001b[38;5;21;01mmcmc\u001b[39;00m\u001b[38;5;250m \u001b[39m\u001b[38;5;28;01mimport\u001b[39;00m convert_to_stdev\n\u001b[0;32m     13\u001b[0m \u001b[38;5;28;01mfrom\u001b[39;00m\u001b[38;5;250m \u001b[39m\u001b[38;5;21;01mastroML\u001b[39;00m\u001b[38;5;21;01m.\u001b[39;00m\u001b[38;5;21;01mplotting\u001b[39;00m\u001b[38;5;250m \u001b[39m\u001b[38;5;28;01mimport\u001b[39;00m setup_text_plots\n",
      "File \u001b[1;32mc:\\Users\\heide\\AppData\\Local\\Programs\\Python\\Python311\\Lib\\site-packages\\astroML\\plotting\\__init__.py:7\u001b[0m\n\u001b[0;32m      5\u001b[0m \u001b[38;5;28;01mfrom\u001b[39;00m\u001b[38;5;250m \u001b[39m\u001b[38;5;21;01m.\u001b[39;00m\u001b[38;5;21;01mmultiaxes\u001b[39;00m\u001b[38;5;250m \u001b[39m\u001b[38;5;28;01mimport\u001b[39;00m MultiAxes\n\u001b[0;32m      6\u001b[0m \u001b[38;5;28;01mfrom\u001b[39;00m\u001b[38;5;250m \u001b[39m\u001b[38;5;21;01m.\u001b[39;00m\u001b[38;5;21;01msettings\u001b[39;00m\u001b[38;5;250m \u001b[39m\u001b[38;5;28;01mimport\u001b[39;00m setup_text_plots\n\u001b[1;32m----> 7\u001b[0m \u001b[38;5;28;01mfrom\u001b[39;00m\u001b[38;5;250m \u001b[39m\u001b[38;5;21;01m.\u001b[39;00m\u001b[38;5;21;01mregression\u001b[39;00m\u001b[38;5;250m \u001b[39m\u001b[38;5;28;01mimport\u001b[39;00m plot_regressions, plot_regression_from_trace\n",
      "File \u001b[1;32mc:\\Users\\heide\\AppData\\Local\\Programs\\Python\\Python311\\Lib\\site-packages\\astroML\\plotting\\regression.py:5\u001b[0m\n\u001b[0;32m      2\u001b[0m \u001b[38;5;28;01mimport\u001b[39;00m\u001b[38;5;250m \u001b[39m\u001b[38;5;21;01mmatplotlib\u001b[39;00m\u001b[38;5;21;01m.\u001b[39;00m\u001b[38;5;21;01mpyplot\u001b[39;00m\u001b[38;5;250m \u001b[39m\u001b[38;5;28;01mas\u001b[39;00m\u001b[38;5;250m \u001b[39m\u001b[38;5;21;01mplt\u001b[39;00m\n\u001b[0;32m      4\u001b[0m \u001b[38;5;28;01mfrom\u001b[39;00m\u001b[38;5;250m \u001b[39m\u001b[38;5;21;01mscipy\u001b[39;00m\u001b[38;5;250m \u001b[39m\u001b[38;5;28;01mimport\u001b[39;00m optimize\n\u001b[1;32m----> 5\u001b[0m \u001b[38;5;28;01mfrom\u001b[39;00m\u001b[38;5;250m \u001b[39m\u001b[38;5;21;01mastroML\u001b[39;00m\u001b[38;5;21;01m.\u001b[39;00m\u001b[38;5;21;01mlinear_model\u001b[39;00m\u001b[38;5;250m \u001b[39m\u001b[38;5;28;01mimport\u001b[39;00m TLS_logL, LinearRegression\n\u001b[0;32m      8\u001b[0m \u001b[38;5;66;03m# TLS:\u001b[39;00m\n\u001b[0;32m      9\u001b[0m \u001b[38;5;28;01mdef\u001b[39;00m\u001b[38;5;250m \u001b[39m\u001b[38;5;21mget_m_b\u001b[39m(beta):\n",
      "File \u001b[1;32mc:\\Users\\heide\\AppData\\Local\\Programs\\Python\\Python311\\Lib\\site-packages\\astroML\\linear_model\\__init__.py:2\u001b[0m\n\u001b[0;32m      1\u001b[0m \u001b[38;5;28;01mfrom\u001b[39;00m\u001b[38;5;250m \u001b[39m\u001b[38;5;21;01m.\u001b[39;00m\u001b[38;5;21;01mlinear_regression\u001b[39;00m\u001b[38;5;250m \u001b[39m\u001b[38;5;28;01mimport\u001b[39;00m LinearRegression, PolynomialRegression, BasisFunctionRegression\n\u001b[1;32m----> 2\u001b[0m \u001b[38;5;28;01mfrom\u001b[39;00m\u001b[38;5;250m \u001b[39m\u001b[38;5;21;01m.\u001b[39;00m\u001b[38;5;21;01mlinear_regression_errors\u001b[39;00m\u001b[38;5;250m \u001b[39m\u001b[38;5;28;01mimport\u001b[39;00m LinearRegressionwithErrors\n\u001b[0;32m      4\u001b[0m \u001b[38;5;28;01mfrom\u001b[39;00m\u001b[38;5;250m \u001b[39m\u001b[38;5;21;01m.\u001b[39;00m\u001b[38;5;21;01mkernel_regression\u001b[39;00m\u001b[38;5;250m \u001b[39m\u001b[38;5;28;01mimport\u001b[39;00m NadarayaWatson\n\u001b[0;32m      5\u001b[0m \u001b[38;5;28;01mfrom\u001b[39;00m\u001b[38;5;250m \u001b[39m\u001b[38;5;21;01m.\u001b[39;00m\u001b[38;5;21;01mTLS\u001b[39;00m\u001b[38;5;250m \u001b[39m\u001b[38;5;28;01mimport\u001b[39;00m TLS_logL\n",
      "File \u001b[1;32mc:\\Users\\heide\\AppData\\Local\\Programs\\Python\\Python311\\Lib\\site-packages\\astroML\\linear_model\\linear_regression_errors.py:5\u001b[0m\n\u001b[0;32m      2\u001b[0m \u001b[38;5;28;01mimport\u001b[39;00m\u001b[38;5;250m \u001b[39m\u001b[38;5;21;01mwarnings\u001b[39;00m\n\u001b[0;32m      4\u001b[0m \u001b[38;5;28;01mtry\u001b[39;00m:\n\u001b[1;32m----> 5\u001b[0m     \u001b[38;5;28;01mimport\u001b[39;00m\u001b[38;5;250m \u001b[39m\u001b[38;5;21;01mpymc3\u001b[39;00m\u001b[38;5;250m \u001b[39m\u001b[38;5;28;01mas\u001b[39;00m\u001b[38;5;250m \u001b[39m\u001b[38;5;21;01mpm\u001b[39;00m\n\u001b[0;32m      6\u001b[0m     \u001b[38;5;28;01mimport\u001b[39;00m\u001b[38;5;250m \u001b[39m\u001b[38;5;21;01mtheano\u001b[39;00m\u001b[38;5;21;01m.\u001b[39;00m\u001b[38;5;21;01mtensor\u001b[39;00m\u001b[38;5;250m \u001b[39m\u001b[38;5;28;01mas\u001b[39;00m\u001b[38;5;250m \u001b[39m\u001b[38;5;21;01mtt\u001b[39;00m\n\u001b[0;32m      7\u001b[0m     \u001b[38;5;28;01mfrom\u001b[39;00m\u001b[38;5;250m \u001b[39m\u001b[38;5;21;01mpackaging\u001b[39;00m\u001b[38;5;21;01m.\u001b[39;00m\u001b[38;5;21;01mversion\u001b[39;00m\u001b[38;5;250m \u001b[39m\u001b[38;5;28;01mimport\u001b[39;00m Version\n",
      "File \u001b[1;32mc:\\Users\\heide\\AppData\\Local\\Programs\\Python\\Python311\\Lib\\site-packages\\pymc3\\__init__.py:23\u001b[0m\n\u001b[0;32m     20\u001b[0m \u001b[38;5;28;01mimport\u001b[39;00m\u001b[38;5;250m \u001b[39m\u001b[38;5;21;01mplatform\u001b[39;00m\n\u001b[0;32m     22\u001b[0m \u001b[38;5;28;01mimport\u001b[39;00m\u001b[38;5;250m \u001b[39m\u001b[38;5;21;01msemver\u001b[39;00m\n\u001b[1;32m---> 23\u001b[0m \u001b[38;5;28;01mimport\u001b[39;00m\u001b[38;5;250m \u001b[39m\u001b[38;5;21;01mtheano\u001b[39;00m\n\u001b[0;32m     25\u001b[0m _log \u001b[38;5;241m=\u001b[39m logging\u001b[38;5;241m.\u001b[39mgetLogger(\u001b[38;5;124m\"\u001b[39m\u001b[38;5;124mpymc3\u001b[39m\u001b[38;5;124m\"\u001b[39m)\n\u001b[0;32m     27\u001b[0m \u001b[38;5;28;01mif\u001b[39;00m \u001b[38;5;129;01mnot\u001b[39;00m logging\u001b[38;5;241m.\u001b[39mroot\u001b[38;5;241m.\u001b[39mhandlers:\n",
      "File \u001b[1;32mc:\\Users\\heide\\AppData\\Local\\Programs\\Python\\Python311\\Lib\\site-packages\\theano\\__init__.py:83\u001b[0m\n\u001b[0;32m     75\u001b[0m \u001b[38;5;66;03m# This is the api version for ops that generate C code.  External ops\u001b[39;00m\n\u001b[0;32m     76\u001b[0m \u001b[38;5;66;03m# might need manual changes if this number goes up.  An undefined\u001b[39;00m\n\u001b[0;32m     77\u001b[0m \u001b[38;5;66;03m# __api_version__ can be understood to mean api version 0.\u001b[39;00m\n\u001b[0;32m     78\u001b[0m \u001b[38;5;66;03m#\u001b[39;00m\n\u001b[0;32m     79\u001b[0m \u001b[38;5;66;03m# This number is not tied to the release version and should change\u001b[39;00m\n\u001b[0;32m     80\u001b[0m \u001b[38;5;66;03m# very rarely.\u001b[39;00m\n\u001b[0;32m     81\u001b[0m __api_version__ \u001b[38;5;241m=\u001b[39m \u001b[38;5;241m1\u001b[39m\n\u001b[1;32m---> 83\u001b[0m \u001b[38;5;28;01mfrom\u001b[39;00m\u001b[38;5;250m \u001b[39m\u001b[38;5;21;01mtheano\u001b[39;00m\u001b[38;5;250m \u001b[39m\u001b[38;5;28;01mimport\u001b[39;00m scalar, tensor\n\u001b[0;32m     84\u001b[0m \u001b[38;5;28;01mfrom\u001b[39;00m\u001b[38;5;250m \u001b[39m\u001b[38;5;21;01mtheano\u001b[39;00m\u001b[38;5;21;01m.\u001b[39;00m\u001b[38;5;21;01mcompile\u001b[39;00m\u001b[38;5;250m \u001b[39m\u001b[38;5;28;01mimport\u001b[39;00m (\n\u001b[0;32m     85\u001b[0m     In,\n\u001b[0;32m     86\u001b[0m     Mode,\n\u001b[1;32m   (...)\u001b[0m\n\u001b[0;32m     93\u001b[0m     shared,\n\u001b[0;32m     94\u001b[0m )\n\u001b[0;32m     95\u001b[0m \u001b[38;5;28;01mfrom\u001b[39;00m\u001b[38;5;250m \u001b[39m\u001b[38;5;21;01mtheano\u001b[39;00m\u001b[38;5;21;01m.\u001b[39;00m\u001b[38;5;21;01mcompile\u001b[39;00m\u001b[38;5;21;01m.\u001b[39;00m\u001b[38;5;21;01mfunction\u001b[39;00m\u001b[38;5;250m \u001b[39m\u001b[38;5;28;01mimport\u001b[39;00m function, function_dump\n",
      "File \u001b[1;32mc:\\Users\\heide\\AppData\\Local\\Programs\\Python\\Python311\\Lib\\site-packages\\theano\\scalar\\__init__.py:1\u001b[0m\n\u001b[1;32m----> 1\u001b[0m \u001b[38;5;28;01mfrom\u001b[39;00m\u001b[38;5;250m \u001b[39m\u001b[38;5;21;01m.\u001b[39;00m\u001b[38;5;21;01mbasic\u001b[39;00m\u001b[38;5;250m \u001b[39m\u001b[38;5;28;01mimport\u001b[39;00m \u001b[38;5;241m*\u001b[39m\n\u001b[0;32m      2\u001b[0m \u001b[38;5;28;01mfrom\u001b[39;00m\u001b[38;5;250m \u001b[39m\u001b[38;5;21;01m.\u001b[39;00m\u001b[38;5;21;01mbasic_scipy\u001b[39;00m\u001b[38;5;250m \u001b[39m\u001b[38;5;28;01mimport\u001b[39;00m \u001b[38;5;241m*\u001b[39m\n",
      "File \u001b[1;32mc:\\Users\\heide\\AppData\\Local\\Programs\\Python\\Python311\\Lib\\site-packages\\theano\\scalar\\basic.py:710\u001b[0m\n\u001b[0;32m    706\u001b[0m         \u001b[38;5;28;01mreturn\u001b[39;00m shape_info\n\u001b[0;32m    709\u001b[0m \u001b[38;5;66;03m# Register C code for ViewOp on Scalars.\u001b[39;00m\n\u001b[1;32m--> 710\u001b[0m \u001b[43mtheano\u001b[49m\u001b[38;5;241;43m.\u001b[39;49m\u001b[43mcompile\u001b[49m\u001b[38;5;241m.\u001b[39mregister_view_op_c_code(\n\u001b[0;32m    711\u001b[0m     Scalar,\n\u001b[0;32m    712\u001b[0m \u001b[38;5;250m    \u001b[39m\u001b[38;5;124;03m\"\"\"\u001b[39;00m\n\u001b[0;32m    713\u001b[0m \u001b[38;5;124;03m    %(oname)s = %(iname)s;\u001b[39;00m\n\u001b[0;32m    714\u001b[0m \u001b[38;5;124;03m    \"\"\"\u001b[39;00m,\n\u001b[0;32m    715\u001b[0m     \u001b[38;5;241m1\u001b[39m,\n\u001b[0;32m    716\u001b[0m )\n\u001b[0;32m    719\u001b[0m \u001b[38;5;28mbool\u001b[39m \u001b[38;5;241m=\u001b[39m get_scalar_type(\u001b[38;5;124m\"\u001b[39m\u001b[38;5;124mbool\u001b[39m\u001b[38;5;124m\"\u001b[39m)\n\u001b[0;32m    720\u001b[0m int8 \u001b[38;5;241m=\u001b[39m get_scalar_type(\u001b[38;5;124m\"\u001b[39m\u001b[38;5;124mint8\u001b[39m\u001b[38;5;124m\"\u001b[39m)\n",
      "\u001b[1;31mAttributeError\u001b[0m: partially initialized module 'theano' has no attribute 'compile' (most likely due to a circular import)"
     ]
    }
   ],
   "source": [
    "# Execute this cell\n",
    "import numpy as np\n",
    "from scipy import stats\n",
    "from matplotlib import pyplot as plt\n",
    "%matplotlib inline\n",
    "#%config InlineBackend.figure_format='retina'\n",
    "\n",
    "from scipy import integrate\n",
    "from scipy.stats import norm\n",
    "from scipy.stats import cauchy\n",
    "from astroML.plotting import hist\n",
    "from astroML.plotting.mcmc import convert_to_stdev\n",
    "from astroML.plotting import setup_text_plots\n",
    "setup_text_plots(fontsize=8, usetex=False)\n",
    "from astroML.plotting.mcmc import convert_to_stdev\n",
    "import warnings; warnings.simplefilter('ignore')"
   ]
  },
  {
   "cell_type": "markdown",
   "metadata": {},
   "source": [
    "### Practical MCMC chain checks\n",
    "\n",
    "1. **CHECK ACCEPTANCE:** some MCMC samplers give an updating estimate of the current acceptance rate of new samples. Ideally for a sampler using some form of Metropolis-Hastings, this should be somewhere between $\\sim20-50\\%$ depending on the type of problem you're trying to solve.\n",
    "\n",
    "    - If the acceptance rate is high, the chain is moving but might not be exploring well. This gives high acceptance rate but poor global exploration of the posterior surface.\n",
    "    \n",
    "    - If the acceptance rate is low, the chain is hardly moving meaning that it's stuck in a rut or trying to jump to new points that are too far away.\n",
    "    \n",
    "\n",
    "2. **CHECK TRACEPLOTS:** After getting an idea of the acceptance rate, make traceplots of your chain. Ideally, our tracplot in each parameter would be mixing well (moving across parameter space without getting stuck), and carving out the same patch of parameter space on average. This will tell you whether your chain is getting stuck or encountering inefficiencies.\n",
    "\n",
    "\n",
    "3. **CHECK AUTOCORRELATION LENGTH:** The MCMC chain with Metropolis-Hastings will not give fully-independent random samples. The next point is influenced by where the previous point was. We need to check how much to down-sample the chain so that the points lack memory and influence from others. This is given by the ***autocorrelation length***. \n",
    "\n",
    "\n",
    "Look again at the plots below for an arbitrary problem (my own image). The 1st column is the trace, the 2nd is the histogram of the chain, and the 3rd column is the acceptance rate of newly proposed samples. Familiarize yourself with the kind of inspections needed for MCMC chains.\n",
    "\n",
    "- **In the top row, the proposal width was too small**. \n",
    "- **In the middle row, the proposal width was too big**. \n",
    "- **Only the bottom row shows reasonable sampling. This is the Goldilocks scenario.**\n",
    "\n",
    "![](./figures/fig_taylor_mcmc.png)"
   ]
  },
  {
   "cell_type": "markdown",
   "metadata": {},
   "source": [
    "The next several cells will load up videos from `Vimeo` to demonstrate how Metropolis-Hastings--based MCMC samples (i) a square region, (ii) a diagonal region, (iii) a cross-diagonal region, and finally... (iv) a banana. Because if you can't sample from a banana then what's the use of your MCMC? Execute the cells and watch through them all."
   ]
  },
  {
   "cell_type": "code",
   "execution_count": 11,
   "metadata": {},
   "outputs": [
    {
     "data": {
      "text/html": [
       "<iframe src=\"https://player.vimeo.com/video/19274900\" width=\"640\" height=\"480\" frameborder=\"0\" webkitallowfullscreen mozallowfullscreen allowfullscreen></iframe><p><a href=\"https://vimeo.com/19274900\">Metropolis in the Square</a> from <a href=\"https://vimeo.com/user3812935\">Abraham Flaxman</a> on <a href=\"https://vimeo.com\">Vimeo</a>.</p>"
      ],
      "text/plain": [
       "<IPython.core.display.HTML object>"
      ]
     },
     "execution_count": 11,
     "metadata": {},
     "output_type": "execute_result"
    }
   ],
   "source": [
    "from IPython.display import HTML\n",
    "HTML('<iframe src=\"https://player.vimeo.com/video/19274900\" width=\"640\" height=\"480\" frameborder=\"0\" webkitallowfullscreen mozallowfullscreen allowfullscreen></iframe><p><a href=\"https://vimeo.com/19274900\">Metropolis in the Square</a> from <a href=\"https://vimeo.com/user3812935\">Abraham Flaxman</a> on <a href=\"https://vimeo.com\">Vimeo</a>.</p>')"
   ]
  },
  {
   "cell_type": "code",
   "execution_count": 12,
   "metadata": {},
   "outputs": [
    {
     "data": {
      "text/html": [
       "<iframe src=\"https://player.vimeo.com/video/19274173\" width=\"640\" height=\"480\" frameborder=\"0\" webkitallowfullscreen mozallowfullscreen allowfullscreen></iframe><p><a href=\"https://vimeo.com/19274173\">Metropolis in Diagonal Region</a> from <a href=\"https://vimeo.com/user3812935\">Abraham Flaxman</a> on <a href=\"https://vimeo.com\">Vimeo</a>.</p>"
      ],
      "text/plain": [
       "<IPython.core.display.HTML object>"
      ]
     },
     "execution_count": 12,
     "metadata": {},
     "output_type": "execute_result"
    }
   ],
   "source": [
    "HTML('<iframe src=\"https://player.vimeo.com/video/19274173\" width=\"640\" height=\"480\" frameborder=\"0\" webkitallowfullscreen mozallowfullscreen allowfullscreen></iframe><p><a href=\"https://vimeo.com/19274173\">Metropolis in Diagonal Region</a> from <a href=\"https://vimeo.com/user3812935\">Abraham Flaxman</a> on <a href=\"https://vimeo.com\">Vimeo</a>.</p>')"
   ]
  },
  {
   "cell_type": "code",
   "execution_count": 14,
   "metadata": {},
   "outputs": [
    {
     "data": {
      "text/html": [
       "<iframe src=\"https://player.vimeo.com/video/19275365\" width=\"640\" height=\"480\" frameborder=\"0\" webkitallowfullscreen mozallowfullscreen allowfullscreen></iframe><p><a href=\"https://vimeo.com/19274173\">Metropolis in Diagonal Region</a> from <a href=\"https://vimeo.com/user3812935\">Abraham Flaxman</a> on <a href=\"https://vimeo.com\">Vimeo</a>.</p>"
      ],
      "text/plain": [
       "<IPython.core.display.HTML object>"
      ]
     },
     "execution_count": 14,
     "metadata": {},
     "output_type": "execute_result"
    }
   ],
   "source": [
    "HTML('<iframe src=\"https://player.vimeo.com/video/19275365\" width=\"640\" height=\"480\" frameborder=\"0\" webkitallowfullscreen mozallowfullscreen allowfullscreen></iframe><p><a href=\"https://vimeo.com/19274173\">Metropolis in Diagonal Region</a> from <a href=\"https://vimeo.com/user3812935\">Abraham Flaxman</a> on <a href=\"https://vimeo.com\">Vimeo</a>.</p>')"
   ]
  },
  {
   "cell_type": "code",
   "execution_count": 16,
   "metadata": {},
   "outputs": [
    {
     "data": {
      "text/html": [
       "<iframe src=\"https://player.vimeo.com/video/22616409\" width=\"640\" height=\"480\" frameborder=\"0\" webkitallowfullscreen mozallowfullscreen allowfullscreen></iframe><p><a href=\"https://vimeo.com/19274173\">Metropolis in Diagonal Region</a> from <a href=\"https://vimeo.com/user3812935\">Abraham Flaxman</a> on <a href=\"https://vimeo.com\">Vimeo</a>.</p>"
      ],
      "text/plain": [
       "<IPython.core.display.HTML object>"
      ]
     },
     "execution_count": 16,
     "metadata": {},
     "output_type": "execute_result"
    }
   ],
   "source": [
    "HTML('<iframe src=\"https://player.vimeo.com/video/22616409\" width=\"640\" height=\"480\" frameborder=\"0\" webkitallowfullscreen mozallowfullscreen allowfullscreen></iframe><p><a href=\"https://vimeo.com/19274173\">Metropolis in Diagonal Region</a> from <a href=\"https://vimeo.com/user3812935\">Abraham Flaxman</a> on <a href=\"https://vimeo.com\">Vimeo</a>.</p>')"
   ]
  },
  {
   "cell_type": "markdown",
   "metadata": {
    "slideshow": {
     "slide_type": "slide"
    }
   },
   "source": [
    "### Optimizing sampling\n",
    "\n",
    "There are several ways of improving the way we propose new sample locations in Metropolis-Hastings. Here are a few.\n",
    "\n",
    "#### (a) Adaptive Metropolis (AM)\n",
    "\n",
    "In AM you use the **empirically-estimated parameter covariance matrix to tune the width of the Gaussian proposal  distribution**. Tuning is updated during the sampling in order to reach optimal mixing. In practice this  means  that  one  uses  the  entire  past  history  of  the  chain  up  until  the  current point to estimate the parameter covariance matrix, scaling this covariance matrix by $\\alpha= 2.38^2/N_\\mathrm{param}$ to reach the optimal $\\sim25\\%$ proposal acceptance rate. \n",
    "\n",
    "Practically speaking, the procedure is\n",
    "- Estimate the $N_\\mathrm{param}\\times N_\\mathrm{param}$ parameter covariance matrix, $C$, using all samples. Standard numpy or scipy algorithms can do this. \n",
    "- Factorize the matrix using a Cholesky algorithm, such that $C = L L^T$.\n",
    "- Draw a new proposed point such that $y = x_i + \\sqrt{\\alpha} Lu$, where $x_i$ is the current point, and $u$ is an $N_\\mathrm{param}$-dimensional vector of random draws from a zero-mean unit-variance Gaussian.\n",
    "\n",
    "*One subtlety here is that by using more than just the most recent point to tune the sampling, our chain is no longer Markovian. This is easily resolved by allowing the chain to pass through a proposal tuning stage using AM, after which the proposal covariance matrix is frozen so that the chain is Markovian then on.*\n",
    "\n",
    "#### (b) Single Component Adaptive Metropolis (SCAM)\n",
    "\n",
    "With high-dimensional model parameter spaces, or even target posterior distributions with significant covariances amongst some parameters, the AM method may suffer from low acceptance rates. One method that addresses this is a variant on AM called Single Component Adaptive Metropolis (SCAM).  **This  involves  jumping  along selected eigenvectors (or principal axes) of the parameter covariance matrix**, which is equivalent to jumping in only one uncorrelated parameter at a time. (We'll see more of principal axes later in the course)\n",
    "\n",
    "- We take our parameter covariance matrix as in AM, but this time work out the eigenvalues and eigenvectors, $C = D\\Lambda D^T$, where $D$ is a unitary matrix with eigenvectors as columns, and $\\Lambda = \\mathrm{diag}(\\sigma^2_\\Lambda$) is a diagonal matrix of eigenvalues. \n",
    "- A SCAM jump corresponds to a zero-mean unit-variance jump in a randomly chosen uncorrelated parameter, equivalent to jumping along one of the eigenvectors. \n",
    "- A proposal draw is given by $y = x_i+ 2.4 D_j u_j$, where $D_j$ is a randomly chosen column of D corresponding to the $j$th eigenvector of $C$, and $u_j \\sim \\mathcal{N}(0,\\sigma^j_\\Lambda)$.\n",
    "\n",
    "#### (c) Differential Evolution (DE)\n",
    "\n",
    "Another popular proposal scheme is DE, which is a simple *genetic algorithm* that treats the past history of the  chain up until the current point as a population. \n",
    "\n",
    "- In DE, you choose two random points from the chain’s history to construct a difference vector along which the chain can jump. \n",
    "- A DE proposal draw is given by $y = x_i + \\beta(x_{r1} − x_{r2})$, where $x_{r1,2}$ are parameter vectors from two randomly chosen points in the past history of the chain, and $\\beta$ is a scaling factor that is usually set to be the same as the AM scaling factor, i.e., $2.38 / \\sqrt{N_\\mathrm{param}}$.\n",
    "\n",
    "\n",
    "#### The Full Proposal Cocktail\n",
    "\n",
    "Real world MCMC should use a cocktail of proposal schemes, aimed at ensuring convergence to the target posterior distribution with **minimal burn-in**, **optimal acceptance rate**, and as **short an autocorrelation length** as possible. \n",
    "\n",
    "At each MCMC iteration the proposed parameter location can be drawn according to a weighted list of schemes, involving **(i) AM, (ii) SCAM, (iii) DE, (iv) empirical proposal distributions (e.g. from previous analyses), and finally (iv) draws from the parameter prior distribution**. \n",
    "\n",
    "The final prior-draw scheme allows for occasional large departures from regions of high likelihood, ensuring that we are exploring the full parameter landscape well, and avoiding the possibility of getting stuck in local maxima. \n",
    "\n",
    "Really, you can use any reasonable distribution you like to propose points. Your only constraint is to ensure that detailed balance is maintained through the relevant transition weightings in  the  Metropolis-Hastings ratio, $p_\\mathrm{acc}$."
   ]
  },
  {
   "cell_type": "markdown",
   "metadata": {},
   "source": [
    "##  MCMC Parameter Estimation In The Wild <a class=\"anchor\" id=\"two\"></a>\n",
    "\n",
    "Let's look at some more involved examples. We will use two popular python modules: `emcee` and `PyMC`. I'll also show you a great but less used sampler that is the standard one for my field of PTA gravitational-wave astrophysics: `PTMCMCSampler`. Quoting Jake VanderPlas for `emcee` and `PyMC`: \n",
    "[Jake's blog:](http://jakevdp.github.io/blog/2014/06/14/frequentism-and-bayesianism-4-bayesian-in-python/)\n",
    "\n",
    "### emcee\n",
    "\n",
    "> The emcee package (*also known as MCMC Hammer, which is in the running for best Python package name in history*) is a Pure Python package written by Astronomer Dan Foreman-Mackey. It is a lightweight package which implements a fairly sophisticated Affine-invariant Hamiltonian MCMC. Because the package is pure Python (i.e. it contains no compiled extensions) it is extremely easy to install; with pip, simply type at the command-line \"pip install emcee\".\n",
    "\n",
    "Emcee does not have much specific boilerplate code; it simply requires you to pass it a Python function which returns a value proportional to the log-posterior probability, and returns samples from that posterior.*\n",
    "\n",
    "### PyMC\n",
    "\n",
    "> The PyMC package has many more features than emcee, including built-in support for efficient sampling of common prior distributions. PyMC by default uses the classic Metropolis-Hastings sampler, one of the earliest MCMC algorithms. For performance, it uses compiled fortran libraries, so it is less trivial to install using tools like pip. PyMC binaries for many systems can be quite easily installed with conda.*\n",
    "\n",
    "More details about PyMC are available from [the pyMC User Guide](https://pymc-devs.github.io/pymc/), but note that we are going to be using [PyMC3](https://docs.pymc.io/).\n",
    "\n",
    "### PTMCMCSampler\n",
    "\n",
    "> This is a bare-bones sampler, requiring only that the user provide a log-likelihood function and a log-prior function. The user can change the relative amounts of AM, SCAM, and DE being used to propose new points to jump to. The great thing about this sampler is that one can add new custom proposal schemes according to the user's preference. \n",
    "\n",
    "> Also, this sampler implements **parallel tempering MCMC (PTMCMC)**. We won't go into detail about this, but suffice it to say that multiple copies of the MCMC are run in parallel, where the copies actually sample from different roots of the likelihood. The higher roots we take, the more the likelihood is flattened out, making it easier to sample. These \"rooted\" chains then communicate back to the main chain, improving exploration of the parameter space. All these chains can actually be post-processed to get the Bayesian evidence too, in a scheme called **thermodynamic integration**."
   ]
  },
  {
   "cell_type": "markdown",
   "metadata": {},
   "source": [
    "##  MCMC with emcee <a class=\"anchor\" id=\"three\"></a>"
   ]
  },
  {
   "cell_type": "markdown",
   "metadata": {},
   "source": [
    "Import `emcee` and generate some homoescedastic Gaussian data. We'll assume the standard deviation is know, so we're only estimating $\\mu$."
   ]
  },
  {
   "cell_type": "code",
   "execution_count": 17,
   "metadata": {},
   "outputs": [],
   "source": [
    "import emcee\n",
    "\n",
    "np.random.seed(21)\n",
    "Ndata = 100\n",
    "mu = 1.0\n",
    "sigma = 0.5 # assumed known \n",
    "data = stats.norm(mu, sigma).rvs(Ndata)"
   ]
  },
  {
   "cell_type": "markdown",
   "metadata": {},
   "source": [
    "Define all the relevant functions."
   ]
  },
  {
   "cell_type": "code",
   "execution_count": 18,
   "metadata": {},
   "outputs": [],
   "source": [
    "def Likelihood(x, sigma, data):\n",
    "    # Gaussian likelihood \n",
    "    return np.prod(np.exp(-(data-x)**2 /2 /sigma**2))\n",
    "\n",
    "def Prior(x):\n",
    "    return 1.0 / 10   # flat: it cancels out and has no effect \n",
    "\n",
    "def myPosterior(x, sigma, data):\n",
    "    return Likelihood(x, sigma, data) * Prior(x)\n",
    "\n",
    "# emcee wants ln of posterior pdf\n",
    "def myLogPosterior(x, sigma, data):\n",
    "    return np.log(myPosterior(x, sigma, data))"
   ]
  },
  {
   "cell_type": "markdown",
   "metadata": {},
   "source": [
    "`emcee` combines multiple \"walkers\", each of which is its own MCMC chain. The number of trace results will be nwalkers $\\times$ nsteps."
   ]
  },
  {
   "cell_type": "code",
   "execution_count": 19,
   "metadata": {},
   "outputs": [
    {
     "name": "stdout",
     "output_type": "stream",
     "text": [
      "done\n"
     ]
    }
   ],
   "source": [
    "ndim = 1  # number of parameters in the model\n",
    "nwalkers = 6  # number of MCMC walkers\n",
    "burn = 1000  # \"burn-in\" period to let chains stabilize\n",
    "nsteps = 5000  # number of MCMC steps to take **for each walker**\n",
    "\n",
    "# initialize theta \n",
    "np.random.seed(0)\n",
    "starting_guesses = np.random.random((nwalkers, ndim))\n",
    "\n",
    "# the function call where all the work happens: \n",
    "sampler = emcee.EnsembleSampler(nwalkers, ndim, myLogPosterior, args=[sigma, data])\n",
    "sampler.run_mcmc(starting_guesses, nsteps)\n",
    " \n",
    "# sampler.chain is of shape (nwalkers, nsteps, ndim)\n",
    "# throw-out the burn-in points and reshape:\n",
    "emcee_trace  = sampler.chain[:, burn:, :].reshape(-1, ndim)\n",
    "\n",
    "print(\"done\")"
   ]
  },
  {
   "cell_type": "code",
   "execution_count": 20,
   "metadata": {},
   "outputs": [
    {
     "name": "stdout",
     "output_type": "stream",
     "text": [
      "(6, 5000, 1)\n",
      "(24000, 1)\n"
     ]
    }
   ],
   "source": [
    "print(sampler.chain.shape) #original chain structure\n",
    "print(emcee_trace.shape) #burned and flattened chain"
   ]
  },
  {
   "cell_type": "code",
   "execution_count": 21,
   "metadata": {},
   "outputs": [
    {
     "data": {
      "text/plain": [
       "Text(0.5, 1.0, 'Chain from emcee')"
      ]
     },
     "execution_count": 21,
     "metadata": {},
     "output_type": "execute_result"
    },
    {
     "data": {
      "image/png": "[encoded data removed]",
      "text/plain": [
       "<Figure size 900x500 with 2 Axes>"
      ]
     },
     "metadata": {
      "image/png": {
       "height": 434,
       "width": 838
      }
     },
     "output_type": "display_data"
    }
   ],
   "source": [
    "# plot \n",
    "fig = plt.figure(figsize=(9, 5))\n",
    "fig.subplots_adjust(left=0.11, right=0.95, \n",
    "                    wspace=0.35, bottom=0.18)\n",
    "\n",
    "chainE = emcee_trace #[0]\n",
    "M = np.size(chainE)\n",
    "\n",
    "ax1 = fig.add_subplot(121)\n",
    "xgrid = np.linspace(1, M, M)\n",
    "plt.plot(xgrid, chainE)\n",
    "ax1.axis([0, M, np.min(chainE), 1.1*np.max(chainE)])\n",
    "plt.xlabel('number')\n",
    "plt.ylabel('chain')\n",
    "\n",
    "# plot running mean: \n",
    "meanC = [np.mean(chainE[:int(N)]) for N in xgrid]\n",
    "ax1.plot(xgrid, meanC, c='red', label='chain mean') \n",
    "ax1.plot(xgrid, 0*xgrid + np.mean(data),\n",
    "         c='yellow',label='data mean')\n",
    "ax1.legend()\n",
    "\n",
    "ax2 = fig.add_subplot(122)\n",
    "# skip first burn samples\n",
    "Nburn = 1000\n",
    "Nchain = np.size(chainE[xgrid>burn])\n",
    "Nhist, bins, patches = plt.hist(chainE[xgrid>Nburn], \n",
    "                                bins='auto', histtype='stepfilled')\n",
    "\n",
    "# plot expectations based on central limit theorem\n",
    "binwidth = bins[1] - bins[0]\n",
    "muCLT = np.mean(data)\n",
    "sigCLT = np.std(data)/np.sqrt(Ndata)\n",
    "muGrid = np.linspace(0.7, 1.3, 500)\n",
    "gauss = Nchain * binwidth * stats.norm(muCLT, sigCLT).pdf(muGrid) \n",
    "ax2.plot(muGrid, gauss, c='red') \n",
    "\n",
    "ax2.set_ylabel('p(chain)')\n",
    "ax2.set_xlabel('chain values')\n",
    "ax2.set_xlim(0.7, 1.3)\n",
    "ax2.set_ylim(0, 1.2*np.max(gauss))\n",
    "ax2.set_title(r'Chain from emcee')"
   ]
  },
  {
   "cell_type": "markdown",
   "metadata": {},
   "source": [
    "##  MCMC with PyMC3 <a class=\"anchor\" id=\"four\"></a>\n",
    "\n",
    "Now we will use pyMC3 to get a 2-dimensional posterior pdf for location and scale parameters using a sample drawn from a **Cauchy distribution**. Remember a Cauchy distribution formally has no mean or standard deviation because its tails fall off shallower than $1/x^2$.\n",
    "\n",
    "The following is code adapted from Figure 5.22 of the textbook. Initially, we load in `PyMC3` and define the Cauchy log likelihood. \n",
    "\n",
    "***NOTE:*** The code here for the Cauchy likelihood is actually only for when we look at the analytic estimate, since `PyMC3` has ready-made modules for many standard functions!"
   ]
  },
  {
   "cell_type": "code",
   "execution_count": 22,
   "metadata": {},
   "outputs": [
    {
     "ename": "AttributeError",
     "evalue": "partially initialized module 'theano' has no attribute 'compile' (most likely due to a circular import)",
     "output_type": "error",
     "traceback": [
      "\u001b[1;31m---------------------------------------------------------------------------\u001b[0m",
      "\u001b[1;31mAttributeError\u001b[0m                            Traceback (most recent call last)",
      "Cell \u001b[1;32mIn[22], line 5\u001b[0m\n\u001b[0;32m      2\u001b[0m \u001b[38;5;28;01mimport\u001b[39;00m\u001b[38;5;250m \u001b[39m\u001b[38;5;21;01mpymc\u001b[39;00m\u001b[38;5;250m \u001b[39m\u001b[38;5;28;01mas\u001b[39;00m\u001b[38;5;250m \u001b[39m\u001b[38;5;21;01mpm\u001b[39;00m\n\u001b[0;32m      4\u001b[0m \u001b[38;5;28;01mif\u001b[39;00m \u001b[38;5;124m\"\u001b[39m\u001b[38;5;124msetup_text_plots\u001b[39m\u001b[38;5;124m\"\u001b[39m \u001b[38;5;129;01mnot\u001b[39;00m \u001b[38;5;129;01min\u001b[39;00m \u001b[38;5;28mglobals\u001b[39m():\n\u001b[1;32m----> 5\u001b[0m     \u001b[38;5;28;01mfrom\u001b[39;00m\u001b[38;5;250m \u001b[39m\u001b[38;5;21;01mastroML\u001b[39;00m\u001b[38;5;21;01m.\u001b[39;00m\u001b[38;5;21;01mplotting\u001b[39;00m\u001b[38;5;250m \u001b[39m\u001b[38;5;28;01mimport\u001b[39;00m setup_text_plots\n\u001b[0;32m      6\u001b[0m setup_text_plots(fontsize\u001b[38;5;241m=\u001b[39m\u001b[38;5;241m8\u001b[39m, usetex\u001b[38;5;241m=\u001b[39m\u001b[38;5;28;01mFalse\u001b[39;00m)\n\u001b[0;32m      8\u001b[0m \u001b[38;5;28;01mdef\u001b[39;00m\u001b[38;5;250m \u001b[39m\u001b[38;5;21mcauchy_logL\u001b[39m(xi, sigma, mu):\n",
      "File \u001b[1;32mc:\\Users\\heide\\AppData\\Local\\Programs\\Python\\Python311\\Lib\\site-packages\\astroML\\plotting\\__init__.py:7\u001b[0m\n\u001b[0;32m      5\u001b[0m \u001b[38;5;28;01mfrom\u001b[39;00m\u001b[38;5;250m \u001b[39m\u001b[38;5;21;01m.\u001b[39;00m\u001b[38;5;21;01mmultiaxes\u001b[39;00m\u001b[38;5;250m \u001b[39m\u001b[38;5;28;01mimport\u001b[39;00m MultiAxes\n\u001b[0;32m      6\u001b[0m \u001b[38;5;28;01mfrom\u001b[39;00m\u001b[38;5;250m \u001b[39m\u001b[38;5;21;01m.\u001b[39;00m\u001b[38;5;21;01msettings\u001b[39;00m\u001b[38;5;250m \u001b[39m\u001b[38;5;28;01mimport\u001b[39;00m setup_text_plots\n\u001b[1;32m----> 7\u001b[0m \u001b[38;5;28;01mfrom\u001b[39;00m\u001b[38;5;250m \u001b[39m\u001b[38;5;21;01m.\u001b[39;00m\u001b[38;5;21;01mregression\u001b[39;00m\u001b[38;5;250m \u001b[39m\u001b[38;5;28;01mimport\u001b[39;00m plot_regressions, plot_regression_from_trace\n",
      "File \u001b[1;32mc:\\Users\\heide\\AppData\\Local\\Programs\\Python\\Python311\\Lib\\site-packages\\astroML\\plotting\\regression.py:5\u001b[0m\n\u001b[0;32m      2\u001b[0m \u001b[38;5;28;01mimport\u001b[39;00m\u001b[38;5;250m \u001b[39m\u001b[38;5;21;01mmatplotlib\u001b[39;00m\u001b[38;5;21;01m.\u001b[39;00m\u001b[38;5;21;01mpyplot\u001b[39;00m\u001b[38;5;250m \u001b[39m\u001b[38;5;28;01mas\u001b[39;00m\u001b[38;5;250m \u001b[39m\u001b[38;5;21;01mplt\u001b[39;00m\n\u001b[0;32m      4\u001b[0m \u001b[38;5;28;01mfrom\u001b[39;00m\u001b[38;5;250m \u001b[39m\u001b[38;5;21;01mscipy\u001b[39;00m\u001b[38;5;250m \u001b[39m\u001b[38;5;28;01mimport\u001b[39;00m optimize\n\u001b[1;32m----> 5\u001b[0m \u001b[38;5;28;01mfrom\u001b[39;00m\u001b[38;5;250m \u001b[39m\u001b[38;5;21;01mastroML\u001b[39;00m\u001b[38;5;21;01m.\u001b[39;00m\u001b[38;5;21;01mlinear_model\u001b[39;00m\u001b[38;5;250m \u001b[39m\u001b[38;5;28;01mimport\u001b[39;00m TLS_logL, LinearRegression\n\u001b[0;32m      8\u001b[0m \u001b[38;5;66;03m# TLS:\u001b[39;00m\n\u001b[0;32m      9\u001b[0m \u001b[38;5;28;01mdef\u001b[39;00m\u001b[38;5;250m \u001b[39m\u001b[38;5;21mget_m_b\u001b[39m(beta):\n",
      "File \u001b[1;32mc:\\Users\\heide\\AppData\\Local\\Programs\\Python\\Python311\\Lib\\site-packages\\astroML\\linear_model\\__init__.py:2\u001b[0m\n\u001b[0;32m      1\u001b[0m \u001b[38;5;28;01mfrom\u001b[39;00m\u001b[38;5;250m \u001b[39m\u001b[38;5;21;01m.\u001b[39;00m\u001b[38;5;21;01mlinear_regression\u001b[39;00m\u001b[38;5;250m \u001b[39m\u001b[38;5;28;01mimport\u001b[39;00m LinearRegression, PolynomialRegression, BasisFunctionRegression\n\u001b[1;32m----> 2\u001b[0m \u001b[38;5;28;01mfrom\u001b[39;00m\u001b[38;5;250m \u001b[39m\u001b[38;5;21;01m.\u001b[39;00m\u001b[38;5;21;01mlinear_regression_errors\u001b[39;00m\u001b[38;5;250m \u001b[39m\u001b[38;5;28;01mimport\u001b[39;00m LinearRegressionwithErrors\n\u001b[0;32m      4\u001b[0m \u001b[38;5;28;01mfrom\u001b[39;00m\u001b[38;5;250m \u001b[39m\u001b[38;5;21;01m.\u001b[39;00m\u001b[38;5;21;01mkernel_regression\u001b[39;00m\u001b[38;5;250m \u001b[39m\u001b[38;5;28;01mimport\u001b[39;00m NadarayaWatson\n\u001b[0;32m      5\u001b[0m \u001b[38;5;28;01mfrom\u001b[39;00m\u001b[38;5;250m \u001b[39m\u001b[38;5;21;01m.\u001b[39;00m\u001b[38;5;21;01mTLS\u001b[39;00m\u001b[38;5;250m \u001b[39m\u001b[38;5;28;01mimport\u001b[39;00m TLS_logL\n",
      "File \u001b[1;32mc:\\Users\\heide\\AppData\\Local\\Programs\\Python\\Python311\\Lib\\site-packages\\astroML\\linear_model\\linear_regression_errors.py:5\u001b[0m\n\u001b[0;32m      2\u001b[0m \u001b[38;5;28;01mimport\u001b[39;00m\u001b[38;5;250m \u001b[39m\u001b[38;5;21;01mwarnings\u001b[39;00m\n\u001b[0;32m      4\u001b[0m \u001b[38;5;28;01mtry\u001b[39;00m:\n\u001b[1;32m----> 5\u001b[0m     \u001b[38;5;28;01mimport\u001b[39;00m\u001b[38;5;250m \u001b[39m\u001b[38;5;21;01mpymc3\u001b[39;00m\u001b[38;5;250m \u001b[39m\u001b[38;5;28;01mas\u001b[39;00m\u001b[38;5;250m \u001b[39m\u001b[38;5;21;01mpm\u001b[39;00m\n\u001b[0;32m      6\u001b[0m     \u001b[38;5;28;01mimport\u001b[39;00m\u001b[38;5;250m \u001b[39m\u001b[38;5;21;01mtheano\u001b[39;00m\u001b[38;5;21;01m.\u001b[39;00m\u001b[38;5;21;01mtensor\u001b[39;00m\u001b[38;5;250m \u001b[39m\u001b[38;5;28;01mas\u001b[39;00m\u001b[38;5;250m \u001b[39m\u001b[38;5;21;01mtt\u001b[39;00m\n\u001b[0;32m      7\u001b[0m     \u001b[38;5;28;01mfrom\u001b[39;00m\u001b[38;5;250m \u001b[39m\u001b[38;5;21;01mpackaging\u001b[39;00m\u001b[38;5;21;01m.\u001b[39;00m\u001b[38;5;21;01mversion\u001b[39;00m\u001b[38;5;250m \u001b[39m\u001b[38;5;28;01mimport\u001b[39;00m Version\n",
      "File \u001b[1;32mc:\\Users\\heide\\AppData\\Local\\Programs\\Python\\Python311\\Lib\\site-packages\\pymc3\\__init__.py:23\u001b[0m\n\u001b[0;32m     20\u001b[0m \u001b[38;5;28;01mimport\u001b[39;00m\u001b[38;5;250m \u001b[39m\u001b[38;5;21;01mplatform\u001b[39;00m\n\u001b[0;32m     22\u001b[0m \u001b[38;5;28;01mimport\u001b[39;00m\u001b[38;5;250m \u001b[39m\u001b[38;5;21;01msemver\u001b[39;00m\n\u001b[1;32m---> 23\u001b[0m \u001b[38;5;28;01mimport\u001b[39;00m\u001b[38;5;250m \u001b[39m\u001b[38;5;21;01mtheano\u001b[39;00m\n\u001b[0;32m     25\u001b[0m _log \u001b[38;5;241m=\u001b[39m logging\u001b[38;5;241m.\u001b[39mgetLogger(\u001b[38;5;124m\"\u001b[39m\u001b[38;5;124mpymc3\u001b[39m\u001b[38;5;124m\"\u001b[39m)\n\u001b[0;32m     27\u001b[0m \u001b[38;5;28;01mif\u001b[39;00m \u001b[38;5;129;01mnot\u001b[39;00m logging\u001b[38;5;241m.\u001b[39mroot\u001b[38;5;241m.\u001b[39mhandlers:\n",
      "File \u001b[1;32mc:\\Users\\heide\\AppData\\Local\\Programs\\Python\\Python311\\Lib\\site-packages\\theano\\__init__.py:83\u001b[0m\n\u001b[0;32m     75\u001b[0m \u001b[38;5;66;03m# This is the api version for ops that generate C code.  External ops\u001b[39;00m\n\u001b[0;32m     76\u001b[0m \u001b[38;5;66;03m# might need manual changes if this number goes up.  An undefined\u001b[39;00m\n\u001b[0;32m     77\u001b[0m \u001b[38;5;66;03m# __api_version__ can be understood to mean api version 0.\u001b[39;00m\n\u001b[0;32m     78\u001b[0m \u001b[38;5;66;03m#\u001b[39;00m\n\u001b[0;32m     79\u001b[0m \u001b[38;5;66;03m# This number is not tied to the release version and should change\u001b[39;00m\n\u001b[0;32m     80\u001b[0m \u001b[38;5;66;03m# very rarely.\u001b[39;00m\n\u001b[0;32m     81\u001b[0m __api_version__ \u001b[38;5;241m=\u001b[39m \u001b[38;5;241m1\u001b[39m\n\u001b[1;32m---> 83\u001b[0m \u001b[38;5;28;01mfrom\u001b[39;00m\u001b[38;5;250m \u001b[39m\u001b[38;5;21;01mtheano\u001b[39;00m\u001b[38;5;250m \u001b[39m\u001b[38;5;28;01mimport\u001b[39;00m scalar, tensor\n\u001b[0;32m     84\u001b[0m \u001b[38;5;28;01mfrom\u001b[39;00m\u001b[38;5;250m \u001b[39m\u001b[38;5;21;01mtheano\u001b[39;00m\u001b[38;5;21;01m.\u001b[39;00m\u001b[38;5;21;01mcompile\u001b[39;00m\u001b[38;5;250m \u001b[39m\u001b[38;5;28;01mimport\u001b[39;00m (\n\u001b[0;32m     85\u001b[0m     In,\n\u001b[0;32m     86\u001b[0m     Mode,\n\u001b[1;32m   (...)\u001b[0m\n\u001b[0;32m     93\u001b[0m     shared,\n\u001b[0;32m     94\u001b[0m )\n\u001b[0;32m     95\u001b[0m \u001b[38;5;28;01mfrom\u001b[39;00m\u001b[38;5;250m \u001b[39m\u001b[38;5;21;01mtheano\u001b[39;00m\u001b[38;5;21;01m.\u001b[39;00m\u001b[38;5;21;01mcompile\u001b[39;00m\u001b[38;5;21;01m.\u001b[39;00m\u001b[38;5;21;01mfunction\u001b[39;00m\u001b[38;5;250m \u001b[39m\u001b[38;5;28;01mimport\u001b[39;00m function, function_dump\n",
      "File \u001b[1;32mc:\\Users\\heide\\AppData\\Local\\Programs\\Python\\Python311\\Lib\\site-packages\\theano\\scalar\\__init__.py:1\u001b[0m\n\u001b[1;32m----> 1\u001b[0m \u001b[38;5;28;01mfrom\u001b[39;00m\u001b[38;5;250m \u001b[39m\u001b[38;5;21;01m.\u001b[39;00m\u001b[38;5;21;01mbasic\u001b[39;00m\u001b[38;5;250m \u001b[39m\u001b[38;5;28;01mimport\u001b[39;00m \u001b[38;5;241m*\u001b[39m\n\u001b[0;32m      2\u001b[0m \u001b[38;5;28;01mfrom\u001b[39;00m\u001b[38;5;250m \u001b[39m\u001b[38;5;21;01m.\u001b[39;00m\u001b[38;5;21;01mbasic_scipy\u001b[39;00m\u001b[38;5;250m \u001b[39m\u001b[38;5;28;01mimport\u001b[39;00m \u001b[38;5;241m*\u001b[39m\n",
      "File \u001b[1;32mc:\\Users\\heide\\AppData\\Local\\Programs\\Python\\Python311\\Lib\\site-packages\\theano\\scalar\\basic.py:710\u001b[0m\n\u001b[0;32m    706\u001b[0m         \u001b[38;5;28;01mreturn\u001b[39;00m shape_info\n\u001b[0;32m    709\u001b[0m \u001b[38;5;66;03m# Register C code for ViewOp on Scalars.\u001b[39;00m\n\u001b[1;32m--> 710\u001b[0m \u001b[43mtheano\u001b[49m\u001b[38;5;241;43m.\u001b[39;49m\u001b[43mcompile\u001b[49m\u001b[38;5;241m.\u001b[39mregister_view_op_c_code(\n\u001b[0;32m    711\u001b[0m     Scalar,\n\u001b[0;32m    712\u001b[0m \u001b[38;5;250m    \u001b[39m\u001b[38;5;124;03m\"\"\"\u001b[39;00m\n\u001b[0;32m    713\u001b[0m \u001b[38;5;124;03m    %(oname)s = %(iname)s;\u001b[39;00m\n\u001b[0;32m    714\u001b[0m \u001b[38;5;124;03m    \"\"\"\u001b[39;00m,\n\u001b[0;32m    715\u001b[0m     \u001b[38;5;241m1\u001b[39m,\n\u001b[0;32m    716\u001b[0m )\n\u001b[0;32m    719\u001b[0m \u001b[38;5;28mbool\u001b[39m \u001b[38;5;241m=\u001b[39m get_scalar_type(\u001b[38;5;124m\"\u001b[39m\u001b[38;5;124mbool\u001b[39m\u001b[38;5;124m\"\u001b[39m)\n\u001b[0;32m    720\u001b[0m int8 \u001b[38;5;241m=\u001b[39m get_scalar_type(\u001b[38;5;124m\"\u001b[39m\u001b[38;5;124mint8\u001b[39m\u001b[38;5;124m\"\u001b[39m)\n",
      "\u001b[1;31mAttributeError\u001b[0m: partially initialized module 'theano' has no attribute 'compile' (most likely due to a circular import)"
     ]
    }
   ],
   "source": [
    "from scipy.stats import cauchy\n",
    "import pymc as pm\n",
    "\n",
    "if \"setup_text_plots\" not in globals():\n",
    "    from astroML.plotting import setup_text_plots\n",
    "setup_text_plots(fontsize=8, usetex=False)\n",
    "\n",
    "def cauchy_logL(xi, sigma, mu):\n",
    "    \"\"\"Equation 5.74: cauchy likelihood\"\"\"\n",
    "    xi = np.asarray(xi)\n",
    "    n = xi.size\n",
    "    shape = np.broadcast(sigma, mu).shape\n",
    "\n",
    "    xi = xi.reshape(xi.shape + tuple([1 for s in shape]))\n",
    "\n",
    "    return ((n - 1) * np.log(sigma)\n",
    "            - np.sum(np.log(sigma ** 2 + (xi - mu) ** 2), 0))"
   ]
  },
  {
   "cell_type": "markdown",
   "metadata": {},
   "source": [
    "Generate some data from the Cauchy distribution."
   ]
  },
  {
   "cell_type": "code",
   "execution_count": 23,
   "metadata": {},
   "outputs": [],
   "source": [
    "# ----------------------------------------------------------------------\n",
    "# Draw the sample from a Cauchy distribution\n",
    "np.random.seed(44)\n",
    "mu_0 = 0\n",
    "gamma_0 = 2\n",
    "xi = cauchy(mu_0, gamma_0).rvs(10)"
   ]
  },
  {
   "cell_type": "markdown",
   "metadata": {},
   "source": [
    "Set up the `PyMC3` model."
   ]
  },
  {
   "cell_type": "code",
   "execution_count": 24,
   "metadata": {},
   "outputs": [
    {
     "name": "stderr",
     "output_type": "stream",
     "text": [
      "Initializing NUTS using jitter+adapt_diag...\n",
      "ERROR (pytensor.graph.rewriting.basic): Rewrite failure due to: constant_folding\n",
      "ERROR (pytensor.graph.rewriting.basic): node: Cast{float64}(2)\n",
      "ERROR (pytensor.graph.rewriting.basic): TRACEBACK:\n",
      "ERROR (pytensor.graph.rewriting.basic): Traceback (most recent call last):\n",
      "  File \"c:\\Users\\heide\\AppData\\Local\\Programs\\Python\\Python311\\Lib\\site-packages\\pytensor\\graph\\rewriting\\basic.py\", line 1916, in process_node\n",
      "    replacements = node_rewriter.transform(fgraph, node)\n",
      "                   ^^^^^^^^^^^^^^^^^^^^^^^^^^^^^^^^^^^^^\n",
      "  File \"c:\\Users\\heide\\AppData\\Local\\Programs\\Python\\Python311\\Lib\\site-packages\\pytensor\\graph\\rewriting\\basic.py\", line 1086, in transform\n",
      "    return self.fn(fgraph, node)\n",
      "           ^^^^^^^^^^^^^^^^^^^^^\n",
      "  File \"c:\\Users\\heide\\AppData\\Local\\Programs\\Python\\Python311\\Lib\\site-packages\\pytensor\\tensor\\rewriting\\basic.py\", line 1173, in constant_folding\n",
      "    return unconditional_constant_folding.transform(fgraph, node)\n",
      "           ^^^^^^^^^^^^^^^^^^^^^^^^^^^^^^^^^^^^^^^^^^^^^^^^^^^^^^\n",
      "  File \"c:\\Users\\heide\\AppData\\Local\\Programs\\Python\\Python311\\Lib\\site-packages\\pytensor\\graph\\rewriting\\basic.py\", line 1086, in transform\n",
      "    return self.fn(fgraph, node)\n",
      "           ^^^^^^^^^^^^^^^^^^^^^\n",
      "  File \"c:\\Users\\heide\\AppData\\Local\\Programs\\Python\\Python311\\Lib\\site-packages\\pytensor\\tensor\\rewriting\\basic.py\", line 1122, in unconditional_constant_folding\n",
      "    thunk = node.op.make_thunk(node, storage_map, compute_map, no_recycling=[])\n",
      "            ^^^^^^^^^^^^^^^^^^^^^^^^^^^^^^^^^^^^^^^^^^^^^^^^^^^^^^^^^^^^^^^^^^^\n",
      "  File \"c:\\Users\\heide\\AppData\\Local\\Programs\\Python\\Python311\\Lib\\site-packages\\pytensor\\link\\c\\op.py\", line 119, in make_thunk\n",
      "    return self.make_c_thunk(node, storage_map, compute_map, no_recycling)\n",
      "           ^^^^^^^^^^^^^^^^^^^^^^^^^^^^^^^^^^^^^^^^^^^^^^^^^^^^^^^^^^^^^^^\n",
      "  File \"c:\\Users\\heide\\AppData\\Local\\Programs\\Python\\Python311\\Lib\\site-packages\\pytensor\\link\\c\\op.py\", line 84, in make_c_thunk\n",
      "    outputs = cl.make_thunk(\n",
      "              ^^^^^^^^^^^^^^\n",
      "  File \"c:\\Users\\heide\\AppData\\Local\\Programs\\Python\\Python311\\Lib\\site-packages\\pytensor\\link\\c\\basic.py\", line 1186, in make_thunk\n",
      "    cthunk, module, in_storage, out_storage, error_storage = self.__compile__(\n",
      "                                                             ^^^^^^^^^^^^^^^^^\n",
      "  File \"c:\\Users\\heide\\AppData\\Local\\Programs\\Python\\Python311\\Lib\\site-packages\\pytensor\\link\\c\\basic.py\", line 1103, in __compile__\n",
      "    thunk, module = self.cthunk_factory(\n",
      "                    ^^^^^^^^^^^^^^^^^^^^\n",
      "  File \"c:\\Users\\heide\\AppData\\Local\\Programs\\Python\\Python311\\Lib\\site-packages\\pytensor\\link\\c\\basic.py\", line 1631, in cthunk_factory\n",
      "    module = cache.module_from_key(key=key, lnk=self)\n",
      "             ^^^^^^^^^^^^^^^^^^^^^^^^^^^^^^^^^^^^^^^^\n",
      "  File \"c:\\Users\\heide\\AppData\\Local\\Programs\\Python\\Python311\\Lib\\site-packages\\pytensor\\link\\c\\cmodule.py\", line 1250, in module_from_key\n",
      "    module = lnk.compile_cmodule(location)\n",
      "             ^^^^^^^^^^^^^^^^^^^^^^^^^^^^^\n",
      "  File \"c:\\Users\\heide\\AppData\\Local\\Programs\\Python\\Python311\\Lib\\site-packages\\pytensor\\link\\c\\basic.py\", line 1532, in compile_cmodule\n",
      "    module = c_compiler.compile_str(\n",
      "             ^^^^^^^^^^^^^^^^^^^^^^^\n",
      "  File \"c:\\Users\\heide\\AppData\\Local\\Programs\\Python\\Python311\\Lib\\site-packages\\pytensor\\link\\c\\cmodule.py\", line 2676, in compile_str\n",
      "    raise CompileError(\n",
      "pytensor.link.c.exceptions.CompileError: Compilation failed (return status=1):\n",
      "\"C:\\MinGW\\bin\\g++.EXE\" -shared -g -O3 -fno-math-errno -Wno-unused-label -Wno-unused-variable -Wno-write-strings -Wno-c++11-narrowing -fno-exceptions -fno-unwind-tables -fno-asynchronous-unwind-tables -DNPY_NO_DEPRECATED_API=NPY_1_7_API_VERSION -m64 -DMS_WIN64 -I\"c:\\Users\\heide\\AppData\\Local\\Programs\\Python\\Python311\\Lib\\site-packages\\numpy\\core\\include\" -I\"c:\\Users\\heide\\AppData\\Local\\Programs\\Python\\Python311\\include\" -I\"c:\\Users\\heide\\AppData\\Local\\Programs\\Python\\Python311\\Lib\\site-packages\\pytensor\\link\\c\\c_code\" -L\"c:\\Users\\heide\\AppData\\Local\\Programs\\Python\\Python311\\libs\" -L\"c:\\Users\\heide\\AppData\\Local\\Programs\\Python\\Python311\" -o \"C:\\Users\\heide\\AppData\\Local\\PyTensor\\compiledir_Windows-10-10.0.26100-SP0-Intel64_Family_6_Model_142_Stepping_12_GenuineIntel-3.11.2-64\\tmpvzmwm_48\\m0de214ec04e404e0b98e77bebd2d95875e2e4b7b75c150c7f6478c42e61da0fa.pyd\" \"C:\\Users\\heide\\AppData\\Local\\PyTensor\\compiledir_Windows-10-10.0.26100-SP0-Intel64_Family_6_Model_142_Stepping_12_GenuineIntel-3.11.2-64\\tmpvzmwm_48\\mod.cpp\" \"c:\\Users\\heide\\AppData\\Local\\Programs\\Python\\Python311\\python311.dll\"\n",
      "C:\\Users\\heide\\AppData\\Local\\PyTensor\\compiledir_Windows-10-10.0.26100-SP0-Intel64_Family_6_Model_142_Stepping_12_GenuineIntel-3.11.2-64\\tmpvzmwm_48\\mod.cpp:1:0: sorry, unimplemented: 64-bit mode not compiled in\n",
      " #include <Python.h>\n",
      " \n",
      "\n",
      "\n"
     ]
    },
    {
     "name": "stdout",
     "output_type": "stream",
     "text": [
      "\n",
      "You can find the C code in this temporary file: C:\\Users\\heide\\AppData\\Local\\Temp\\pytensor_compilation_error_tutlnei8\n"
     ]
    },
    {
     "name": "stderr",
     "output_type": "stream",
     "text": [
      "ERROR (pytensor.graph.rewriting.basic): Rewrite failure due to: constant_folding\n",
      "ERROR (pytensor.graph.rewriting.basic): node: Cast{int8}(0.0)\n",
      "ERROR (pytensor.graph.rewriting.basic): TRACEBACK:\n",
      "ERROR (pytensor.graph.rewriting.basic): Traceback (most recent call last):\n",
      "  File \"c:\\Users\\heide\\AppData\\Local\\Programs\\Python\\Python311\\Lib\\site-packages\\pytensor\\graph\\rewriting\\basic.py\", line 1916, in process_node\n",
      "    replacements = node_rewriter.transform(fgraph, node)\n",
      "                   ^^^^^^^^^^^^^^^^^^^^^^^^^^^^^^^^^^^^^\n",
      "  File \"c:\\Users\\heide\\AppData\\Local\\Programs\\Python\\Python311\\Lib\\site-packages\\pytensor\\graph\\rewriting\\basic.py\", line 1086, in transform\n",
      "    return self.fn(fgraph, node)\n",
      "           ^^^^^^^^^^^^^^^^^^^^^\n",
      "  File \"c:\\Users\\heide\\AppData\\Local\\Programs\\Python\\Python311\\Lib\\site-packages\\pytensor\\tensor\\rewriting\\basic.py\", line 1173, in constant_folding\n",
      "    return unconditional_constant_folding.transform(fgraph, node)\n",
      "           ^^^^^^^^^^^^^^^^^^^^^^^^^^^^^^^^^^^^^^^^^^^^^^^^^^^^^^\n",
      "  File \"c:\\Users\\heide\\AppData\\Local\\Programs\\Python\\Python311\\Lib\\site-packages\\pytensor\\graph\\rewriting\\basic.py\", line 1086, in transform\n",
      "    return self.fn(fgraph, node)\n",
      "           ^^^^^^^^^^^^^^^^^^^^^\n",
      "  File \"c:\\Users\\heide\\AppData\\Local\\Programs\\Python\\Python311\\Lib\\site-packages\\pytensor\\tensor\\rewriting\\basic.py\", line 1122, in unconditional_constant_folding\n",
      "    thunk = node.op.make_thunk(node, storage_map, compute_map, no_recycling=[])\n",
      "            ^^^^^^^^^^^^^^^^^^^^^^^^^^^^^^^^^^^^^^^^^^^^^^^^^^^^^^^^^^^^^^^^^^^\n",
      "  File \"c:\\Users\\heide\\AppData\\Local\\Programs\\Python\\Python311\\Lib\\site-packages\\pytensor\\link\\c\\op.py\", line 119, in make_thunk\n",
      "    return self.make_c_thunk(node, storage_map, compute_map, no_recycling)\n",
      "           ^^^^^^^^^^^^^^^^^^^^^^^^^^^^^^^^^^^^^^^^^^^^^^^^^^^^^^^^^^^^^^^\n",
      "  File \"c:\\Users\\heide\\AppData\\Local\\Programs\\Python\\Python311\\Lib\\site-packages\\pytensor\\link\\c\\op.py\", line 84, in make_c_thunk\n",
      "    outputs = cl.make_thunk(\n",
      "              ^^^^^^^^^^^^^^\n",
      "  File \"c:\\Users\\heide\\AppData\\Local\\Programs\\Python\\Python311\\Lib\\site-packages\\pytensor\\link\\c\\basic.py\", line 1186, in make_thunk\n",
      "    cthunk, module, in_storage, out_storage, error_storage = self.__compile__(\n",
      "                                                             ^^^^^^^^^^^^^^^^^\n",
      "  File \"c:\\Users\\heide\\AppData\\Local\\Programs\\Python\\Python311\\Lib\\site-packages\\pytensor\\link\\c\\basic.py\", line 1103, in __compile__\n",
      "    thunk, module = self.cthunk_factory(\n",
      "                    ^^^^^^^^^^^^^^^^^^^^\n",
      "  File \"c:\\Users\\heide\\AppData\\Local\\Programs\\Python\\Python311\\Lib\\site-packages\\pytensor\\link\\c\\basic.py\", line 1631, in cthunk_factory\n",
      "    module = cache.module_from_key(key=key, lnk=self)\n",
      "             ^^^^^^^^^^^^^^^^^^^^^^^^^^^^^^^^^^^^^^^^\n",
      "  File \"c:\\Users\\heide\\AppData\\Local\\Programs\\Python\\Python311\\Lib\\site-packages\\pytensor\\link\\c\\cmodule.py\", line 1250, in module_from_key\n",
      "    module = lnk.compile_cmodule(location)\n",
      "             ^^^^^^^^^^^^^^^^^^^^^^^^^^^^^\n",
      "  File \"c:\\Users\\heide\\AppData\\Local\\Programs\\Python\\Python311\\Lib\\site-packages\\pytensor\\link\\c\\basic.py\", line 1532, in compile_cmodule\n",
      "    module = c_compiler.compile_str(\n",
      "             ^^^^^^^^^^^^^^^^^^^^^^^\n",
      "  File \"c:\\Users\\heide\\AppData\\Local\\Programs\\Python\\Python311\\Lib\\site-packages\\pytensor\\link\\c\\cmodule.py\", line 2676, in compile_str\n",
      "    raise CompileError(\n",
      "pytensor.link.c.exceptions.CompileError: Compilation failed (return status=1):\n",
      "\"C:\\MinGW\\bin\\g++.EXE\" -shared -g -O3 -fno-math-errno -Wno-unused-label -Wno-unused-variable -Wno-write-strings -Wno-c++11-narrowing -fno-exceptions -fno-unwind-tables -fno-asynchronous-unwind-tables -DNPY_NO_DEPRECATED_API=NPY_1_7_API_VERSION -m64 -DMS_WIN64 -I\"c:\\Users\\heide\\AppData\\Local\\Programs\\Python\\Python311\\Lib\\site-packages\\numpy\\core\\include\" -I\"c:\\Users\\heide\\AppData\\Local\\Programs\\Python\\Python311\\include\" -I\"c:\\Users\\heide\\AppData\\Local\\Programs\\Python\\Python311\\Lib\\site-packages\\pytensor\\link\\c\\c_code\" -L\"c:\\Users\\heide\\AppData\\Local\\Programs\\Python\\Python311\\libs\" -L\"c:\\Users\\heide\\AppData\\Local\\Programs\\Python\\Python311\" -o \"C:\\Users\\heide\\AppData\\Local\\PyTensor\\compiledir_Windows-10-10.0.26100-SP0-Intel64_Family_6_Model_142_Stepping_12_GenuineIntel-3.11.2-64\\tmpx96v9m0g\\m6cb3241bd421ed5f56fd21968ddbea043bbcaf47e91f2bc3e57711e9d18390ca.pyd\" \"C:\\Users\\heide\\AppData\\Local\\PyTensor\\compiledir_Windows-10-10.0.26100-SP0-Intel64_Family_6_Model_142_Stepping_12_GenuineIntel-3.11.2-64\\tmpx96v9m0g\\mod.cpp\" \"c:\\Users\\heide\\AppData\\Local\\Programs\\Python\\Python311\\python311.dll\"\n",
      "C:\\Users\\heide\\AppData\\Local\\PyTensor\\compiledir_Windows-10-10.0.26100-SP0-Intel64_Family_6_Model_142_Stepping_12_GenuineIntel-3.11.2-64\\tmpx96v9m0g\\mod.cpp:1:0: sorry, unimplemented: 64-bit mode not compiled in\n",
      " #include <Python.h>\n",
      " \n",
      "\n",
      "\n"
     ]
    },
    {
     "name": "stdout",
     "output_type": "stream",
     "text": [
      "\n",
      "You can find the C code in this temporary file: C:\\Users\\heide\\AppData\\Local\\Temp\\pytensor_compilation_error_5wlfezvw\n"
     ]
    },
    {
     "name": "stderr",
     "output_type": "stream",
     "text": [
      "ERROR (pytensor.graph.rewriting.basic): Rewrite failure due to: constant_folding\n",
      "ERROR (pytensor.graph.rewriting.basic): node: Neq(5, inf)\n",
      "ERROR (pytensor.graph.rewriting.basic): TRACEBACK:\n",
      "ERROR (pytensor.graph.rewriting.basic): Traceback (most recent call last):\n",
      "  File \"c:\\Users\\heide\\AppData\\Local\\Programs\\Python\\Python311\\Lib\\site-packages\\pytensor\\graph\\rewriting\\basic.py\", line 1916, in process_node\n",
      "    replacements = node_rewriter.transform(fgraph, node)\n",
      "                   ^^^^^^^^^^^^^^^^^^^^^^^^^^^^^^^^^^^^^\n",
      "  File \"c:\\Users\\heide\\AppData\\Local\\Programs\\Python\\Python311\\Lib\\site-packages\\pytensor\\graph\\rewriting\\basic.py\", line 1086, in transform\n",
      "    return self.fn(fgraph, node)\n",
      "           ^^^^^^^^^^^^^^^^^^^^^\n",
      "  File \"c:\\Users\\heide\\AppData\\Local\\Programs\\Python\\Python311\\Lib\\site-packages\\pytensor\\tensor\\rewriting\\basic.py\", line 1173, in constant_folding\n",
      "    return unconditional_constant_folding.transform(fgraph, node)\n",
      "           ^^^^^^^^^^^^^^^^^^^^^^^^^^^^^^^^^^^^^^^^^^^^^^^^^^^^^^\n",
      "  File \"c:\\Users\\heide\\AppData\\Local\\Programs\\Python\\Python311\\Lib\\site-packages\\pytensor\\graph\\rewriting\\basic.py\", line 1086, in transform\n",
      "    return self.fn(fgraph, node)\n",
      "           ^^^^^^^^^^^^^^^^^^^^^\n",
      "  File \"c:\\Users\\heide\\AppData\\Local\\Programs\\Python\\Python311\\Lib\\site-packages\\pytensor\\tensor\\rewriting\\basic.py\", line 1122, in unconditional_constant_folding\n",
      "    thunk = node.op.make_thunk(node, storage_map, compute_map, no_recycling=[])\n",
      "            ^^^^^^^^^^^^^^^^^^^^^^^^^^^^^^^^^^^^^^^^^^^^^^^^^^^^^^^^^^^^^^^^^^^\n",
      "  File \"c:\\Users\\heide\\AppData\\Local\\Programs\\Python\\Python311\\Lib\\site-packages\\pytensor\\link\\c\\op.py\", line 119, in make_thunk\n",
      "    return self.make_c_thunk(node, storage_map, compute_map, no_recycling)\n",
      "           ^^^^^^^^^^^^^^^^^^^^^^^^^^^^^^^^^^^^^^^^^^^^^^^^^^^^^^^^^^^^^^^\n",
      "  File \"c:\\Users\\heide\\AppData\\Local\\Programs\\Python\\Python311\\Lib\\site-packages\\pytensor\\link\\c\\op.py\", line 84, in make_c_thunk\n",
      "    outputs = cl.make_thunk(\n",
      "              ^^^^^^^^^^^^^^\n",
      "  File \"c:\\Users\\heide\\AppData\\Local\\Programs\\Python\\Python311\\Lib\\site-packages\\pytensor\\link\\c\\basic.py\", line 1186, in make_thunk\n",
      "    cthunk, module, in_storage, out_storage, error_storage = self.__compile__(\n",
      "                                                             ^^^^^^^^^^^^^^^^^\n",
      "  File \"c:\\Users\\heide\\AppData\\Local\\Programs\\Python\\Python311\\Lib\\site-packages\\pytensor\\link\\c\\basic.py\", line 1103, in __compile__\n",
      "    thunk, module = self.cthunk_factory(\n",
      "                    ^^^^^^^^^^^^^^^^^^^^\n",
      "  File \"c:\\Users\\heide\\AppData\\Local\\Programs\\Python\\Python311\\Lib\\site-packages\\pytensor\\link\\c\\basic.py\", line 1631, in cthunk_factory\n",
      "    module = cache.module_from_key(key=key, lnk=self)\n",
      "             ^^^^^^^^^^^^^^^^^^^^^^^^^^^^^^^^^^^^^^^^\n",
      "  File \"c:\\Users\\heide\\AppData\\Local\\Programs\\Python\\Python311\\Lib\\site-packages\\pytensor\\link\\c\\cmodule.py\", line 1250, in module_from_key\n",
      "    module = lnk.compile_cmodule(location)\n",
      "             ^^^^^^^^^^^^^^^^^^^^^^^^^^^^^\n",
      "  File \"c:\\Users\\heide\\AppData\\Local\\Programs\\Python\\Python311\\Lib\\site-packages\\pytensor\\link\\c\\basic.py\", line 1532, in compile_cmodule\n",
      "    module = c_compiler.compile_str(\n",
      "             ^^^^^^^^^^^^^^^^^^^^^^^\n",
      "  File \"c:\\Users\\heide\\AppData\\Local\\Programs\\Python\\Python311\\Lib\\site-packages\\pytensor\\link\\c\\cmodule.py\", line 2676, in compile_str\n",
      "    raise CompileError(\n",
      "pytensor.link.c.exceptions.CompileError: Compilation failed (return status=1):\n",
      "\"C:\\MinGW\\bin\\g++.EXE\" -shared -g -O3 -fno-math-errno -Wno-unused-label -Wno-unused-variable -Wno-write-strings -Wno-c++11-narrowing -fno-exceptions -fno-unwind-tables -fno-asynchronous-unwind-tables -DNPY_NO_DEPRECATED_API=NPY_1_7_API_VERSION -m64 -DMS_WIN64 -I\"c:\\Users\\heide\\AppData\\Local\\Programs\\Python\\Python311\\Lib\\site-packages\\numpy\\core\\include\" -I\"c:\\Users\\heide\\AppData\\Local\\Programs\\Python\\Python311\\include\" -I\"c:\\Users\\heide\\AppData\\Local\\Programs\\Python\\Python311\\Lib\\site-packages\\pytensor\\link\\c\\c_code\" -L\"c:\\Users\\heide\\AppData\\Local\\Programs\\Python\\Python311\\libs\" -L\"c:\\Users\\heide\\AppData\\Local\\Programs\\Python\\Python311\" -o \"C:\\Users\\heide\\AppData\\Local\\PyTensor\\compiledir_Windows-10-10.0.26100-SP0-Intel64_Family_6_Model_142_Stepping_12_GenuineIntel-3.11.2-64\\tmp_fi3c81i\\mb6f1e8579abe30c0c86446f2fbb427a9f4b7a7d31869ca3f714512641236ab19.pyd\" \"C:\\Users\\heide\\AppData\\Local\\PyTensor\\compiledir_Windows-10-10.0.26100-SP0-Intel64_Family_6_Model_142_Stepping_12_GenuineIntel-3.11.2-64\\tmp_fi3c81i\\mod.cpp\" \"c:\\Users\\heide\\AppData\\Local\\Programs\\Python\\Python311\\python311.dll\"\n",
      "C:\\Users\\heide\\AppData\\Local\\PyTensor\\compiledir_Windows-10-10.0.26100-SP0-Intel64_Family_6_Model_142_Stepping_12_GenuineIntel-3.11.2-64\\tmp_fi3c81i\\mod.cpp:1:0: sorry, unimplemented: 64-bit mode not compiled in\n",
      " #include <Python.h>\n",
      " \n",
      "\n",
      "\n"
     ]
    },
    {
     "name": "stdout",
     "output_type": "stream",
     "text": [
      "\n",
      "You can find the C code in this temporary file: C:\\Users\\heide\\AppData\\Local\\Temp\\pytensor_compilation_error_zv7ed438\n"
     ]
    },
    {
     "name": "stderr",
     "output_type": "stream",
     "text": [
      "ERROR (pytensor.graph.rewriting.basic): Rewrite failure due to: constant_folding\n",
      "ERROR (pytensor.graph.rewriting.basic): node: Neq(-5, -inf)\n",
      "ERROR (pytensor.graph.rewriting.basic): TRACEBACK:\n",
      "ERROR (pytensor.graph.rewriting.basic): Traceback (most recent call last):\n",
      "  File \"c:\\Users\\heide\\AppData\\Local\\Programs\\Python\\Python311\\Lib\\site-packages\\pytensor\\graph\\rewriting\\basic.py\", line 1916, in process_node\n",
      "    replacements = node_rewriter.transform(fgraph, node)\n",
      "                   ^^^^^^^^^^^^^^^^^^^^^^^^^^^^^^^^^^^^^\n",
      "  File \"c:\\Users\\heide\\AppData\\Local\\Programs\\Python\\Python311\\Lib\\site-packages\\pytensor\\graph\\rewriting\\basic.py\", line 1086, in transform\n",
      "    return self.fn(fgraph, node)\n",
      "           ^^^^^^^^^^^^^^^^^^^^^\n",
      "  File \"c:\\Users\\heide\\AppData\\Local\\Programs\\Python\\Python311\\Lib\\site-packages\\pytensor\\tensor\\rewriting\\basic.py\", line 1173, in constant_folding\n",
      "    return unconditional_constant_folding.transform(fgraph, node)\n",
      "           ^^^^^^^^^^^^^^^^^^^^^^^^^^^^^^^^^^^^^^^^^^^^^^^^^^^^^^\n",
      "  File \"c:\\Users\\heide\\AppData\\Local\\Programs\\Python\\Python311\\Lib\\site-packages\\pytensor\\graph\\rewriting\\basic.py\", line 1086, in transform\n",
      "    return self.fn(fgraph, node)\n",
      "           ^^^^^^^^^^^^^^^^^^^^^\n",
      "  File \"c:\\Users\\heide\\AppData\\Local\\Programs\\Python\\Python311\\Lib\\site-packages\\pytensor\\tensor\\rewriting\\basic.py\", line 1122, in unconditional_constant_folding\n",
      "    thunk = node.op.make_thunk(node, storage_map, compute_map, no_recycling=[])\n",
      "            ^^^^^^^^^^^^^^^^^^^^^^^^^^^^^^^^^^^^^^^^^^^^^^^^^^^^^^^^^^^^^^^^^^^\n",
      "  File \"c:\\Users\\heide\\AppData\\Local\\Programs\\Python\\Python311\\Lib\\site-packages\\pytensor\\link\\c\\op.py\", line 119, in make_thunk\n",
      "    return self.make_c_thunk(node, storage_map, compute_map, no_recycling)\n",
      "           ^^^^^^^^^^^^^^^^^^^^^^^^^^^^^^^^^^^^^^^^^^^^^^^^^^^^^^^^^^^^^^^\n",
      "  File \"c:\\Users\\heide\\AppData\\Local\\Programs\\Python\\Python311\\Lib\\site-packages\\pytensor\\link\\c\\op.py\", line 84, in make_c_thunk\n",
      "    outputs = cl.make_thunk(\n",
      "              ^^^^^^^^^^^^^^\n",
      "  File \"c:\\Users\\heide\\AppData\\Local\\Programs\\Python\\Python311\\Lib\\site-packages\\pytensor\\link\\c\\basic.py\", line 1186, in make_thunk\n",
      "    cthunk, module, in_storage, out_storage, error_storage = self.__compile__(\n",
      "                                                             ^^^^^^^^^^^^^^^^^\n",
      "  File \"c:\\Users\\heide\\AppData\\Local\\Programs\\Python\\Python311\\Lib\\site-packages\\pytensor\\link\\c\\basic.py\", line 1103, in __compile__\n",
      "    thunk, module = self.cthunk_factory(\n",
      "                    ^^^^^^^^^^^^^^^^^^^^\n",
      "  File \"c:\\Users\\heide\\AppData\\Local\\Programs\\Python\\Python311\\Lib\\site-packages\\pytensor\\link\\c\\basic.py\", line 1631, in cthunk_factory\n",
      "    module = cache.module_from_key(key=key, lnk=self)\n",
      "             ^^^^^^^^^^^^^^^^^^^^^^^^^^^^^^^^^^^^^^^^\n",
      "  File \"c:\\Users\\heide\\AppData\\Local\\Programs\\Python\\Python311\\Lib\\site-packages\\pytensor\\link\\c\\cmodule.py\", line 1250, in module_from_key\n",
      "    module = lnk.compile_cmodule(location)\n",
      "             ^^^^^^^^^^^^^^^^^^^^^^^^^^^^^\n",
      "  File \"c:\\Users\\heide\\AppData\\Local\\Programs\\Python\\Python311\\Lib\\site-packages\\pytensor\\link\\c\\basic.py\", line 1532, in compile_cmodule\n",
      "    module = c_compiler.compile_str(\n",
      "             ^^^^^^^^^^^^^^^^^^^^^^^\n",
      "  File \"c:\\Users\\heide\\AppData\\Local\\Programs\\Python\\Python311\\Lib\\site-packages\\pytensor\\link\\c\\cmodule.py\", line 2676, in compile_str\n",
      "    raise CompileError(\n",
      "pytensor.link.c.exceptions.CompileError: Compilation failed (return status=1):\n",
      "\"C:\\MinGW\\bin\\g++.EXE\" -shared -g -O3 -fno-math-errno -Wno-unused-label -Wno-unused-variable -Wno-write-strings -Wno-c++11-narrowing -fno-exceptions -fno-unwind-tables -fno-asynchronous-unwind-tables -DNPY_NO_DEPRECATED_API=NPY_1_7_API_VERSION -m64 -DMS_WIN64 -I\"c:\\Users\\heide\\AppData\\Local\\Programs\\Python\\Python311\\Lib\\site-packages\\numpy\\core\\include\" -I\"c:\\Users\\heide\\AppData\\Local\\Programs\\Python\\Python311\\include\" -I\"c:\\Users\\heide\\AppData\\Local\\Programs\\Python\\Python311\\Lib\\site-packages\\pytensor\\link\\c\\c_code\" -L\"c:\\Users\\heide\\AppData\\Local\\Programs\\Python\\Python311\\libs\" -L\"c:\\Users\\heide\\AppData\\Local\\Programs\\Python\\Python311\" -o \"C:\\Users\\heide\\AppData\\Local\\PyTensor\\compiledir_Windows-10-10.0.26100-SP0-Intel64_Family_6_Model_142_Stepping_12_GenuineIntel-3.11.2-64\\tmpoz1k10h5\\mb6f1e8579abe30c0c86446f2fbb427a9f4b7a7d31869ca3f714512641236ab19.pyd\" \"C:\\Users\\heide\\AppData\\Local\\PyTensor\\compiledir_Windows-10-10.0.26100-SP0-Intel64_Family_6_Model_142_Stepping_12_GenuineIntel-3.11.2-64\\tmpoz1k10h5\\mod.cpp\" \"c:\\Users\\heide\\AppData\\Local\\Programs\\Python\\Python311\\python311.dll\"\n",
      "C:\\Users\\heide\\AppData\\Local\\PyTensor\\compiledir_Windows-10-10.0.26100-SP0-Intel64_Family_6_Model_142_Stepping_12_GenuineIntel-3.11.2-64\\tmpoz1k10h5\\mod.cpp:1:0: sorry, unimplemented: 64-bit mode not compiled in\n",
      " #include <Python.h>\n",
      " \n",
      "\n",
      "\n"
     ]
    },
    {
     "name": "stdout",
     "output_type": "stream",
     "text": [
      "\n",
      "You can find the C code in this temporary file: C:\\Users\\heide\\AppData\\Local\\Temp\\pytensor_compilation_error__2bquk7_\n"
     ]
    },
    {
     "name": "stderr",
     "output_type": "stream",
     "text": [
      "ERROR (pytensor.graph.rewriting.basic): Rewrite failure due to: constant_folding\n",
      "ERROR (pytensor.graph.rewriting.basic): node: Neq(10, inf)\n",
      "ERROR (pytensor.graph.rewriting.basic): TRACEBACK:\n",
      "ERROR (pytensor.graph.rewriting.basic): Traceback (most recent call last):\n",
      "  File \"c:\\Users\\heide\\AppData\\Local\\Programs\\Python\\Python311\\Lib\\site-packages\\pytensor\\graph\\rewriting\\basic.py\", line 1916, in process_node\n",
      "    replacements = node_rewriter.transform(fgraph, node)\n",
      "                   ^^^^^^^^^^^^^^^^^^^^^^^^^^^^^^^^^^^^^\n",
      "  File \"c:\\Users\\heide\\AppData\\Local\\Programs\\Python\\Python311\\Lib\\site-packages\\pytensor\\graph\\rewriting\\basic.py\", line 1086, in transform\n",
      "    return self.fn(fgraph, node)\n",
      "           ^^^^^^^^^^^^^^^^^^^^^\n",
      "  File \"c:\\Users\\heide\\AppData\\Local\\Programs\\Python\\Python311\\Lib\\site-packages\\pytensor\\tensor\\rewriting\\basic.py\", line 1173, in constant_folding\n",
      "    return unconditional_constant_folding.transform(fgraph, node)\n",
      "           ^^^^^^^^^^^^^^^^^^^^^^^^^^^^^^^^^^^^^^^^^^^^^^^^^^^^^^\n",
      "  File \"c:\\Users\\heide\\AppData\\Local\\Programs\\Python\\Python311\\Lib\\site-packages\\pytensor\\graph\\rewriting\\basic.py\", line 1086, in transform\n",
      "    return self.fn(fgraph, node)\n",
      "           ^^^^^^^^^^^^^^^^^^^^^\n",
      "  File \"c:\\Users\\heide\\AppData\\Local\\Programs\\Python\\Python311\\Lib\\site-packages\\pytensor\\tensor\\rewriting\\basic.py\", line 1122, in unconditional_constant_folding\n",
      "    thunk = node.op.make_thunk(node, storage_map, compute_map, no_recycling=[])\n",
      "            ^^^^^^^^^^^^^^^^^^^^^^^^^^^^^^^^^^^^^^^^^^^^^^^^^^^^^^^^^^^^^^^^^^^\n",
      "  File \"c:\\Users\\heide\\AppData\\Local\\Programs\\Python\\Python311\\Lib\\site-packages\\pytensor\\link\\c\\op.py\", line 119, in make_thunk\n",
      "    return self.make_c_thunk(node, storage_map, compute_map, no_recycling)\n",
      "           ^^^^^^^^^^^^^^^^^^^^^^^^^^^^^^^^^^^^^^^^^^^^^^^^^^^^^^^^^^^^^^^\n",
      "  File \"c:\\Users\\heide\\AppData\\Local\\Programs\\Python\\Python311\\Lib\\site-packages\\pytensor\\link\\c\\op.py\", line 84, in make_c_thunk\n",
      "    outputs = cl.make_thunk(\n",
      "              ^^^^^^^^^^^^^^\n",
      "  File \"c:\\Users\\heide\\AppData\\Local\\Programs\\Python\\Python311\\Lib\\site-packages\\pytensor\\link\\c\\basic.py\", line 1186, in make_thunk\n",
      "    cthunk, module, in_storage, out_storage, error_storage = self.__compile__(\n",
      "                                                             ^^^^^^^^^^^^^^^^^\n",
      "  File \"c:\\Users\\heide\\AppData\\Local\\Programs\\Python\\Python311\\Lib\\site-packages\\pytensor\\link\\c\\basic.py\", line 1103, in __compile__\n",
      "    thunk, module = self.cthunk_factory(\n",
      "                    ^^^^^^^^^^^^^^^^^^^^\n",
      "  File \"c:\\Users\\heide\\AppData\\Local\\Programs\\Python\\Python311\\Lib\\site-packages\\pytensor\\link\\c\\basic.py\", line 1631, in cthunk_factory\n",
      "    module = cache.module_from_key(key=key, lnk=self)\n",
      "             ^^^^^^^^^^^^^^^^^^^^^^^^^^^^^^^^^^^^^^^^\n",
      "  File \"c:\\Users\\heide\\AppData\\Local\\Programs\\Python\\Python311\\Lib\\site-packages\\pytensor\\link\\c\\cmodule.py\", line 1250, in module_from_key\n",
      "    module = lnk.compile_cmodule(location)\n",
      "             ^^^^^^^^^^^^^^^^^^^^^^^^^^^^^\n",
      "  File \"c:\\Users\\heide\\AppData\\Local\\Programs\\Python\\Python311\\Lib\\site-packages\\pytensor\\link\\c\\basic.py\", line 1532, in compile_cmodule\n",
      "    module = c_compiler.compile_str(\n",
      "             ^^^^^^^^^^^^^^^^^^^^^^^\n",
      "  File \"c:\\Users\\heide\\AppData\\Local\\Programs\\Python\\Python311\\Lib\\site-packages\\pytensor\\link\\c\\cmodule.py\", line 2676, in compile_str\n",
      "    raise CompileError(\n",
      "pytensor.link.c.exceptions.CompileError: Compilation failed (return status=1):\n",
      "\"C:\\MinGW\\bin\\g++.EXE\" -shared -g -O3 -fno-math-errno -Wno-unused-label -Wno-unused-variable -Wno-write-strings -Wno-c++11-narrowing -fno-exceptions -fno-unwind-tables -fno-asynchronous-unwind-tables -DNPY_NO_DEPRECATED_API=NPY_1_7_API_VERSION -m64 -DMS_WIN64 -I\"c:\\Users\\heide\\AppData\\Local\\Programs\\Python\\Python311\\Lib\\site-packages\\numpy\\core\\include\" -I\"c:\\Users\\heide\\AppData\\Local\\Programs\\Python\\Python311\\include\" -I\"c:\\Users\\heide\\AppData\\Local\\Programs\\Python\\Python311\\Lib\\site-packages\\pytensor\\link\\c\\c_code\" -L\"c:\\Users\\heide\\AppData\\Local\\Programs\\Python\\Python311\\libs\" -L\"c:\\Users\\heide\\AppData\\Local\\Programs\\Python\\Python311\" -o \"C:\\Users\\heide\\AppData\\Local\\PyTensor\\compiledir_Windows-10-10.0.26100-SP0-Intel64_Family_6_Model_142_Stepping_12_GenuineIntel-3.11.2-64\\tmp8uyvq1l0\\mb6f1e8579abe30c0c86446f2fbb427a9f4b7a7d31869ca3f714512641236ab19.pyd\" \"C:\\Users\\heide\\AppData\\Local\\PyTensor\\compiledir_Windows-10-10.0.26100-SP0-Intel64_Family_6_Model_142_Stepping_12_GenuineIntel-3.11.2-64\\tmp8uyvq1l0\\mod.cpp\" \"c:\\Users\\heide\\AppData\\Local\\Programs\\Python\\Python311\\python311.dll\"\n",
      "C:\\Users\\heide\\AppData\\Local\\PyTensor\\compiledir_Windows-10-10.0.26100-SP0-Intel64_Family_6_Model_142_Stepping_12_GenuineIntel-3.11.2-64\\tmp8uyvq1l0\\mod.cpp:1:0: sorry, unimplemented: 64-bit mode not compiled in\n",
      " #include <Python.h>\n",
      " \n",
      "\n",
      "\n"
     ]
    },
    {
     "name": "stdout",
     "output_type": "stream",
     "text": [
      "\n",
      "You can find the C code in this temporary file: C:\\Users\\heide\\AppData\\Local\\Temp\\pytensor_compilation_error_8v5u4xkm\n"
     ]
    },
    {
     "name": "stderr",
     "output_type": "stream",
     "text": [
      "ERROR (pytensor.graph.rewriting.basic): Rewrite failure due to: constant_folding\n",
      "ERROR (pytensor.graph.rewriting.basic): node: Neq(-10, -inf)\n",
      "ERROR (pytensor.graph.rewriting.basic): TRACEBACK:\n",
      "ERROR (pytensor.graph.rewriting.basic): Traceback (most recent call last):\n",
      "  File \"c:\\Users\\heide\\AppData\\Local\\Programs\\Python\\Python311\\Lib\\site-packages\\pytensor\\graph\\rewriting\\basic.py\", line 1916, in process_node\n",
      "    replacements = node_rewriter.transform(fgraph, node)\n",
      "                   ^^^^^^^^^^^^^^^^^^^^^^^^^^^^^^^^^^^^^\n",
      "  File \"c:\\Users\\heide\\AppData\\Local\\Programs\\Python\\Python311\\Lib\\site-packages\\pytensor\\graph\\rewriting\\basic.py\", line 1086, in transform\n",
      "    return self.fn(fgraph, node)\n",
      "           ^^^^^^^^^^^^^^^^^^^^^\n",
      "  File \"c:\\Users\\heide\\AppData\\Local\\Programs\\Python\\Python311\\Lib\\site-packages\\pytensor\\tensor\\rewriting\\basic.py\", line 1173, in constant_folding\n",
      "    return unconditional_constant_folding.transform(fgraph, node)\n",
      "           ^^^^^^^^^^^^^^^^^^^^^^^^^^^^^^^^^^^^^^^^^^^^^^^^^^^^^^\n",
      "  File \"c:\\Users\\heide\\AppData\\Local\\Programs\\Python\\Python311\\Lib\\site-packages\\pytensor\\graph\\rewriting\\basic.py\", line 1086, in transform\n",
      "    return self.fn(fgraph, node)\n",
      "           ^^^^^^^^^^^^^^^^^^^^^\n",
      "  File \"c:\\Users\\heide\\AppData\\Local\\Programs\\Python\\Python311\\Lib\\site-packages\\pytensor\\tensor\\rewriting\\basic.py\", line 1122, in unconditional_constant_folding\n",
      "    thunk = node.op.make_thunk(node, storage_map, compute_map, no_recycling=[])\n",
      "            ^^^^^^^^^^^^^^^^^^^^^^^^^^^^^^^^^^^^^^^^^^^^^^^^^^^^^^^^^^^^^^^^^^^\n",
      "  File \"c:\\Users\\heide\\AppData\\Local\\Programs\\Python\\Python311\\Lib\\site-packages\\pytensor\\link\\c\\op.py\", line 119, in make_thunk\n",
      "    return self.make_c_thunk(node, storage_map, compute_map, no_recycling)\n",
      "           ^^^^^^^^^^^^^^^^^^^^^^^^^^^^^^^^^^^^^^^^^^^^^^^^^^^^^^^^^^^^^^^\n",
      "  File \"c:\\Users\\heide\\AppData\\Local\\Programs\\Python\\Python311\\Lib\\site-packages\\pytensor\\link\\c\\op.py\", line 84, in make_c_thunk\n",
      "    outputs = cl.make_thunk(\n",
      "              ^^^^^^^^^^^^^^\n",
      "  File \"c:\\Users\\heide\\AppData\\Local\\Programs\\Python\\Python311\\Lib\\site-packages\\pytensor\\link\\c\\basic.py\", line 1186, in make_thunk\n",
      "    cthunk, module, in_storage, out_storage, error_storage = self.__compile__(\n",
      "                                                             ^^^^^^^^^^^^^^^^^\n",
      "  File \"c:\\Users\\heide\\AppData\\Local\\Programs\\Python\\Python311\\Lib\\site-packages\\pytensor\\link\\c\\basic.py\", line 1103, in __compile__\n",
      "    thunk, module = self.cthunk_factory(\n",
      "                    ^^^^^^^^^^^^^^^^^^^^\n",
      "  File \"c:\\Users\\heide\\AppData\\Local\\Programs\\Python\\Python311\\Lib\\site-packages\\pytensor\\link\\c\\basic.py\", line 1631, in cthunk_factory\n",
      "    module = cache.module_from_key(key=key, lnk=self)\n",
      "             ^^^^^^^^^^^^^^^^^^^^^^^^^^^^^^^^^^^^^^^^\n",
      "  File \"c:\\Users\\heide\\AppData\\Local\\Programs\\Python\\Python311\\Lib\\site-packages\\pytensor\\link\\c\\cmodule.py\", line 1250, in module_from_key\n",
      "    module = lnk.compile_cmodule(location)\n",
      "             ^^^^^^^^^^^^^^^^^^^^^^^^^^^^^\n",
      "  File \"c:\\Users\\heide\\AppData\\Local\\Programs\\Python\\Python311\\Lib\\site-packages\\pytensor\\link\\c\\basic.py\", line 1532, in compile_cmodule\n",
      "    module = c_compiler.compile_str(\n",
      "             ^^^^^^^^^^^^^^^^^^^^^^^\n",
      "  File \"c:\\Users\\heide\\AppData\\Local\\Programs\\Python\\Python311\\Lib\\site-packages\\pytensor\\link\\c\\cmodule.py\", line 2676, in compile_str\n",
      "    raise CompileError(\n",
      "pytensor.link.c.exceptions.CompileError: Compilation failed (return status=1):\n",
      "\"C:\\MinGW\\bin\\g++.EXE\" -shared -g -O3 -fno-math-errno -Wno-unused-label -Wno-unused-variable -Wno-write-strings -Wno-c++11-narrowing -fno-exceptions -fno-unwind-tables -fno-asynchronous-unwind-tables -DNPY_NO_DEPRECATED_API=NPY_1_7_API_VERSION -m64 -DMS_WIN64 -I\"c:\\Users\\heide\\AppData\\Local\\Programs\\Python\\Python311\\Lib\\site-packages\\numpy\\core\\include\" -I\"c:\\Users\\heide\\AppData\\Local\\Programs\\Python\\Python311\\include\" -I\"c:\\Users\\heide\\AppData\\Local\\Programs\\Python\\Python311\\Lib\\site-packages\\pytensor\\link\\c\\c_code\" -L\"c:\\Users\\heide\\AppData\\Local\\Programs\\Python\\Python311\\libs\" -L\"c:\\Users\\heide\\AppData\\Local\\Programs\\Python\\Python311\" -o \"C:\\Users\\heide\\AppData\\Local\\PyTensor\\compiledir_Windows-10-10.0.26100-SP0-Intel64_Family_6_Model_142_Stepping_12_GenuineIntel-3.11.2-64\\tmpkwllaa2m\\mb6f1e8579abe30c0c86446f2fbb427a9f4b7a7d31869ca3f714512641236ab19.pyd\" \"C:\\Users\\heide\\AppData\\Local\\PyTensor\\compiledir_Windows-10-10.0.26100-SP0-Intel64_Family_6_Model_142_Stepping_12_GenuineIntel-3.11.2-64\\tmpkwllaa2m\\mod.cpp\" \"c:\\Users\\heide\\AppData\\Local\\Programs\\Python\\Python311\\python311.dll\"\n",
      "C:\\Users\\heide\\AppData\\Local\\PyTensor\\compiledir_Windows-10-10.0.26100-SP0-Intel64_Family_6_Model_142_Stepping_12_GenuineIntel-3.11.2-64\\tmpkwllaa2m\\mod.cpp:1:0: sorry, unimplemented: 64-bit mode not compiled in\n",
      " #include <Python.h>\n",
      " \n",
      "\n",
      "\n"
     ]
    },
    {
     "name": "stdout",
     "output_type": "stream",
     "text": [
      "\n",
      "You can find the C code in this temporary file: C:\\Users\\heide\\AppData\\Local\\Temp\\pytensor_compilation_error_04kwhz6n\n"
     ]
    },
    {
     "name": "stderr",
     "output_type": "stream",
     "text": [
      "ERROR (pytensor.graph.rewriting.basic): Rewrite failure due to: constant_folding\n",
      "ERROR (pytensor.graph.rewriting.basic): node: Cast{float64}(2)\n",
      "ERROR (pytensor.graph.rewriting.basic): TRACEBACK:\n",
      "ERROR (pytensor.graph.rewriting.basic): Traceback (most recent call last):\n",
      "  File \"c:\\Users\\heide\\AppData\\Local\\Programs\\Python\\Python311\\Lib\\site-packages\\pytensor\\graph\\rewriting\\basic.py\", line 1916, in process_node\n",
      "    replacements = node_rewriter.transform(fgraph, node)\n",
      "                   ^^^^^^^^^^^^^^^^^^^^^^^^^^^^^^^^^^^^^\n",
      "  File \"c:\\Users\\heide\\AppData\\Local\\Programs\\Python\\Python311\\Lib\\site-packages\\pytensor\\graph\\rewriting\\basic.py\", line 1086, in transform\n",
      "    return self.fn(fgraph, node)\n",
      "           ^^^^^^^^^^^^^^^^^^^^^\n",
      "  File \"c:\\Users\\heide\\AppData\\Local\\Programs\\Python\\Python311\\Lib\\site-packages\\pytensor\\tensor\\rewriting\\basic.py\", line 1173, in constant_folding\n",
      "    return unconditional_constant_folding.transform(fgraph, node)\n",
      "           ^^^^^^^^^^^^^^^^^^^^^^^^^^^^^^^^^^^^^^^^^^^^^^^^^^^^^^\n",
      "  File \"c:\\Users\\heide\\AppData\\Local\\Programs\\Python\\Python311\\Lib\\site-packages\\pytensor\\graph\\rewriting\\basic.py\", line 1086, in transform\n",
      "    return self.fn(fgraph, node)\n",
      "           ^^^^^^^^^^^^^^^^^^^^^\n",
      "  File \"c:\\Users\\heide\\AppData\\Local\\Programs\\Python\\Python311\\Lib\\site-packages\\pytensor\\tensor\\rewriting\\basic.py\", line 1122, in unconditional_constant_folding\n",
      "    thunk = node.op.make_thunk(node, storage_map, compute_map, no_recycling=[])\n",
      "            ^^^^^^^^^^^^^^^^^^^^^^^^^^^^^^^^^^^^^^^^^^^^^^^^^^^^^^^^^^^^^^^^^^^\n",
      "  File \"c:\\Users\\heide\\AppData\\Local\\Programs\\Python\\Python311\\Lib\\site-packages\\pytensor\\link\\c\\op.py\", line 119, in make_thunk\n",
      "    return self.make_c_thunk(node, storage_map, compute_map, no_recycling)\n",
      "           ^^^^^^^^^^^^^^^^^^^^^^^^^^^^^^^^^^^^^^^^^^^^^^^^^^^^^^^^^^^^^^^\n",
      "  File \"c:\\Users\\heide\\AppData\\Local\\Programs\\Python\\Python311\\Lib\\site-packages\\pytensor\\link\\c\\op.py\", line 84, in make_c_thunk\n",
      "    outputs = cl.make_thunk(\n",
      "              ^^^^^^^^^^^^^^\n",
      "  File \"c:\\Users\\heide\\AppData\\Local\\Programs\\Python\\Python311\\Lib\\site-packages\\pytensor\\link\\c\\basic.py\", line 1186, in make_thunk\n",
      "    cthunk, module, in_storage, out_storage, error_storage = self.__compile__(\n",
      "                                                             ^^^^^^^^^^^^^^^^^\n",
      "  File \"c:\\Users\\heide\\AppData\\Local\\Programs\\Python\\Python311\\Lib\\site-packages\\pytensor\\link\\c\\basic.py\", line 1103, in __compile__\n",
      "    thunk, module = self.cthunk_factory(\n",
      "                    ^^^^^^^^^^^^^^^^^^^^\n",
      "  File \"c:\\Users\\heide\\AppData\\Local\\Programs\\Python\\Python311\\Lib\\site-packages\\pytensor\\link\\c\\basic.py\", line 1631, in cthunk_factory\n",
      "    module = cache.module_from_key(key=key, lnk=self)\n",
      "             ^^^^^^^^^^^^^^^^^^^^^^^^^^^^^^^^^^^^^^^^\n",
      "  File \"c:\\Users\\heide\\AppData\\Local\\Programs\\Python\\Python311\\Lib\\site-packages\\pytensor\\link\\c\\cmodule.py\", line 1250, in module_from_key\n",
      "    module = lnk.compile_cmodule(location)\n",
      "             ^^^^^^^^^^^^^^^^^^^^^^^^^^^^^\n",
      "  File \"c:\\Users\\heide\\AppData\\Local\\Programs\\Python\\Python311\\Lib\\site-packages\\pytensor\\link\\c\\basic.py\", line 1532, in compile_cmodule\n",
      "    module = c_compiler.compile_str(\n",
      "             ^^^^^^^^^^^^^^^^^^^^^^^\n",
      "  File \"c:\\Users\\heide\\AppData\\Local\\Programs\\Python\\Python311\\Lib\\site-packages\\pytensor\\link\\c\\cmodule.py\", line 2676, in compile_str\n",
      "    raise CompileError(\n",
      "pytensor.link.c.exceptions.CompileError: Compilation failed (return status=1):\n",
      "\"C:\\MinGW\\bin\\g++.EXE\" -shared -g -O3 -fno-math-errno -Wno-unused-label -Wno-unused-variable -Wno-write-strings -Wno-c++11-narrowing -fno-exceptions -fno-unwind-tables -fno-asynchronous-unwind-tables -DNPY_NO_DEPRECATED_API=NPY_1_7_API_VERSION -m64 -DMS_WIN64 -I\"c:\\Users\\heide\\AppData\\Local\\Programs\\Python\\Python311\\Lib\\site-packages\\numpy\\core\\include\" -I\"c:\\Users\\heide\\AppData\\Local\\Programs\\Python\\Python311\\include\" -I\"c:\\Users\\heide\\AppData\\Local\\Programs\\Python\\Python311\\Lib\\site-packages\\pytensor\\link\\c\\c_code\" -L\"c:\\Users\\heide\\AppData\\Local\\Programs\\Python\\Python311\\libs\" -L\"c:\\Users\\heide\\AppData\\Local\\Programs\\Python\\Python311\" -o \"C:\\Users\\heide\\AppData\\Local\\PyTensor\\compiledir_Windows-10-10.0.26100-SP0-Intel64_Family_6_Model_142_Stepping_12_GenuineIntel-3.11.2-64\\tmpdkv7pm0m\\m0de214ec04e404e0b98e77bebd2d95875e2e4b7b75c150c7f6478c42e61da0fa.pyd\" \"C:\\Users\\heide\\AppData\\Local\\PyTensor\\compiledir_Windows-10-10.0.26100-SP0-Intel64_Family_6_Model_142_Stepping_12_GenuineIntel-3.11.2-64\\tmpdkv7pm0m\\mod.cpp\" \"c:\\Users\\heide\\AppData\\Local\\Programs\\Python\\Python311\\python311.dll\"\n",
      "C:\\Users\\heide\\AppData\\Local\\PyTensor\\compiledir_Windows-10-10.0.26100-SP0-Intel64_Family_6_Model_142_Stepping_12_GenuineIntel-3.11.2-64\\tmpdkv7pm0m\\mod.cpp:1:0: sorry, unimplemented: 64-bit mode not compiled in\n",
      " #include <Python.h>\n",
      " \n",
      "\n",
      "\n"
     ]
    },
    {
     "name": "stdout",
     "output_type": "stream",
     "text": [
      "\n",
      "You can find the C code in this temporary file: C:\\Users\\heide\\AppData\\Local\\Temp\\pytensor_compilation_error_2xep7bvd\n"
     ]
    },
    {
     "name": "stderr",
     "output_type": "stream",
     "text": [
      "ERROR (pytensor.graph.rewriting.basic): Rewrite failure due to: constant_folding\n",
      "ERROR (pytensor.graph.rewriting.basic): node: Cast{int8}(0.0)\n",
      "ERROR (pytensor.graph.rewriting.basic): TRACEBACK:\n",
      "ERROR (pytensor.graph.rewriting.basic): Traceback (most recent call last):\n",
      "  File \"c:\\Users\\heide\\AppData\\Local\\Programs\\Python\\Python311\\Lib\\site-packages\\pytensor\\graph\\rewriting\\basic.py\", line 1916, in process_node\n",
      "    replacements = node_rewriter.transform(fgraph, node)\n",
      "                   ^^^^^^^^^^^^^^^^^^^^^^^^^^^^^^^^^^^^^\n",
      "  File \"c:\\Users\\heide\\AppData\\Local\\Programs\\Python\\Python311\\Lib\\site-packages\\pytensor\\graph\\rewriting\\basic.py\", line 1086, in transform\n",
      "    return self.fn(fgraph, node)\n",
      "           ^^^^^^^^^^^^^^^^^^^^^\n",
      "  File \"c:\\Users\\heide\\AppData\\Local\\Programs\\Python\\Python311\\Lib\\site-packages\\pytensor\\tensor\\rewriting\\basic.py\", line 1173, in constant_folding\n",
      "    return unconditional_constant_folding.transform(fgraph, node)\n",
      "           ^^^^^^^^^^^^^^^^^^^^^^^^^^^^^^^^^^^^^^^^^^^^^^^^^^^^^^\n",
      "  File \"c:\\Users\\heide\\AppData\\Local\\Programs\\Python\\Python311\\Lib\\site-packages\\pytensor\\graph\\rewriting\\basic.py\", line 1086, in transform\n",
      "    return self.fn(fgraph, node)\n",
      "           ^^^^^^^^^^^^^^^^^^^^^\n",
      "  File \"c:\\Users\\heide\\AppData\\Local\\Programs\\Python\\Python311\\Lib\\site-packages\\pytensor\\tensor\\rewriting\\basic.py\", line 1122, in unconditional_constant_folding\n",
      "    thunk = node.op.make_thunk(node, storage_map, compute_map, no_recycling=[])\n",
      "            ^^^^^^^^^^^^^^^^^^^^^^^^^^^^^^^^^^^^^^^^^^^^^^^^^^^^^^^^^^^^^^^^^^^\n",
      "  File \"c:\\Users\\heide\\AppData\\Local\\Programs\\Python\\Python311\\Lib\\site-packages\\pytensor\\link\\c\\op.py\", line 119, in make_thunk\n",
      "    return self.make_c_thunk(node, storage_map, compute_map, no_recycling)\n",
      "           ^^^^^^^^^^^^^^^^^^^^^^^^^^^^^^^^^^^^^^^^^^^^^^^^^^^^^^^^^^^^^^^\n",
      "  File \"c:\\Users\\heide\\AppData\\Local\\Programs\\Python\\Python311\\Lib\\site-packages\\pytensor\\link\\c\\op.py\", line 84, in make_c_thunk\n",
      "    outputs = cl.make_thunk(\n",
      "              ^^^^^^^^^^^^^^\n",
      "  File \"c:\\Users\\heide\\AppData\\Local\\Programs\\Python\\Python311\\Lib\\site-packages\\pytensor\\link\\c\\basic.py\", line 1186, in make_thunk\n",
      "    cthunk, module, in_storage, out_storage, error_storage = self.__compile__(\n",
      "                                                             ^^^^^^^^^^^^^^^^^\n",
      "  File \"c:\\Users\\heide\\AppData\\Local\\Programs\\Python\\Python311\\Lib\\site-packages\\pytensor\\link\\c\\basic.py\", line 1103, in __compile__\n",
      "    thunk, module = self.cthunk_factory(\n",
      "                    ^^^^^^^^^^^^^^^^^^^^\n",
      "  File \"c:\\Users\\heide\\AppData\\Local\\Programs\\Python\\Python311\\Lib\\site-packages\\pytensor\\link\\c\\basic.py\", line 1631, in cthunk_factory\n",
      "    module = cache.module_from_key(key=key, lnk=self)\n",
      "             ^^^^^^^^^^^^^^^^^^^^^^^^^^^^^^^^^^^^^^^^\n",
      "  File \"c:\\Users\\heide\\AppData\\Local\\Programs\\Python\\Python311\\Lib\\site-packages\\pytensor\\link\\c\\cmodule.py\", line 1250, in module_from_key\n",
      "    module = lnk.compile_cmodule(location)\n",
      "             ^^^^^^^^^^^^^^^^^^^^^^^^^^^^^\n",
      "  File \"c:\\Users\\heide\\AppData\\Local\\Programs\\Python\\Python311\\Lib\\site-packages\\pytensor\\link\\c\\basic.py\", line 1532, in compile_cmodule\n",
      "    module = c_compiler.compile_str(\n",
      "             ^^^^^^^^^^^^^^^^^^^^^^^\n",
      "  File \"c:\\Users\\heide\\AppData\\Local\\Programs\\Python\\Python311\\Lib\\site-packages\\pytensor\\link\\c\\cmodule.py\", line 2676, in compile_str\n",
      "    raise CompileError(\n",
      "pytensor.link.c.exceptions.CompileError: Compilation failed (return status=1):\n",
      "\"C:\\MinGW\\bin\\g++.EXE\" -shared -g -O3 -fno-math-errno -Wno-unused-label -Wno-unused-variable -Wno-write-strings -Wno-c++11-narrowing -fno-exceptions -fno-unwind-tables -fno-asynchronous-unwind-tables -DNPY_NO_DEPRECATED_API=NPY_1_7_API_VERSION -m64 -DMS_WIN64 -I\"c:\\Users\\heide\\AppData\\Local\\Programs\\Python\\Python311\\Lib\\site-packages\\numpy\\core\\include\" -I\"c:\\Users\\heide\\AppData\\Local\\Programs\\Python\\Python311\\include\" -I\"c:\\Users\\heide\\AppData\\Local\\Programs\\Python\\Python311\\Lib\\site-packages\\pytensor\\link\\c\\c_code\" -L\"c:\\Users\\heide\\AppData\\Local\\Programs\\Python\\Python311\\libs\" -L\"c:\\Users\\heide\\AppData\\Local\\Programs\\Python\\Python311\" -o \"C:\\Users\\heide\\AppData\\Local\\PyTensor\\compiledir_Windows-10-10.0.26100-SP0-Intel64_Family_6_Model_142_Stepping_12_GenuineIntel-3.11.2-64\\tmpfbdnwwrl\\m6cb3241bd421ed5f56fd21968ddbea043bbcaf47e91f2bc3e57711e9d18390ca.pyd\" \"C:\\Users\\heide\\AppData\\Local\\PyTensor\\compiledir_Windows-10-10.0.26100-SP0-Intel64_Family_6_Model_142_Stepping_12_GenuineIntel-3.11.2-64\\tmpfbdnwwrl\\mod.cpp\" \"c:\\Users\\heide\\AppData\\Local\\Programs\\Python\\Python311\\python311.dll\"\n",
      "C:\\Users\\heide\\AppData\\Local\\PyTensor\\compiledir_Windows-10-10.0.26100-SP0-Intel64_Family_6_Model_142_Stepping_12_GenuineIntel-3.11.2-64\\tmpfbdnwwrl\\mod.cpp:1:0: sorry, unimplemented: 64-bit mode not compiled in\n",
      " #include <Python.h>\n",
      " \n",
      "\n",
      "\n"
     ]
    },
    {
     "name": "stdout",
     "output_type": "stream",
     "text": [
      "\n",
      "You can find the C code in this temporary file: C:\\Users\\heide\\AppData\\Local\\Temp\\pytensor_compilation_error_t5l4buz5\n"
     ]
    },
    {
     "name": "stderr",
     "output_type": "stream",
     "text": [
      "ERROR (pytensor.graph.rewriting.basic): Rewrite failure due to: constant_folding\n",
      "ERROR (pytensor.graph.rewriting.basic): node: Neq(5, inf)\n",
      "ERROR (pytensor.graph.rewriting.basic): TRACEBACK:\n",
      "ERROR (pytensor.graph.rewriting.basic): Traceback (most recent call last):\n",
      "  File \"c:\\Users\\heide\\AppData\\Local\\Programs\\Python\\Python311\\Lib\\site-packages\\pytensor\\graph\\rewriting\\basic.py\", line 1916, in process_node\n",
      "    replacements = node_rewriter.transform(fgraph, node)\n",
      "                   ^^^^^^^^^^^^^^^^^^^^^^^^^^^^^^^^^^^^^\n",
      "  File \"c:\\Users\\heide\\AppData\\Local\\Programs\\Python\\Python311\\Lib\\site-packages\\pytensor\\graph\\rewriting\\basic.py\", line 1086, in transform\n",
      "    return self.fn(fgraph, node)\n",
      "           ^^^^^^^^^^^^^^^^^^^^^\n",
      "  File \"c:\\Users\\heide\\AppData\\Local\\Programs\\Python\\Python311\\Lib\\site-packages\\pytensor\\tensor\\rewriting\\basic.py\", line 1173, in constant_folding\n",
      "    return unconditional_constant_folding.transform(fgraph, node)\n",
      "           ^^^^^^^^^^^^^^^^^^^^^^^^^^^^^^^^^^^^^^^^^^^^^^^^^^^^^^\n",
      "  File \"c:\\Users\\heide\\AppData\\Local\\Programs\\Python\\Python311\\Lib\\site-packages\\pytensor\\graph\\rewriting\\basic.py\", line 1086, in transform\n",
      "    return self.fn(fgraph, node)\n",
      "           ^^^^^^^^^^^^^^^^^^^^^\n",
      "  File \"c:\\Users\\heide\\AppData\\Local\\Programs\\Python\\Python311\\Lib\\site-packages\\pytensor\\tensor\\rewriting\\basic.py\", line 1122, in unconditional_constant_folding\n",
      "    thunk = node.op.make_thunk(node, storage_map, compute_map, no_recycling=[])\n",
      "            ^^^^^^^^^^^^^^^^^^^^^^^^^^^^^^^^^^^^^^^^^^^^^^^^^^^^^^^^^^^^^^^^^^^\n",
      "  File \"c:\\Users\\heide\\AppData\\Local\\Programs\\Python\\Python311\\Lib\\site-packages\\pytensor\\link\\c\\op.py\", line 119, in make_thunk\n",
      "    return self.make_c_thunk(node, storage_map, compute_map, no_recycling)\n",
      "           ^^^^^^^^^^^^^^^^^^^^^^^^^^^^^^^^^^^^^^^^^^^^^^^^^^^^^^^^^^^^^^^\n",
      "  File \"c:\\Users\\heide\\AppData\\Local\\Programs\\Python\\Python311\\Lib\\site-packages\\pytensor\\link\\c\\op.py\", line 84, in make_c_thunk\n",
      "    outputs = cl.make_thunk(\n",
      "              ^^^^^^^^^^^^^^\n",
      "  File \"c:\\Users\\heide\\AppData\\Local\\Programs\\Python\\Python311\\Lib\\site-packages\\pytensor\\link\\c\\basic.py\", line 1186, in make_thunk\n",
      "    cthunk, module, in_storage, out_storage, error_storage = self.__compile__(\n",
      "                                                             ^^^^^^^^^^^^^^^^^\n",
      "  File \"c:\\Users\\heide\\AppData\\Local\\Programs\\Python\\Python311\\Lib\\site-packages\\pytensor\\link\\c\\basic.py\", line 1103, in __compile__\n",
      "    thunk, module = self.cthunk_factory(\n",
      "                    ^^^^^^^^^^^^^^^^^^^^\n",
      "  File \"c:\\Users\\heide\\AppData\\Local\\Programs\\Python\\Python311\\Lib\\site-packages\\pytensor\\link\\c\\basic.py\", line 1631, in cthunk_factory\n",
      "    module = cache.module_from_key(key=key, lnk=self)\n",
      "             ^^^^^^^^^^^^^^^^^^^^^^^^^^^^^^^^^^^^^^^^\n",
      "  File \"c:\\Users\\heide\\AppData\\Local\\Programs\\Python\\Python311\\Lib\\site-packages\\pytensor\\link\\c\\cmodule.py\", line 1250, in module_from_key\n",
      "    module = lnk.compile_cmodule(location)\n",
      "             ^^^^^^^^^^^^^^^^^^^^^^^^^^^^^\n",
      "  File \"c:\\Users\\heide\\AppData\\Local\\Programs\\Python\\Python311\\Lib\\site-packages\\pytensor\\link\\c\\basic.py\", line 1532, in compile_cmodule\n",
      "    module = c_compiler.compile_str(\n",
      "             ^^^^^^^^^^^^^^^^^^^^^^^\n",
      "  File \"c:\\Users\\heide\\AppData\\Local\\Programs\\Python\\Python311\\Lib\\site-packages\\pytensor\\link\\c\\cmodule.py\", line 2676, in compile_str\n",
      "    raise CompileError(\n",
      "pytensor.link.c.exceptions.CompileError: Compilation failed (return status=1):\n",
      "\"C:\\MinGW\\bin\\g++.EXE\" -shared -g -O3 -fno-math-errno -Wno-unused-label -Wno-unused-variable -Wno-write-strings -Wno-c++11-narrowing -fno-exceptions -fno-unwind-tables -fno-asynchronous-unwind-tables -DNPY_NO_DEPRECATED_API=NPY_1_7_API_VERSION -m64 -DMS_WIN64 -I\"c:\\Users\\heide\\AppData\\Local\\Programs\\Python\\Python311\\Lib\\site-packages\\numpy\\core\\include\" -I\"c:\\Users\\heide\\AppData\\Local\\Programs\\Python\\Python311\\include\" -I\"c:\\Users\\heide\\AppData\\Local\\Programs\\Python\\Python311\\Lib\\site-packages\\pytensor\\link\\c\\c_code\" -L\"c:\\Users\\heide\\AppData\\Local\\Programs\\Python\\Python311\\libs\" -L\"c:\\Users\\heide\\AppData\\Local\\Programs\\Python\\Python311\" -o \"C:\\Users\\heide\\AppData\\Local\\PyTensor\\compiledir_Windows-10-10.0.26100-SP0-Intel64_Family_6_Model_142_Stepping_12_GenuineIntel-3.11.2-64\\tmpn172haut\\mb6f1e8579abe30c0c86446f2fbb427a9f4b7a7d31869ca3f714512641236ab19.pyd\" \"C:\\Users\\heide\\AppData\\Local\\PyTensor\\compiledir_Windows-10-10.0.26100-SP0-Intel64_Family_6_Model_142_Stepping_12_GenuineIntel-3.11.2-64\\tmpn172haut\\mod.cpp\" \"c:\\Users\\heide\\AppData\\Local\\Programs\\Python\\Python311\\python311.dll\"\n",
      "C:\\Users\\heide\\AppData\\Local\\PyTensor\\compiledir_Windows-10-10.0.26100-SP0-Intel64_Family_6_Model_142_Stepping_12_GenuineIntel-3.11.2-64\\tmpn172haut\\mod.cpp:1:0: sorry, unimplemented: 64-bit mode not compiled in\n",
      " #include <Python.h>\n",
      " \n",
      "\n",
      "\n"
     ]
    },
    {
     "name": "stdout",
     "output_type": "stream",
     "text": [
      "\n",
      "You can find the C code in this temporary file: C:\\Users\\heide\\AppData\\Local\\Temp\\pytensor_compilation_error_ffmha05l\n"
     ]
    },
    {
     "name": "stderr",
     "output_type": "stream",
     "text": [
      "ERROR (pytensor.graph.rewriting.basic): Rewrite failure due to: constant_folding\n",
      "ERROR (pytensor.graph.rewriting.basic): node: Neq(-5, -inf)\n",
      "ERROR (pytensor.graph.rewriting.basic): TRACEBACK:\n",
      "ERROR (pytensor.graph.rewriting.basic): Traceback (most recent call last):\n",
      "  File \"c:\\Users\\heide\\AppData\\Local\\Programs\\Python\\Python311\\Lib\\site-packages\\pytensor\\graph\\rewriting\\basic.py\", line 1916, in process_node\n",
      "    replacements = node_rewriter.transform(fgraph, node)\n",
      "                   ^^^^^^^^^^^^^^^^^^^^^^^^^^^^^^^^^^^^^\n",
      "  File \"c:\\Users\\heide\\AppData\\Local\\Programs\\Python\\Python311\\Lib\\site-packages\\pytensor\\graph\\rewriting\\basic.py\", line 1086, in transform\n",
      "    return self.fn(fgraph, node)\n",
      "           ^^^^^^^^^^^^^^^^^^^^^\n",
      "  File \"c:\\Users\\heide\\AppData\\Local\\Programs\\Python\\Python311\\Lib\\site-packages\\pytensor\\tensor\\rewriting\\basic.py\", line 1173, in constant_folding\n",
      "    return unconditional_constant_folding.transform(fgraph, node)\n",
      "           ^^^^^^^^^^^^^^^^^^^^^^^^^^^^^^^^^^^^^^^^^^^^^^^^^^^^^^\n",
      "  File \"c:\\Users\\heide\\AppData\\Local\\Programs\\Python\\Python311\\Lib\\site-packages\\pytensor\\graph\\rewriting\\basic.py\", line 1086, in transform\n",
      "    return self.fn(fgraph, node)\n",
      "           ^^^^^^^^^^^^^^^^^^^^^\n",
      "  File \"c:\\Users\\heide\\AppData\\Local\\Programs\\Python\\Python311\\Lib\\site-packages\\pytensor\\tensor\\rewriting\\basic.py\", line 1122, in unconditional_constant_folding\n",
      "    thunk = node.op.make_thunk(node, storage_map, compute_map, no_recycling=[])\n",
      "            ^^^^^^^^^^^^^^^^^^^^^^^^^^^^^^^^^^^^^^^^^^^^^^^^^^^^^^^^^^^^^^^^^^^\n",
      "  File \"c:\\Users\\heide\\AppData\\Local\\Programs\\Python\\Python311\\Lib\\site-packages\\pytensor\\link\\c\\op.py\", line 119, in make_thunk\n",
      "    return self.make_c_thunk(node, storage_map, compute_map, no_recycling)\n",
      "           ^^^^^^^^^^^^^^^^^^^^^^^^^^^^^^^^^^^^^^^^^^^^^^^^^^^^^^^^^^^^^^^\n",
      "  File \"c:\\Users\\heide\\AppData\\Local\\Programs\\Python\\Python311\\Lib\\site-packages\\pytensor\\link\\c\\op.py\", line 84, in make_c_thunk\n",
      "    outputs = cl.make_thunk(\n",
      "              ^^^^^^^^^^^^^^\n",
      "  File \"c:\\Users\\heide\\AppData\\Local\\Programs\\Python\\Python311\\Lib\\site-packages\\pytensor\\link\\c\\basic.py\", line 1186, in make_thunk\n",
      "    cthunk, module, in_storage, out_storage, error_storage = self.__compile__(\n",
      "                                                             ^^^^^^^^^^^^^^^^^\n",
      "  File \"c:\\Users\\heide\\AppData\\Local\\Programs\\Python\\Python311\\Lib\\site-packages\\pytensor\\link\\c\\basic.py\", line 1103, in __compile__\n",
      "    thunk, module = self.cthunk_factory(\n",
      "                    ^^^^^^^^^^^^^^^^^^^^\n",
      "  File \"c:\\Users\\heide\\AppData\\Local\\Programs\\Python\\Python311\\Lib\\site-packages\\pytensor\\link\\c\\basic.py\", line 1631, in cthunk_factory\n",
      "    module = cache.module_from_key(key=key, lnk=self)\n",
      "             ^^^^^^^^^^^^^^^^^^^^^^^^^^^^^^^^^^^^^^^^\n",
      "  File \"c:\\Users\\heide\\AppData\\Local\\Programs\\Python\\Python311\\Lib\\site-packages\\pytensor\\link\\c\\cmodule.py\", line 1250, in module_from_key\n",
      "    module = lnk.compile_cmodule(location)\n",
      "             ^^^^^^^^^^^^^^^^^^^^^^^^^^^^^\n",
      "  File \"c:\\Users\\heide\\AppData\\Local\\Programs\\Python\\Python311\\Lib\\site-packages\\pytensor\\link\\c\\basic.py\", line 1532, in compile_cmodule\n",
      "    module = c_compiler.compile_str(\n",
      "             ^^^^^^^^^^^^^^^^^^^^^^^\n",
      "  File \"c:\\Users\\heide\\AppData\\Local\\Programs\\Python\\Python311\\Lib\\site-packages\\pytensor\\link\\c\\cmodule.py\", line 2676, in compile_str\n",
      "    raise CompileError(\n",
      "pytensor.link.c.exceptions.CompileError: Compilation failed (return status=1):\n",
      "\"C:\\MinGW\\bin\\g++.EXE\" -shared -g -O3 -fno-math-errno -Wno-unused-label -Wno-unused-variable -Wno-write-strings -Wno-c++11-narrowing -fno-exceptions -fno-unwind-tables -fno-asynchronous-unwind-tables -DNPY_NO_DEPRECATED_API=NPY_1_7_API_VERSION -m64 -DMS_WIN64 -I\"c:\\Users\\heide\\AppData\\Local\\Programs\\Python\\Python311\\Lib\\site-packages\\numpy\\core\\include\" -I\"c:\\Users\\heide\\AppData\\Local\\Programs\\Python\\Python311\\include\" -I\"c:\\Users\\heide\\AppData\\Local\\Programs\\Python\\Python311\\Lib\\site-packages\\pytensor\\link\\c\\c_code\" -L\"c:\\Users\\heide\\AppData\\Local\\Programs\\Python\\Python311\\libs\" -L\"c:\\Users\\heide\\AppData\\Local\\Programs\\Python\\Python311\" -o \"C:\\Users\\heide\\AppData\\Local\\PyTensor\\compiledir_Windows-10-10.0.26100-SP0-Intel64_Family_6_Model_142_Stepping_12_GenuineIntel-3.11.2-64\\tmpdlwvwntq\\mb6f1e8579abe30c0c86446f2fbb427a9f4b7a7d31869ca3f714512641236ab19.pyd\" \"C:\\Users\\heide\\AppData\\Local\\PyTensor\\compiledir_Windows-10-10.0.26100-SP0-Intel64_Family_6_Model_142_Stepping_12_GenuineIntel-3.11.2-64\\tmpdlwvwntq\\mod.cpp\" \"c:\\Users\\heide\\AppData\\Local\\Programs\\Python\\Python311\\python311.dll\"\n",
      "C:\\Users\\heide\\AppData\\Local\\PyTensor\\compiledir_Windows-10-10.0.26100-SP0-Intel64_Family_6_Model_142_Stepping_12_GenuineIntel-3.11.2-64\\tmpdlwvwntq\\mod.cpp:1:0: sorry, unimplemented: 64-bit mode not compiled in\n",
      " #include <Python.h>\n",
      " \n",
      "\n",
      "\n"
     ]
    },
    {
     "name": "stdout",
     "output_type": "stream",
     "text": [
      "\n",
      "You can find the C code in this temporary file: C:\\Users\\heide\\AppData\\Local\\Temp\\pytensor_compilation_error_l4prqtwh\n"
     ]
    },
    {
     "name": "stderr",
     "output_type": "stream",
     "text": [
      "ERROR (pytensor.graph.rewriting.basic): Rewrite failure due to: constant_folding\n",
      "ERROR (pytensor.graph.rewriting.basic): node: Neq(10, inf)\n",
      "ERROR (pytensor.graph.rewriting.basic): TRACEBACK:\n",
      "ERROR (pytensor.graph.rewriting.basic): Traceback (most recent call last):\n",
      "  File \"c:\\Users\\heide\\AppData\\Local\\Programs\\Python\\Python311\\Lib\\site-packages\\pytensor\\graph\\rewriting\\basic.py\", line 1916, in process_node\n",
      "    replacements = node_rewriter.transform(fgraph, node)\n",
      "                   ^^^^^^^^^^^^^^^^^^^^^^^^^^^^^^^^^^^^^\n",
      "  File \"c:\\Users\\heide\\AppData\\Local\\Programs\\Python\\Python311\\Lib\\site-packages\\pytensor\\graph\\rewriting\\basic.py\", line 1086, in transform\n",
      "    return self.fn(fgraph, node)\n",
      "           ^^^^^^^^^^^^^^^^^^^^^\n",
      "  File \"c:\\Users\\heide\\AppData\\Local\\Programs\\Python\\Python311\\Lib\\site-packages\\pytensor\\tensor\\rewriting\\basic.py\", line 1173, in constant_folding\n",
      "    return unconditional_constant_folding.transform(fgraph, node)\n",
      "           ^^^^^^^^^^^^^^^^^^^^^^^^^^^^^^^^^^^^^^^^^^^^^^^^^^^^^^\n",
      "  File \"c:\\Users\\heide\\AppData\\Local\\Programs\\Python\\Python311\\Lib\\site-packages\\pytensor\\graph\\rewriting\\basic.py\", line 1086, in transform\n",
      "    return self.fn(fgraph, node)\n",
      "           ^^^^^^^^^^^^^^^^^^^^^\n",
      "  File \"c:\\Users\\heide\\AppData\\Local\\Programs\\Python\\Python311\\Lib\\site-packages\\pytensor\\tensor\\rewriting\\basic.py\", line 1122, in unconditional_constant_folding\n",
      "    thunk = node.op.make_thunk(node, storage_map, compute_map, no_recycling=[])\n",
      "            ^^^^^^^^^^^^^^^^^^^^^^^^^^^^^^^^^^^^^^^^^^^^^^^^^^^^^^^^^^^^^^^^^^^\n",
      "  File \"c:\\Users\\heide\\AppData\\Local\\Programs\\Python\\Python311\\Lib\\site-packages\\pytensor\\link\\c\\op.py\", line 119, in make_thunk\n",
      "    return self.make_c_thunk(node, storage_map, compute_map, no_recycling)\n",
      "           ^^^^^^^^^^^^^^^^^^^^^^^^^^^^^^^^^^^^^^^^^^^^^^^^^^^^^^^^^^^^^^^\n",
      "  File \"c:\\Users\\heide\\AppData\\Local\\Programs\\Python\\Python311\\Lib\\site-packages\\pytensor\\link\\c\\op.py\", line 84, in make_c_thunk\n",
      "    outputs = cl.make_thunk(\n",
      "              ^^^^^^^^^^^^^^\n",
      "  File \"c:\\Users\\heide\\AppData\\Local\\Programs\\Python\\Python311\\Lib\\site-packages\\pytensor\\link\\c\\basic.py\", line 1186, in make_thunk\n",
      "    cthunk, module, in_storage, out_storage, error_storage = self.__compile__(\n",
      "                                                             ^^^^^^^^^^^^^^^^^\n",
      "  File \"c:\\Users\\heide\\AppData\\Local\\Programs\\Python\\Python311\\Lib\\site-packages\\pytensor\\link\\c\\basic.py\", line 1103, in __compile__\n",
      "    thunk, module = self.cthunk_factory(\n",
      "                    ^^^^^^^^^^^^^^^^^^^^\n",
      "  File \"c:\\Users\\heide\\AppData\\Local\\Programs\\Python\\Python311\\Lib\\site-packages\\pytensor\\link\\c\\basic.py\", line 1631, in cthunk_factory\n",
      "    module = cache.module_from_key(key=key, lnk=self)\n",
      "             ^^^^^^^^^^^^^^^^^^^^^^^^^^^^^^^^^^^^^^^^\n",
      "  File \"c:\\Users\\heide\\AppData\\Local\\Programs\\Python\\Python311\\Lib\\site-packages\\pytensor\\link\\c\\cmodule.py\", line 1250, in module_from_key\n",
      "    module = lnk.compile_cmodule(location)\n",
      "             ^^^^^^^^^^^^^^^^^^^^^^^^^^^^^\n",
      "  File \"c:\\Users\\heide\\AppData\\Local\\Programs\\Python\\Python311\\Lib\\site-packages\\pytensor\\link\\c\\basic.py\", line 1532, in compile_cmodule\n",
      "    module = c_compiler.compile_str(\n",
      "             ^^^^^^^^^^^^^^^^^^^^^^^\n",
      "  File \"c:\\Users\\heide\\AppData\\Local\\Programs\\Python\\Python311\\Lib\\site-packages\\pytensor\\link\\c\\cmodule.py\", line 2676, in compile_str\n",
      "    raise CompileError(\n",
      "pytensor.link.c.exceptions.CompileError: Compilation failed (return status=1):\n",
      "\"C:\\MinGW\\bin\\g++.EXE\" -shared -g -O3 -fno-math-errno -Wno-unused-label -Wno-unused-variable -Wno-write-strings -Wno-c++11-narrowing -fno-exceptions -fno-unwind-tables -fno-asynchronous-unwind-tables -DNPY_NO_DEPRECATED_API=NPY_1_7_API_VERSION -m64 -DMS_WIN64 -I\"c:\\Users\\heide\\AppData\\Local\\Programs\\Python\\Python311\\Lib\\site-packages\\numpy\\core\\include\" -I\"c:\\Users\\heide\\AppData\\Local\\Programs\\Python\\Python311\\include\" -I\"c:\\Users\\heide\\AppData\\Local\\Programs\\Python\\Python311\\Lib\\site-packages\\pytensor\\link\\c\\c_code\" -L\"c:\\Users\\heide\\AppData\\Local\\Programs\\Python\\Python311\\libs\" -L\"c:\\Users\\heide\\AppData\\Local\\Programs\\Python\\Python311\" -o \"C:\\Users\\heide\\AppData\\Local\\PyTensor\\compiledir_Windows-10-10.0.26100-SP0-Intel64_Family_6_Model_142_Stepping_12_GenuineIntel-3.11.2-64\\tmpisvfexq1\\mb6f1e8579abe30c0c86446f2fbb427a9f4b7a7d31869ca3f714512641236ab19.pyd\" \"C:\\Users\\heide\\AppData\\Local\\PyTensor\\compiledir_Windows-10-10.0.26100-SP0-Intel64_Family_6_Model_142_Stepping_12_GenuineIntel-3.11.2-64\\tmpisvfexq1\\mod.cpp\" \"c:\\Users\\heide\\AppData\\Local\\Programs\\Python\\Python311\\python311.dll\"\n",
      "C:\\Users\\heide\\AppData\\Local\\PyTensor\\compiledir_Windows-10-10.0.26100-SP0-Intel64_Family_6_Model_142_Stepping_12_GenuineIntel-3.11.2-64\\tmpisvfexq1\\mod.cpp:1:0: sorry, unimplemented: 64-bit mode not compiled in\n",
      " #include <Python.h>\n",
      " \n",
      "\n",
      "\n"
     ]
    },
    {
     "name": "stdout",
     "output_type": "stream",
     "text": [
      "\n",
      "You can find the C code in this temporary file: C:\\Users\\heide\\AppData\\Local\\Temp\\pytensor_compilation_error_34z27eir\n"
     ]
    },
    {
     "name": "stderr",
     "output_type": "stream",
     "text": [
      "ERROR (pytensor.graph.rewriting.basic): Rewrite failure due to: constant_folding\n",
      "ERROR (pytensor.graph.rewriting.basic): node: Neq(-10, -inf)\n",
      "ERROR (pytensor.graph.rewriting.basic): TRACEBACK:\n",
      "ERROR (pytensor.graph.rewriting.basic): Traceback (most recent call last):\n",
      "  File \"c:\\Users\\heide\\AppData\\Local\\Programs\\Python\\Python311\\Lib\\site-packages\\pytensor\\graph\\rewriting\\basic.py\", line 1916, in process_node\n",
      "    replacements = node_rewriter.transform(fgraph, node)\n",
      "                   ^^^^^^^^^^^^^^^^^^^^^^^^^^^^^^^^^^^^^\n",
      "  File \"c:\\Users\\heide\\AppData\\Local\\Programs\\Python\\Python311\\Lib\\site-packages\\pytensor\\graph\\rewriting\\basic.py\", line 1086, in transform\n",
      "    return self.fn(fgraph, node)\n",
      "           ^^^^^^^^^^^^^^^^^^^^^\n",
      "  File \"c:\\Users\\heide\\AppData\\Local\\Programs\\Python\\Python311\\Lib\\site-packages\\pytensor\\tensor\\rewriting\\basic.py\", line 1173, in constant_folding\n",
      "    return unconditional_constant_folding.transform(fgraph, node)\n",
      "           ^^^^^^^^^^^^^^^^^^^^^^^^^^^^^^^^^^^^^^^^^^^^^^^^^^^^^^\n",
      "  File \"c:\\Users\\heide\\AppData\\Local\\Programs\\Python\\Python311\\Lib\\site-packages\\pytensor\\graph\\rewriting\\basic.py\", line 1086, in transform\n",
      "    return self.fn(fgraph, node)\n",
      "           ^^^^^^^^^^^^^^^^^^^^^\n",
      "  File \"c:\\Users\\heide\\AppData\\Local\\Programs\\Python\\Python311\\Lib\\site-packages\\pytensor\\tensor\\rewriting\\basic.py\", line 1122, in unconditional_constant_folding\n",
      "    thunk = node.op.make_thunk(node, storage_map, compute_map, no_recycling=[])\n",
      "            ^^^^^^^^^^^^^^^^^^^^^^^^^^^^^^^^^^^^^^^^^^^^^^^^^^^^^^^^^^^^^^^^^^^\n",
      "  File \"c:\\Users\\heide\\AppData\\Local\\Programs\\Python\\Python311\\Lib\\site-packages\\pytensor\\link\\c\\op.py\", line 119, in make_thunk\n",
      "    return self.make_c_thunk(node, storage_map, compute_map, no_recycling)\n",
      "           ^^^^^^^^^^^^^^^^^^^^^^^^^^^^^^^^^^^^^^^^^^^^^^^^^^^^^^^^^^^^^^^\n",
      "  File \"c:\\Users\\heide\\AppData\\Local\\Programs\\Python\\Python311\\Lib\\site-packages\\pytensor\\link\\c\\op.py\", line 84, in make_c_thunk\n",
      "    outputs = cl.make_thunk(\n",
      "              ^^^^^^^^^^^^^^\n",
      "  File \"c:\\Users\\heide\\AppData\\Local\\Programs\\Python\\Python311\\Lib\\site-packages\\pytensor\\link\\c\\basic.py\", line 1186, in make_thunk\n",
      "    cthunk, module, in_storage, out_storage, error_storage = self.__compile__(\n",
      "                                                             ^^^^^^^^^^^^^^^^^\n",
      "  File \"c:\\Users\\heide\\AppData\\Local\\Programs\\Python\\Python311\\Lib\\site-packages\\pytensor\\link\\c\\basic.py\", line 1103, in __compile__\n",
      "    thunk, module = self.cthunk_factory(\n",
      "                    ^^^^^^^^^^^^^^^^^^^^\n",
      "  File \"c:\\Users\\heide\\AppData\\Local\\Programs\\Python\\Python311\\Lib\\site-packages\\pytensor\\link\\c\\basic.py\", line 1631, in cthunk_factory\n",
      "    module = cache.module_from_key(key=key, lnk=self)\n",
      "             ^^^^^^^^^^^^^^^^^^^^^^^^^^^^^^^^^^^^^^^^\n",
      "  File \"c:\\Users\\heide\\AppData\\Local\\Programs\\Python\\Python311\\Lib\\site-packages\\pytensor\\link\\c\\cmodule.py\", line 1250, in module_from_key\n",
      "    module = lnk.compile_cmodule(location)\n",
      "             ^^^^^^^^^^^^^^^^^^^^^^^^^^^^^\n",
      "  File \"c:\\Users\\heide\\AppData\\Local\\Programs\\Python\\Python311\\Lib\\site-packages\\pytensor\\link\\c\\basic.py\", line 1532, in compile_cmodule\n",
      "    module = c_compiler.compile_str(\n",
      "             ^^^^^^^^^^^^^^^^^^^^^^^\n",
      "  File \"c:\\Users\\heide\\AppData\\Local\\Programs\\Python\\Python311\\Lib\\site-packages\\pytensor\\link\\c\\cmodule.py\", line 2676, in compile_str\n",
      "    raise CompileError(\n",
      "pytensor.link.c.exceptions.CompileError: Compilation failed (return status=1):\n",
      "\"C:\\MinGW\\bin\\g++.EXE\" -shared -g -O3 -fno-math-errno -Wno-unused-label -Wno-unused-variable -Wno-write-strings -Wno-c++11-narrowing -fno-exceptions -fno-unwind-tables -fno-asynchronous-unwind-tables -DNPY_NO_DEPRECATED_API=NPY_1_7_API_VERSION -m64 -DMS_WIN64 -I\"c:\\Users\\heide\\AppData\\Local\\Programs\\Python\\Python311\\Lib\\site-packages\\numpy\\core\\include\" -I\"c:\\Users\\heide\\AppData\\Local\\Programs\\Python\\Python311\\include\" -I\"c:\\Users\\heide\\AppData\\Local\\Programs\\Python\\Python311\\Lib\\site-packages\\pytensor\\link\\c\\c_code\" -L\"c:\\Users\\heide\\AppData\\Local\\Programs\\Python\\Python311\\libs\" -L\"c:\\Users\\heide\\AppData\\Local\\Programs\\Python\\Python311\" -o \"C:\\Users\\heide\\AppData\\Local\\PyTensor\\compiledir_Windows-10-10.0.26100-SP0-Intel64_Family_6_Model_142_Stepping_12_GenuineIntel-3.11.2-64\\tmpnn7zbv2l\\mb6f1e8579abe30c0c86446f2fbb427a9f4b7a7d31869ca3f714512641236ab19.pyd\" \"C:\\Users\\heide\\AppData\\Local\\PyTensor\\compiledir_Windows-10-10.0.26100-SP0-Intel64_Family_6_Model_142_Stepping_12_GenuineIntel-3.11.2-64\\tmpnn7zbv2l\\mod.cpp\" \"c:\\Users\\heide\\AppData\\Local\\Programs\\Python\\Python311\\python311.dll\"\n",
      "C:\\Users\\heide\\AppData\\Local\\PyTensor\\compiledir_Windows-10-10.0.26100-SP0-Intel64_Family_6_Model_142_Stepping_12_GenuineIntel-3.11.2-64\\tmpnn7zbv2l\\mod.cpp:1:0: sorry, unimplemented: 64-bit mode not compiled in\n",
      " #include <Python.h>\n",
      " \n",
      "\n",
      "\n"
     ]
    },
    {
     "name": "stdout",
     "output_type": "stream",
     "text": [
      "\n",
      "You can find the C code in this temporary file: C:\\Users\\heide\\AppData\\Local\\Temp\\pytensor_compilation_error__zqa8def\n"
     ]
    },
    {
     "name": "stderr",
     "output_type": "stream",
     "text": [
      "ERROR (pytensor.graph.rewriting.basic): Rewrite failure due to: constant_folding\n",
      "ERROR (pytensor.graph.rewriting.basic): node: Cast{float64}(2)\n",
      "ERROR (pytensor.graph.rewriting.basic): TRACEBACK:\n",
      "ERROR (pytensor.graph.rewriting.basic): Traceback (most recent call last):\n",
      "  File \"c:\\Users\\heide\\AppData\\Local\\Programs\\Python\\Python311\\Lib\\site-packages\\pytensor\\graph\\rewriting\\basic.py\", line 1916, in process_node\n",
      "    replacements = node_rewriter.transform(fgraph, node)\n",
      "                   ^^^^^^^^^^^^^^^^^^^^^^^^^^^^^^^^^^^^^\n",
      "  File \"c:\\Users\\heide\\AppData\\Local\\Programs\\Python\\Python311\\Lib\\site-packages\\pytensor\\graph\\rewriting\\basic.py\", line 1086, in transform\n",
      "    return self.fn(fgraph, node)\n",
      "           ^^^^^^^^^^^^^^^^^^^^^\n",
      "  File \"c:\\Users\\heide\\AppData\\Local\\Programs\\Python\\Python311\\Lib\\site-packages\\pytensor\\tensor\\rewriting\\basic.py\", line 1173, in constant_folding\n",
      "    return unconditional_constant_folding.transform(fgraph, node)\n",
      "           ^^^^^^^^^^^^^^^^^^^^^^^^^^^^^^^^^^^^^^^^^^^^^^^^^^^^^^\n",
      "  File \"c:\\Users\\heide\\AppData\\Local\\Programs\\Python\\Python311\\Lib\\site-packages\\pytensor\\graph\\rewriting\\basic.py\", line 1086, in transform\n",
      "    return self.fn(fgraph, node)\n",
      "           ^^^^^^^^^^^^^^^^^^^^^\n",
      "  File \"c:\\Users\\heide\\AppData\\Local\\Programs\\Python\\Python311\\Lib\\site-packages\\pytensor\\tensor\\rewriting\\basic.py\", line 1122, in unconditional_constant_folding\n",
      "    thunk = node.op.make_thunk(node, storage_map, compute_map, no_recycling=[])\n",
      "            ^^^^^^^^^^^^^^^^^^^^^^^^^^^^^^^^^^^^^^^^^^^^^^^^^^^^^^^^^^^^^^^^^^^\n",
      "  File \"c:\\Users\\heide\\AppData\\Local\\Programs\\Python\\Python311\\Lib\\site-packages\\pytensor\\link\\c\\op.py\", line 119, in make_thunk\n",
      "    return self.make_c_thunk(node, storage_map, compute_map, no_recycling)\n",
      "           ^^^^^^^^^^^^^^^^^^^^^^^^^^^^^^^^^^^^^^^^^^^^^^^^^^^^^^^^^^^^^^^\n",
      "  File \"c:\\Users\\heide\\AppData\\Local\\Programs\\Python\\Python311\\Lib\\site-packages\\pytensor\\link\\c\\op.py\", line 84, in make_c_thunk\n",
      "    outputs = cl.make_thunk(\n",
      "              ^^^^^^^^^^^^^^\n",
      "  File \"c:\\Users\\heide\\AppData\\Local\\Programs\\Python\\Python311\\Lib\\site-packages\\pytensor\\link\\c\\basic.py\", line 1186, in make_thunk\n",
      "    cthunk, module, in_storage, out_storage, error_storage = self.__compile__(\n",
      "                                                             ^^^^^^^^^^^^^^^^^\n",
      "  File \"c:\\Users\\heide\\AppData\\Local\\Programs\\Python\\Python311\\Lib\\site-packages\\pytensor\\link\\c\\basic.py\", line 1103, in __compile__\n",
      "    thunk, module = self.cthunk_factory(\n",
      "                    ^^^^^^^^^^^^^^^^^^^^\n",
      "  File \"c:\\Users\\heide\\AppData\\Local\\Programs\\Python\\Python311\\Lib\\site-packages\\pytensor\\link\\c\\basic.py\", line 1631, in cthunk_factory\n",
      "    module = cache.module_from_key(key=key, lnk=self)\n",
      "             ^^^^^^^^^^^^^^^^^^^^^^^^^^^^^^^^^^^^^^^^\n",
      "  File \"c:\\Users\\heide\\AppData\\Local\\Programs\\Python\\Python311\\Lib\\site-packages\\pytensor\\link\\c\\cmodule.py\", line 1250, in module_from_key\n",
      "    module = lnk.compile_cmodule(location)\n",
      "             ^^^^^^^^^^^^^^^^^^^^^^^^^^^^^\n",
      "  File \"c:\\Users\\heide\\AppData\\Local\\Programs\\Python\\Python311\\Lib\\site-packages\\pytensor\\link\\c\\basic.py\", line 1532, in compile_cmodule\n",
      "    module = c_compiler.compile_str(\n",
      "             ^^^^^^^^^^^^^^^^^^^^^^^\n",
      "  File \"c:\\Users\\heide\\AppData\\Local\\Programs\\Python\\Python311\\Lib\\site-packages\\pytensor\\link\\c\\cmodule.py\", line 2676, in compile_str\n",
      "    raise CompileError(\n",
      "pytensor.link.c.exceptions.CompileError: Compilation failed (return status=1):\n",
      "\"C:\\MinGW\\bin\\g++.EXE\" -shared -g -O3 -fno-math-errno -Wno-unused-label -Wno-unused-variable -Wno-write-strings -Wno-c++11-narrowing -fno-exceptions -fno-unwind-tables -fno-asynchronous-unwind-tables -DNPY_NO_DEPRECATED_API=NPY_1_7_API_VERSION -m64 -DMS_WIN64 -I\"c:\\Users\\heide\\AppData\\Local\\Programs\\Python\\Python311\\Lib\\site-packages\\numpy\\core\\include\" -I\"c:\\Users\\heide\\AppData\\Local\\Programs\\Python\\Python311\\include\" -I\"c:\\Users\\heide\\AppData\\Local\\Programs\\Python\\Python311\\Lib\\site-packages\\pytensor\\link\\c\\c_code\" -L\"c:\\Users\\heide\\AppData\\Local\\Programs\\Python\\Python311\\libs\" -L\"c:\\Users\\heide\\AppData\\Local\\Programs\\Python\\Python311\" -o \"C:\\Users\\heide\\AppData\\Local\\PyTensor\\compiledir_Windows-10-10.0.26100-SP0-Intel64_Family_6_Model_142_Stepping_12_GenuineIntel-3.11.2-64\\tmpob390qd0\\m0de214ec04e404e0b98e77bebd2d95875e2e4b7b75c150c7f6478c42e61da0fa.pyd\" \"C:\\Users\\heide\\AppData\\Local\\PyTensor\\compiledir_Windows-10-10.0.26100-SP0-Intel64_Family_6_Model_142_Stepping_12_GenuineIntel-3.11.2-64\\tmpob390qd0\\mod.cpp\" \"c:\\Users\\heide\\AppData\\Local\\Programs\\Python\\Python311\\python311.dll\"\n",
      "C:\\Users\\heide\\AppData\\Local\\PyTensor\\compiledir_Windows-10-10.0.26100-SP0-Intel64_Family_6_Model_142_Stepping_12_GenuineIntel-3.11.2-64\\tmpob390qd0\\mod.cpp:1:0: sorry, unimplemented: 64-bit mode not compiled in\n",
      " #include <Python.h>\n",
      " \n",
      "\n",
      "\n"
     ]
    },
    {
     "name": "stdout",
     "output_type": "stream",
     "text": [
      "\n",
      "You can find the C code in this temporary file: C:\\Users\\heide\\AppData\\Local\\Temp\\pytensor_compilation_error__8h_epph\n",
      "\n",
      "You can find the C code in this temporary file: C:\\Users\\heide\\AppData\\Local\\Temp\\pytensor_compilation_error_sh7enqh2\n"
     ]
    },
    {
     "name": "stderr",
     "output_type": "stream",
     "text": [
      "ERROR (pytensor.graph.rewriting.basic): Rewrite failure due to: constant_folding\n",
      "ERROR (pytensor.graph.rewriting.basic): node: Cast{int8}(0.0)\n",
      "ERROR (pytensor.graph.rewriting.basic): TRACEBACK:\n",
      "ERROR (pytensor.graph.rewriting.basic): Traceback (most recent call last):\n",
      "  File \"c:\\Users\\heide\\AppData\\Local\\Programs\\Python\\Python311\\Lib\\site-packages\\pytensor\\graph\\rewriting\\basic.py\", line 1916, in process_node\n",
      "    replacements = node_rewriter.transform(fgraph, node)\n",
      "                   ^^^^^^^^^^^^^^^^^^^^^^^^^^^^^^^^^^^^^\n",
      "  File \"c:\\Users\\heide\\AppData\\Local\\Programs\\Python\\Python311\\Lib\\site-packages\\pytensor\\graph\\rewriting\\basic.py\", line 1086, in transform\n",
      "    return self.fn(fgraph, node)\n",
      "           ^^^^^^^^^^^^^^^^^^^^^\n",
      "  File \"c:\\Users\\heide\\AppData\\Local\\Programs\\Python\\Python311\\Lib\\site-packages\\pytensor\\tensor\\rewriting\\basic.py\", line 1173, in constant_folding\n",
      "    return unconditional_constant_folding.transform(fgraph, node)\n",
      "           ^^^^^^^^^^^^^^^^^^^^^^^^^^^^^^^^^^^^^^^^^^^^^^^^^^^^^^\n",
      "  File \"c:\\Users\\heide\\AppData\\Local\\Programs\\Python\\Python311\\Lib\\site-packages\\pytensor\\graph\\rewriting\\basic.py\", line 1086, in transform\n",
      "    return self.fn(fgraph, node)\n",
      "           ^^^^^^^^^^^^^^^^^^^^^\n",
      "  File \"c:\\Users\\heide\\AppData\\Local\\Programs\\Python\\Python311\\Lib\\site-packages\\pytensor\\tensor\\rewriting\\basic.py\", line 1122, in unconditional_constant_folding\n",
      "    thunk = node.op.make_thunk(node, storage_map, compute_map, no_recycling=[])\n",
      "            ^^^^^^^^^^^^^^^^^^^^^^^^^^^^^^^^^^^^^^^^^^^^^^^^^^^^^^^^^^^^^^^^^^^\n",
      "  File \"c:\\Users\\heide\\AppData\\Local\\Programs\\Python\\Python311\\Lib\\site-packages\\pytensor\\link\\c\\op.py\", line 119, in make_thunk\n",
      "    return self.make_c_thunk(node, storage_map, compute_map, no_recycling)\n",
      "           ^^^^^^^^^^^^^^^^^^^^^^^^^^^^^^^^^^^^^^^^^^^^^^^^^^^^^^^^^^^^^^^\n",
      "  File \"c:\\Users\\heide\\AppData\\Local\\Programs\\Python\\Python311\\Lib\\site-packages\\pytensor\\link\\c\\op.py\", line 84, in make_c_thunk\n",
      "    outputs = cl.make_thunk(\n",
      "              ^^^^^^^^^^^^^^\n",
      "  File \"c:\\Users\\heide\\AppData\\Local\\Programs\\Python\\Python311\\Lib\\site-packages\\pytensor\\link\\c\\basic.py\", line 1186, in make_thunk\n",
      "    cthunk, module, in_storage, out_storage, error_storage = self.__compile__(\n",
      "                                                             ^^^^^^^^^^^^^^^^^\n",
      "  File \"c:\\Users\\heide\\AppData\\Local\\Programs\\Python\\Python311\\Lib\\site-packages\\pytensor\\link\\c\\basic.py\", line 1103, in __compile__\n",
      "    thunk, module = self.cthunk_factory(\n",
      "                    ^^^^^^^^^^^^^^^^^^^^\n",
      "  File \"c:\\Users\\heide\\AppData\\Local\\Programs\\Python\\Python311\\Lib\\site-packages\\pytensor\\link\\c\\basic.py\", line 1631, in cthunk_factory\n",
      "    module = cache.module_from_key(key=key, lnk=self)\n",
      "             ^^^^^^^^^^^^^^^^^^^^^^^^^^^^^^^^^^^^^^^^\n",
      "  File \"c:\\Users\\heide\\AppData\\Local\\Programs\\Python\\Python311\\Lib\\site-packages\\pytensor\\link\\c\\cmodule.py\", line 1250, in module_from_key\n",
      "    module = lnk.compile_cmodule(location)\n",
      "             ^^^^^^^^^^^^^^^^^^^^^^^^^^^^^\n",
      "  File \"c:\\Users\\heide\\AppData\\Local\\Programs\\Python\\Python311\\Lib\\site-packages\\pytensor\\link\\c\\basic.py\", line 1532, in compile_cmodule\n",
      "    module = c_compiler.compile_str(\n",
      "             ^^^^^^^^^^^^^^^^^^^^^^^\n",
      "  File \"c:\\Users\\heide\\AppData\\Local\\Programs\\Python\\Python311\\Lib\\site-packages\\pytensor\\link\\c\\cmodule.py\", line 2676, in compile_str\n",
      "    raise CompileError(\n",
      "pytensor.link.c.exceptions.CompileError: Compilation failed (return status=1):\n",
      "\"C:\\MinGW\\bin\\g++.EXE\" -shared -g -O3 -fno-math-errno -Wno-unused-label -Wno-unused-variable -Wno-write-strings -Wno-c++11-narrowing -fno-exceptions -fno-unwind-tables -fno-asynchronous-unwind-tables -DNPY_NO_DEPRECATED_API=NPY_1_7_API_VERSION -m64 -DMS_WIN64 -I\"c:\\Users\\heide\\AppData\\Local\\Programs\\Python\\Python311\\Lib\\site-packages\\numpy\\core\\include\" -I\"c:\\Users\\heide\\AppData\\Local\\Programs\\Python\\Python311\\include\" -I\"c:\\Users\\heide\\AppData\\Local\\Programs\\Python\\Python311\\Lib\\site-packages\\pytensor\\link\\c\\c_code\" -L\"c:\\Users\\heide\\AppData\\Local\\Programs\\Python\\Python311\\libs\" -L\"c:\\Users\\heide\\AppData\\Local\\Programs\\Python\\Python311\" -o \"C:\\Users\\heide\\AppData\\Local\\PyTensor\\compiledir_Windows-10-10.0.26100-SP0-Intel64_Family_6_Model_142_Stepping_12_GenuineIntel-3.11.2-64\\tmpis_myc77\\m6cb3241bd421ed5f56fd21968ddbea043bbcaf47e91f2bc3e57711e9d18390ca.pyd\" \"C:\\Users\\heide\\AppData\\Local\\PyTensor\\compiledir_Windows-10-10.0.26100-SP0-Intel64_Family_6_Model_142_Stepping_12_GenuineIntel-3.11.2-64\\tmpis_myc77\\mod.cpp\" \"c:\\Users\\heide\\AppData\\Local\\Programs\\Python\\Python311\\python311.dll\"\n",
      "C:\\Users\\heide\\AppData\\Local\\PyTensor\\compiledir_Windows-10-10.0.26100-SP0-Intel64_Family_6_Model_142_Stepping_12_GenuineIntel-3.11.2-64\\tmpis_myc77\\mod.cpp:1:0: sorry, unimplemented: 64-bit mode not compiled in\n",
      " #include <Python.h>\n",
      " \n",
      "\n",
      "\n",
      "ERROR (pytensor.graph.rewriting.basic): Rewrite failure due to: constant_folding\n",
      "ERROR (pytensor.graph.rewriting.basic): node: Neq(5, inf)\n",
      "ERROR (pytensor.graph.rewriting.basic): TRACEBACK:\n",
      "ERROR (pytensor.graph.rewriting.basic): Traceback (most recent call last):\n",
      "  File \"c:\\Users\\heide\\AppData\\Local\\Programs\\Python\\Python311\\Lib\\site-packages\\pytensor\\graph\\rewriting\\basic.py\", line 1916, in process_node\n",
      "    replacements = node_rewriter.transform(fgraph, node)\n",
      "                   ^^^^^^^^^^^^^^^^^^^^^^^^^^^^^^^^^^^^^\n",
      "  File \"c:\\Users\\heide\\AppData\\Local\\Programs\\Python\\Python311\\Lib\\site-packages\\pytensor\\graph\\rewriting\\basic.py\", line 1086, in transform\n",
      "    return self.fn(fgraph, node)\n",
      "           ^^^^^^^^^^^^^^^^^^^^^\n",
      "  File \"c:\\Users\\heide\\AppData\\Local\\Programs\\Python\\Python311\\Lib\\site-packages\\pytensor\\tensor\\rewriting\\basic.py\", line 1173, in constant_folding\n",
      "    return unconditional_constant_folding.transform(fgraph, node)\n",
      "           ^^^^^^^^^^^^^^^^^^^^^^^^^^^^^^^^^^^^^^^^^^^^^^^^^^^^^^\n",
      "  File \"c:\\Users\\heide\\AppData\\Local\\Programs\\Python\\Python311\\Lib\\site-packages\\pytensor\\graph\\rewriting\\basic.py\", line 1086, in transform\n",
      "    return self.fn(fgraph, node)\n",
      "           ^^^^^^^^^^^^^^^^^^^^^\n",
      "  File \"c:\\Users\\heide\\AppData\\Local\\Programs\\Python\\Python311\\Lib\\site-packages\\pytensor\\tensor\\rewriting\\basic.py\", line 1122, in unconditional_constant_folding\n",
      "    thunk = node.op.make_thunk(node, storage_map, compute_map, no_recycling=[])\n",
      "            ^^^^^^^^^^^^^^^^^^^^^^^^^^^^^^^^^^^^^^^^^^^^^^^^^^^^^^^^^^^^^^^^^^^\n",
      "  File \"c:\\Users\\heide\\AppData\\Local\\Programs\\Python\\Python311\\Lib\\site-packages\\pytensor\\link\\c\\op.py\", line 119, in make_thunk\n",
      "    return self.make_c_thunk(node, storage_map, compute_map, no_recycling)\n",
      "           ^^^^^^^^^^^^^^^^^^^^^^^^^^^^^^^^^^^^^^^^^^^^^^^^^^^^^^^^^^^^^^^\n",
      "  File \"c:\\Users\\heide\\AppData\\Local\\Programs\\Python\\Python311\\Lib\\site-packages\\pytensor\\link\\c\\op.py\", line 84, in make_c_thunk\n",
      "    outputs = cl.make_thunk(\n",
      "              ^^^^^^^^^^^^^^\n",
      "  File \"c:\\Users\\heide\\AppData\\Local\\Programs\\Python\\Python311\\Lib\\site-packages\\pytensor\\link\\c\\basic.py\", line 1186, in make_thunk\n",
      "    cthunk, module, in_storage, out_storage, error_storage = self.__compile__(\n",
      "                                                             ^^^^^^^^^^^^^^^^^\n",
      "  File \"c:\\Users\\heide\\AppData\\Local\\Programs\\Python\\Python311\\Lib\\site-packages\\pytensor\\link\\c\\basic.py\", line 1103, in __compile__\n",
      "    thunk, module = self.cthunk_factory(\n",
      "                    ^^^^^^^^^^^^^^^^^^^^\n",
      "  File \"c:\\Users\\heide\\AppData\\Local\\Programs\\Python\\Python311\\Lib\\site-packages\\pytensor\\link\\c\\basic.py\", line 1631, in cthunk_factory\n",
      "    module = cache.module_from_key(key=key, lnk=self)\n",
      "             ^^^^^^^^^^^^^^^^^^^^^^^^^^^^^^^^^^^^^^^^\n",
      "  File \"c:\\Users\\heide\\AppData\\Local\\Programs\\Python\\Python311\\Lib\\site-packages\\pytensor\\link\\c\\cmodule.py\", line 1250, in module_from_key\n",
      "    module = lnk.compile_cmodule(location)\n",
      "             ^^^^^^^^^^^^^^^^^^^^^^^^^^^^^\n",
      "  File \"c:\\Users\\heide\\AppData\\Local\\Programs\\Python\\Python311\\Lib\\site-packages\\pytensor\\link\\c\\basic.py\", line 1532, in compile_cmodule\n",
      "    module = c_compiler.compile_str(\n",
      "             ^^^^^^^^^^^^^^^^^^^^^^^\n",
      "  File \"c:\\Users\\heide\\AppData\\Local\\Programs\\Python\\Python311\\Lib\\site-packages\\pytensor\\link\\c\\cmodule.py\", line 2676, in compile_str\n",
      "    raise CompileError(\n",
      "pytensor.link.c.exceptions.CompileError: Compilation failed (return status=1):\n",
      "\"C:\\MinGW\\bin\\g++.EXE\" -shared -g -O3 -fno-math-errno -Wno-unused-label -Wno-unused-variable -Wno-write-strings -Wno-c++11-narrowing -fno-exceptions -fno-unwind-tables -fno-asynchronous-unwind-tables -DNPY_NO_DEPRECATED_API=NPY_1_7_API_VERSION -m64 -DMS_WIN64 -I\"c:\\Users\\heide\\AppData\\Local\\Programs\\Python\\Python311\\Lib\\site-packages\\numpy\\core\\include\" -I\"c:\\Users\\heide\\AppData\\Local\\Programs\\Python\\Python311\\include\" -I\"c:\\Users\\heide\\AppData\\Local\\Programs\\Python\\Python311\\Lib\\site-packages\\pytensor\\link\\c\\c_code\" -L\"c:\\Users\\heide\\AppData\\Local\\Programs\\Python\\Python311\\libs\" -L\"c:\\Users\\heide\\AppData\\Local\\Programs\\Python\\Python311\" -o \"C:\\Users\\heide\\AppData\\Local\\PyTensor\\compiledir_Windows-10-10.0.26100-SP0-Intel64_Family_6_Model_142_Stepping_12_GenuineIntel-3.11.2-64\\tmpnpicacyu\\mb6f1e8579abe30c0c86446f2fbb427a9f4b7a7d31869ca3f714512641236ab19.pyd\" \"C:\\Users\\heide\\AppData\\Local\\PyTensor\\compiledir_Windows-10-10.0.26100-SP0-Intel64_Family_6_Model_142_Stepping_12_GenuineIntel-3.11.2-64\\tmpnpicacyu\\mod.cpp\" \"c:\\Users\\heide\\AppData\\Local\\Programs\\Python\\Python311\\python311.dll\"\n",
      "C:\\Users\\heide\\AppData\\Local\\PyTensor\\compiledir_Windows-10-10.0.26100-SP0-Intel64_Family_6_Model_142_Stepping_12_GenuineIntel-3.11.2-64\\tmpnpicacyu\\mod.cpp:1:0: sorry, unimplemented: 64-bit mode not compiled in\n",
      " #include <Python.h>\n",
      " \n",
      "\n",
      "\n"
     ]
    },
    {
     "name": "stdout",
     "output_type": "stream",
     "text": [
      "\n",
      "You can find the C code in this temporary file: C:\\Users\\heide\\AppData\\Local\\Temp\\pytensor_compilation_error_ubzlr2qt\n"
     ]
    },
    {
     "name": "stderr",
     "output_type": "stream",
     "text": [
      "ERROR (pytensor.graph.rewriting.basic): Rewrite failure due to: constant_folding\n",
      "ERROR (pytensor.graph.rewriting.basic): node: Neq(-5, -inf)\n",
      "ERROR (pytensor.graph.rewriting.basic): TRACEBACK:\n",
      "ERROR (pytensor.graph.rewriting.basic): Traceback (most recent call last):\n",
      "  File \"c:\\Users\\heide\\AppData\\Local\\Programs\\Python\\Python311\\Lib\\site-packages\\pytensor\\graph\\rewriting\\basic.py\", line 1916, in process_node\n",
      "    replacements = node_rewriter.transform(fgraph, node)\n",
      "                   ^^^^^^^^^^^^^^^^^^^^^^^^^^^^^^^^^^^^^\n",
      "  File \"c:\\Users\\heide\\AppData\\Local\\Programs\\Python\\Python311\\Lib\\site-packages\\pytensor\\graph\\rewriting\\basic.py\", line 1086, in transform\n",
      "    return self.fn(fgraph, node)\n",
      "           ^^^^^^^^^^^^^^^^^^^^^\n",
      "  File \"c:\\Users\\heide\\AppData\\Local\\Programs\\Python\\Python311\\Lib\\site-packages\\pytensor\\tensor\\rewriting\\basic.py\", line 1173, in constant_folding\n",
      "    return unconditional_constant_folding.transform(fgraph, node)\n",
      "           ^^^^^^^^^^^^^^^^^^^^^^^^^^^^^^^^^^^^^^^^^^^^^^^^^^^^^^\n",
      "  File \"c:\\Users\\heide\\AppData\\Local\\Programs\\Python\\Python311\\Lib\\site-packages\\pytensor\\graph\\rewriting\\basic.py\", line 1086, in transform\n",
      "    return self.fn(fgraph, node)\n",
      "           ^^^^^^^^^^^^^^^^^^^^^\n",
      "  File \"c:\\Users\\heide\\AppData\\Local\\Programs\\Python\\Python311\\Lib\\site-packages\\pytensor\\tensor\\rewriting\\basic.py\", line 1122, in unconditional_constant_folding\n",
      "    thunk = node.op.make_thunk(node, storage_map, compute_map, no_recycling=[])\n",
      "            ^^^^^^^^^^^^^^^^^^^^^^^^^^^^^^^^^^^^^^^^^^^^^^^^^^^^^^^^^^^^^^^^^^^\n",
      "  File \"c:\\Users\\heide\\AppData\\Local\\Programs\\Python\\Python311\\Lib\\site-packages\\pytensor\\link\\c\\op.py\", line 119, in make_thunk\n",
      "    return self.make_c_thunk(node, storage_map, compute_map, no_recycling)\n",
      "           ^^^^^^^^^^^^^^^^^^^^^^^^^^^^^^^^^^^^^^^^^^^^^^^^^^^^^^^^^^^^^^^\n",
      "  File \"c:\\Users\\heide\\AppData\\Local\\Programs\\Python\\Python311\\Lib\\site-packages\\pytensor\\link\\c\\op.py\", line 84, in make_c_thunk\n",
      "    outputs = cl.make_thunk(\n",
      "              ^^^^^^^^^^^^^^\n",
      "  File \"c:\\Users\\heide\\AppData\\Local\\Programs\\Python\\Python311\\Lib\\site-packages\\pytensor\\link\\c\\basic.py\", line 1186, in make_thunk\n",
      "    cthunk, module, in_storage, out_storage, error_storage = self.__compile__(\n",
      "                                                             ^^^^^^^^^^^^^^^^^\n",
      "  File \"c:\\Users\\heide\\AppData\\Local\\Programs\\Python\\Python311\\Lib\\site-packages\\pytensor\\link\\c\\basic.py\", line 1103, in __compile__\n",
      "    thunk, module = self.cthunk_factory(\n",
      "                    ^^^^^^^^^^^^^^^^^^^^\n",
      "  File \"c:\\Users\\heide\\AppData\\Local\\Programs\\Python\\Python311\\Lib\\site-packages\\pytensor\\link\\c\\basic.py\", line 1631, in cthunk_factory\n",
      "    module = cache.module_from_key(key=key, lnk=self)\n",
      "             ^^^^^^^^^^^^^^^^^^^^^^^^^^^^^^^^^^^^^^^^\n",
      "  File \"c:\\Users\\heide\\AppData\\Local\\Programs\\Python\\Python311\\Lib\\site-packages\\pytensor\\link\\c\\cmodule.py\", line 1250, in module_from_key\n",
      "    module = lnk.compile_cmodule(location)\n",
      "             ^^^^^^^^^^^^^^^^^^^^^^^^^^^^^\n",
      "  File \"c:\\Users\\heide\\AppData\\Local\\Programs\\Python\\Python311\\Lib\\site-packages\\pytensor\\link\\c\\basic.py\", line 1532, in compile_cmodule\n",
      "    module = c_compiler.compile_str(\n",
      "             ^^^^^^^^^^^^^^^^^^^^^^^\n",
      "  File \"c:\\Users\\heide\\AppData\\Local\\Programs\\Python\\Python311\\Lib\\site-packages\\pytensor\\link\\c\\cmodule.py\", line 2676, in compile_str\n",
      "    raise CompileError(\n",
      "pytensor.link.c.exceptions.CompileError: Compilation failed (return status=1):\n",
      "\"C:\\MinGW\\bin\\g++.EXE\" -shared -g -O3 -fno-math-errno -Wno-unused-label -Wno-unused-variable -Wno-write-strings -Wno-c++11-narrowing -fno-exceptions -fno-unwind-tables -fno-asynchronous-unwind-tables -DNPY_NO_DEPRECATED_API=NPY_1_7_API_VERSION -m64 -DMS_WIN64 -I\"c:\\Users\\heide\\AppData\\Local\\Programs\\Python\\Python311\\Lib\\site-packages\\numpy\\core\\include\" -I\"c:\\Users\\heide\\AppData\\Local\\Programs\\Python\\Python311\\include\" -I\"c:\\Users\\heide\\AppData\\Local\\Programs\\Python\\Python311\\Lib\\site-packages\\pytensor\\link\\c\\c_code\" -L\"c:\\Users\\heide\\AppData\\Local\\Programs\\Python\\Python311\\libs\" -L\"c:\\Users\\heide\\AppData\\Local\\Programs\\Python\\Python311\" -o \"C:\\Users\\heide\\AppData\\Local\\PyTensor\\compiledir_Windows-10-10.0.26100-SP0-Intel64_Family_6_Model_142_Stepping_12_GenuineIntel-3.11.2-64\\tmprmpiiqi8\\mb6f1e8579abe30c0c86446f2fbb427a9f4b7a7d31869ca3f714512641236ab19.pyd\" \"C:\\Users\\heide\\AppData\\Local\\PyTensor\\compiledir_Windows-10-10.0.26100-SP0-Intel64_Family_6_Model_142_Stepping_12_GenuineIntel-3.11.2-64\\tmprmpiiqi8\\mod.cpp\" \"c:\\Users\\heide\\AppData\\Local\\Programs\\Python\\Python311\\python311.dll\"\n",
      "C:\\Users\\heide\\AppData\\Local\\PyTensor\\compiledir_Windows-10-10.0.26100-SP0-Intel64_Family_6_Model_142_Stepping_12_GenuineIntel-3.11.2-64\\tmprmpiiqi8\\mod.cpp:1:0: sorry, unimplemented: 64-bit mode not compiled in\n",
      " #include <Python.h>\n",
      " \n",
      "\n",
      "\n"
     ]
    },
    {
     "name": "stdout",
     "output_type": "stream",
     "text": [
      "\n",
      "You can find the C code in this temporary file: C:\\Users\\heide\\AppData\\Local\\Temp\\pytensor_compilation_error_imoluprc\n"
     ]
    },
    {
     "name": "stderr",
     "output_type": "stream",
     "text": [
      "ERROR (pytensor.graph.rewriting.basic): Rewrite failure due to: constant_folding\n",
      "ERROR (pytensor.graph.rewriting.basic): node: Neq(10, inf)\n",
      "ERROR (pytensor.graph.rewriting.basic): TRACEBACK:\n",
      "ERROR (pytensor.graph.rewriting.basic): Traceback (most recent call last):\n",
      "  File \"c:\\Users\\heide\\AppData\\Local\\Programs\\Python\\Python311\\Lib\\site-packages\\pytensor\\graph\\rewriting\\basic.py\", line 1916, in process_node\n",
      "    replacements = node_rewriter.transform(fgraph, node)\n",
      "                   ^^^^^^^^^^^^^^^^^^^^^^^^^^^^^^^^^^^^^\n",
      "  File \"c:\\Users\\heide\\AppData\\Local\\Programs\\Python\\Python311\\Lib\\site-packages\\pytensor\\graph\\rewriting\\basic.py\", line 1086, in transform\n",
      "    return self.fn(fgraph, node)\n",
      "           ^^^^^^^^^^^^^^^^^^^^^\n",
      "  File \"c:\\Users\\heide\\AppData\\Local\\Programs\\Python\\Python311\\Lib\\site-packages\\pytensor\\tensor\\rewriting\\basic.py\", line 1173, in constant_folding\n",
      "    return unconditional_constant_folding.transform(fgraph, node)\n",
      "           ^^^^^^^^^^^^^^^^^^^^^^^^^^^^^^^^^^^^^^^^^^^^^^^^^^^^^^\n",
      "  File \"c:\\Users\\heide\\AppData\\Local\\Programs\\Python\\Python311\\Lib\\site-packages\\pytensor\\graph\\rewriting\\basic.py\", line 1086, in transform\n",
      "    return self.fn(fgraph, node)\n",
      "           ^^^^^^^^^^^^^^^^^^^^^\n",
      "  File \"c:\\Users\\heide\\AppData\\Local\\Programs\\Python\\Python311\\Lib\\site-packages\\pytensor\\tensor\\rewriting\\basic.py\", line 1122, in unconditional_constant_folding\n",
      "    thunk = node.op.make_thunk(node, storage_map, compute_map, no_recycling=[])\n",
      "            ^^^^^^^^^^^^^^^^^^^^^^^^^^^^^^^^^^^^^^^^^^^^^^^^^^^^^^^^^^^^^^^^^^^\n",
      "  File \"c:\\Users\\heide\\AppData\\Local\\Programs\\Python\\Python311\\Lib\\site-packages\\pytensor\\link\\c\\op.py\", line 119, in make_thunk\n",
      "    return self.make_c_thunk(node, storage_map, compute_map, no_recycling)\n",
      "           ^^^^^^^^^^^^^^^^^^^^^^^^^^^^^^^^^^^^^^^^^^^^^^^^^^^^^^^^^^^^^^^\n",
      "  File \"c:\\Users\\heide\\AppData\\Local\\Programs\\Python\\Python311\\Lib\\site-packages\\pytensor\\link\\c\\op.py\", line 84, in make_c_thunk\n",
      "    outputs = cl.make_thunk(\n",
      "              ^^^^^^^^^^^^^^\n",
      "  File \"c:\\Users\\heide\\AppData\\Local\\Programs\\Python\\Python311\\Lib\\site-packages\\pytensor\\link\\c\\basic.py\", line 1186, in make_thunk\n",
      "    cthunk, module, in_storage, out_storage, error_storage = self.__compile__(\n",
      "                                                             ^^^^^^^^^^^^^^^^^\n",
      "  File \"c:\\Users\\heide\\AppData\\Local\\Programs\\Python\\Python311\\Lib\\site-packages\\pytensor\\link\\c\\basic.py\", line 1103, in __compile__\n",
      "    thunk, module = self.cthunk_factory(\n",
      "                    ^^^^^^^^^^^^^^^^^^^^\n",
      "  File \"c:\\Users\\heide\\AppData\\Local\\Programs\\Python\\Python311\\Lib\\site-packages\\pytensor\\link\\c\\basic.py\", line 1631, in cthunk_factory\n",
      "    module = cache.module_from_key(key=key, lnk=self)\n",
      "             ^^^^^^^^^^^^^^^^^^^^^^^^^^^^^^^^^^^^^^^^\n",
      "  File \"c:\\Users\\heide\\AppData\\Local\\Programs\\Python\\Python311\\Lib\\site-packages\\pytensor\\link\\c\\cmodule.py\", line 1250, in module_from_key\n",
      "    module = lnk.compile_cmodule(location)\n",
      "             ^^^^^^^^^^^^^^^^^^^^^^^^^^^^^\n",
      "  File \"c:\\Users\\heide\\AppData\\Local\\Programs\\Python\\Python311\\Lib\\site-packages\\pytensor\\link\\c\\basic.py\", line 1532, in compile_cmodule\n",
      "    module = c_compiler.compile_str(\n",
      "             ^^^^^^^^^^^^^^^^^^^^^^^\n",
      "  File \"c:\\Users\\heide\\AppData\\Local\\Programs\\Python\\Python311\\Lib\\site-packages\\pytensor\\link\\c\\cmodule.py\", line 2676, in compile_str\n",
      "    raise CompileError(\n",
      "pytensor.link.c.exceptions.CompileError: Compilation failed (return status=1):\n",
      "\"C:\\MinGW\\bin\\g++.EXE\" -shared -g -O3 -fno-math-errno -Wno-unused-label -Wno-unused-variable -Wno-write-strings -Wno-c++11-narrowing -fno-exceptions -fno-unwind-tables -fno-asynchronous-unwind-tables -DNPY_NO_DEPRECATED_API=NPY_1_7_API_VERSION -m64 -DMS_WIN64 -I\"c:\\Users\\heide\\AppData\\Local\\Programs\\Python\\Python311\\Lib\\site-packages\\numpy\\core\\include\" -I\"c:\\Users\\heide\\AppData\\Local\\Programs\\Python\\Python311\\include\" -I\"c:\\Users\\heide\\AppData\\Local\\Programs\\Python\\Python311\\Lib\\site-packages\\pytensor\\link\\c\\c_code\" -L\"c:\\Users\\heide\\AppData\\Local\\Programs\\Python\\Python311\\libs\" -L\"c:\\Users\\heide\\AppData\\Local\\Programs\\Python\\Python311\" -o \"C:\\Users\\heide\\AppData\\Local\\PyTensor\\compiledir_Windows-10-10.0.26100-SP0-Intel64_Family_6_Model_142_Stepping_12_GenuineIntel-3.11.2-64\\tmpzg36ejm2\\mb6f1e8579abe30c0c86446f2fbb427a9f4b7a7d31869ca3f714512641236ab19.pyd\" \"C:\\Users\\heide\\AppData\\Local\\PyTensor\\compiledir_Windows-10-10.0.26100-SP0-Intel64_Family_6_Model_142_Stepping_12_GenuineIntel-3.11.2-64\\tmpzg36ejm2\\mod.cpp\" \"c:\\Users\\heide\\AppData\\Local\\Programs\\Python\\Python311\\python311.dll\"\n",
      "C:\\Users\\heide\\AppData\\Local\\PyTensor\\compiledir_Windows-10-10.0.26100-SP0-Intel64_Family_6_Model_142_Stepping_12_GenuineIntel-3.11.2-64\\tmpzg36ejm2\\mod.cpp:1:0: sorry, unimplemented: 64-bit mode not compiled in\n",
      " #include <Python.h>\n",
      " \n",
      "\n",
      "\n"
     ]
    },
    {
     "name": "stdout",
     "output_type": "stream",
     "text": [
      "\n",
      "You can find the C code in this temporary file: C:\\Users\\heide\\AppData\\Local\\Temp\\pytensor_compilation_error_1mdx4mwb\n"
     ]
    },
    {
     "name": "stderr",
     "output_type": "stream",
     "text": [
      "ERROR (pytensor.graph.rewriting.basic): Rewrite failure due to: constant_folding\n",
      "ERROR (pytensor.graph.rewriting.basic): node: Neq(-10, -inf)\n",
      "ERROR (pytensor.graph.rewriting.basic): TRACEBACK:\n",
      "ERROR (pytensor.graph.rewriting.basic): Traceback (most recent call last):\n",
      "  File \"c:\\Users\\heide\\AppData\\Local\\Programs\\Python\\Python311\\Lib\\site-packages\\pytensor\\graph\\rewriting\\basic.py\", line 1916, in process_node\n",
      "    replacements = node_rewriter.transform(fgraph, node)\n",
      "                   ^^^^^^^^^^^^^^^^^^^^^^^^^^^^^^^^^^^^^\n",
      "  File \"c:\\Users\\heide\\AppData\\Local\\Programs\\Python\\Python311\\Lib\\site-packages\\pytensor\\graph\\rewriting\\basic.py\", line 1086, in transform\n",
      "    return self.fn(fgraph, node)\n",
      "           ^^^^^^^^^^^^^^^^^^^^^\n",
      "  File \"c:\\Users\\heide\\AppData\\Local\\Programs\\Python\\Python311\\Lib\\site-packages\\pytensor\\tensor\\rewriting\\basic.py\", line 1173, in constant_folding\n",
      "    return unconditional_constant_folding.transform(fgraph, node)\n",
      "           ^^^^^^^^^^^^^^^^^^^^^^^^^^^^^^^^^^^^^^^^^^^^^^^^^^^^^^\n",
      "  File \"c:\\Users\\heide\\AppData\\Local\\Programs\\Python\\Python311\\Lib\\site-packages\\pytensor\\graph\\rewriting\\basic.py\", line 1086, in transform\n",
      "    return self.fn(fgraph, node)\n",
      "           ^^^^^^^^^^^^^^^^^^^^^\n",
      "  File \"c:\\Users\\heide\\AppData\\Local\\Programs\\Python\\Python311\\Lib\\site-packages\\pytensor\\tensor\\rewriting\\basic.py\", line 1122, in unconditional_constant_folding\n",
      "    thunk = node.op.make_thunk(node, storage_map, compute_map, no_recycling=[])\n",
      "            ^^^^^^^^^^^^^^^^^^^^^^^^^^^^^^^^^^^^^^^^^^^^^^^^^^^^^^^^^^^^^^^^^^^\n",
      "  File \"c:\\Users\\heide\\AppData\\Local\\Programs\\Python\\Python311\\Lib\\site-packages\\pytensor\\link\\c\\op.py\", line 119, in make_thunk\n",
      "    return self.make_c_thunk(node, storage_map, compute_map, no_recycling)\n",
      "           ^^^^^^^^^^^^^^^^^^^^^^^^^^^^^^^^^^^^^^^^^^^^^^^^^^^^^^^^^^^^^^^\n",
      "  File \"c:\\Users\\heide\\AppData\\Local\\Programs\\Python\\Python311\\Lib\\site-packages\\pytensor\\link\\c\\op.py\", line 84, in make_c_thunk\n",
      "    outputs = cl.make_thunk(\n",
      "              ^^^^^^^^^^^^^^\n",
      "  File \"c:\\Users\\heide\\AppData\\Local\\Programs\\Python\\Python311\\Lib\\site-packages\\pytensor\\link\\c\\basic.py\", line 1186, in make_thunk\n",
      "    cthunk, module, in_storage, out_storage, error_storage = self.__compile__(\n",
      "                                                             ^^^^^^^^^^^^^^^^^\n",
      "  File \"c:\\Users\\heide\\AppData\\Local\\Programs\\Python\\Python311\\Lib\\site-packages\\pytensor\\link\\c\\basic.py\", line 1103, in __compile__\n",
      "    thunk, module = self.cthunk_factory(\n",
      "                    ^^^^^^^^^^^^^^^^^^^^\n",
      "  File \"c:\\Users\\heide\\AppData\\Local\\Programs\\Python\\Python311\\Lib\\site-packages\\pytensor\\link\\c\\basic.py\", line 1631, in cthunk_factory\n",
      "    module = cache.module_from_key(key=key, lnk=self)\n",
      "             ^^^^^^^^^^^^^^^^^^^^^^^^^^^^^^^^^^^^^^^^\n",
      "  File \"c:\\Users\\heide\\AppData\\Local\\Programs\\Python\\Python311\\Lib\\site-packages\\pytensor\\link\\c\\cmodule.py\", line 1250, in module_from_key\n",
      "    module = lnk.compile_cmodule(location)\n",
      "             ^^^^^^^^^^^^^^^^^^^^^^^^^^^^^\n",
      "  File \"c:\\Users\\heide\\AppData\\Local\\Programs\\Python\\Python311\\Lib\\site-packages\\pytensor\\link\\c\\basic.py\", line 1532, in compile_cmodule\n",
      "    module = c_compiler.compile_str(\n",
      "             ^^^^^^^^^^^^^^^^^^^^^^^\n",
      "  File \"c:\\Users\\heide\\AppData\\Local\\Programs\\Python\\Python311\\Lib\\site-packages\\pytensor\\link\\c\\cmodule.py\", line 2676, in compile_str\n",
      "    raise CompileError(\n",
      "pytensor.link.c.exceptions.CompileError: Compilation failed (return status=1):\n",
      "\"C:\\MinGW\\bin\\g++.EXE\" -shared -g -O3 -fno-math-errno -Wno-unused-label -Wno-unused-variable -Wno-write-strings -Wno-c++11-narrowing -fno-exceptions -fno-unwind-tables -fno-asynchronous-unwind-tables -DNPY_NO_DEPRECATED_API=NPY_1_7_API_VERSION -m64 -DMS_WIN64 -I\"c:\\Users\\heide\\AppData\\Local\\Programs\\Python\\Python311\\Lib\\site-packages\\numpy\\core\\include\" -I\"c:\\Users\\heide\\AppData\\Local\\Programs\\Python\\Python311\\include\" -I\"c:\\Users\\heide\\AppData\\Local\\Programs\\Python\\Python311\\Lib\\site-packages\\pytensor\\link\\c\\c_code\" -L\"c:\\Users\\heide\\AppData\\Local\\Programs\\Python\\Python311\\libs\" -L\"c:\\Users\\heide\\AppData\\Local\\Programs\\Python\\Python311\" -o \"C:\\Users\\heide\\AppData\\Local\\PyTensor\\compiledir_Windows-10-10.0.26100-SP0-Intel64_Family_6_Model_142_Stepping_12_GenuineIntel-3.11.2-64\\tmpxmbi8x0p\\mb6f1e8579abe30c0c86446f2fbb427a9f4b7a7d31869ca3f714512641236ab19.pyd\" \"C:\\Users\\heide\\AppData\\Local\\PyTensor\\compiledir_Windows-10-10.0.26100-SP0-Intel64_Family_6_Model_142_Stepping_12_GenuineIntel-3.11.2-64\\tmpxmbi8x0p\\mod.cpp\" \"c:\\Users\\heide\\AppData\\Local\\Programs\\Python\\Python311\\python311.dll\"\n",
      "C:\\Users\\heide\\AppData\\Local\\PyTensor\\compiledir_Windows-10-10.0.26100-SP0-Intel64_Family_6_Model_142_Stepping_12_GenuineIntel-3.11.2-64\\tmpxmbi8x0p\\mod.cpp:1:0: sorry, unimplemented: 64-bit mode not compiled in\n",
      " #include <Python.h>\n",
      " \n",
      "\n",
      "\n"
     ]
    },
    {
     "name": "stdout",
     "output_type": "stream",
     "text": [
      "\n",
      "You can find the C code in this temporary file: C:\\Users\\heide\\AppData\\Local\\Temp\\pytensor_compilation_error_zps2tpk1\n",
      "\n",
      "You can find the C code in this temporary file: C:\\Users\\heide\\AppData\\Local\\Temp\\pytensor_compilation_error_eggd5oos\n"
     ]
    },
    {
     "ename": "CompileError",
     "evalue": "Compilation failed (return status=1):\n\"C:\\MinGW\\bin\\g++.EXE\" -shared -g -Wno-c++11-narrowing -fno-exceptions -fno-unwind-tables -fno-asynchronous-unwind-tables -DNPY_NO_DEPRECATED_API=NPY_1_7_API_VERSION -m64 -DMS_WIN64 -I\"c:\\Users\\heide\\AppData\\Local\\Programs\\Python\\Python311\\Lib\\site-packages\\numpy\\core\\include\" -I\"c:\\Users\\heide\\AppData\\Local\\Programs\\Python\\Python311\\include\" -I\"c:\\Users\\heide\\AppData\\Local\\Programs\\Python\\Python311\\Lib\\site-packages\\pytensor\\link\\c\\c_code\" -L\"c:\\Users\\heide\\AppData\\Local\\Programs\\Python\\Python311\\libs\" -L\"c:\\Users\\heide\\AppData\\Local\\Programs\\Python\\Python311\" -o \"C:\\Users\\heide\\AppData\\Local\\PyTensor\\compiledir_Windows-10-10.0.26100-SP0-Intel64_Family_6_Model_142_Stepping_12_GenuineIntel-3.11.2-64\\lazylinker_ext\\lazylinker_ext.pyd\" \"C:\\Users\\heide\\AppData\\Local\\PyTensor\\compiledir_Windows-10-10.0.26100-SP0-Intel64_Family_6_Model_142_Stepping_12_GenuineIntel-3.11.2-64\\lazylinker_ext\\mod.cpp\" \"c:\\Users\\heide\\AppData\\Local\\Programs\\Python\\Python311\\python311.dll\"\nC:\\Users\\heide\\AppData\\Local\\PyTensor\\compiledir_Windows-10-10.0.26100-SP0-Intel64_Family_6_Model_142_Stepping_12_GenuineIntel-3.11.2-64\\lazylinker_ext\\mod.cpp:1:0: sorry, unimplemented: 64-bit mode not compiled in\r\n #include \"pytensor_mod_helper.h\"\r\n \r\n",
     "output_type": "error",
     "traceback": [
      "\u001b[1;31m---------------------------------------------------------------------------\u001b[0m",
      "\u001b[1;31mImportError\u001b[0m                               Traceback (most recent call last)",
      "File \u001b[1;32mc:\\Users\\heide\\AppData\\Local\\Programs\\Python\\Python311\\Lib\\site-packages\\pytensor\\link\\c\\lazylinker_c.py:66\u001b[0m\n\u001b[0;32m     65\u001b[0m         \u001b[38;5;28;01mif\u001b[39;00m version \u001b[38;5;241m!=\u001b[39m actual_version:\n\u001b[1;32m---> 66\u001b[0m             \u001b[38;5;28;01mraise\u001b[39;00m \u001b[38;5;167;01mImportError\u001b[39;00m(\n\u001b[0;32m     67\u001b[0m                 \u001b[38;5;124m\"\u001b[39m\u001b[38;5;124mVersion check of the existing lazylinker compiled file.\u001b[39m\u001b[38;5;124m\"\u001b[39m\n\u001b[0;32m     68\u001b[0m                 \u001b[38;5;124mf\u001b[39m\u001b[38;5;124m\"\u001b[39m\u001b[38;5;124m Looking for version \u001b[39m\u001b[38;5;132;01m{\u001b[39;00mversion\u001b[38;5;132;01m}\u001b[39;00m\u001b[38;5;124m, but found \u001b[39m\u001b[38;5;132;01m{\u001b[39;00mactual_version\u001b[38;5;132;01m}\u001b[39;00m\u001b[38;5;124m. \u001b[39m\u001b[38;5;124m\"\u001b[39m\n\u001b[0;32m     69\u001b[0m                 \u001b[38;5;124mf\u001b[39m\u001b[38;5;124m\"\u001b[39m\u001b[38;5;124mExtra debug information: force_compile=\u001b[39m\u001b[38;5;132;01m{\u001b[39;00mforce_compile\u001b[38;5;132;01m}\u001b[39;00m\u001b[38;5;124m, _need_reload=\u001b[39m\u001b[38;5;132;01m{\u001b[39;00m_need_reload\u001b[38;5;132;01m}\u001b[39;00m\u001b[38;5;124m\"\u001b[39m\n\u001b[0;32m     70\u001b[0m             )\n\u001b[0;32m     71\u001b[0m \u001b[38;5;28;01mexcept\u001b[39;00m \u001b[38;5;167;01mImportError\u001b[39;00m:\n",
      "\u001b[1;31mImportError\u001b[0m: Version check of the existing lazylinker compiled file. Looking for version 0.212, but found None. Extra debug information: force_compile=False, _need_reload=True",
      "\nDuring handling of the above exception, another exception occurred:\n",
      "\u001b[1;31mImportError\u001b[0m                               Traceback (most recent call last)",
      "File \u001b[1;32mc:\\Users\\heide\\AppData\\Local\\Programs\\Python\\Python311\\Lib\\site-packages\\pytensor\\link\\c\\lazylinker_c.py:87\u001b[0m\n\u001b[0;32m     86\u001b[0m     \u001b[38;5;28;01mif\u001b[39;00m version \u001b[38;5;241m!=\u001b[39m actual_version:\n\u001b[1;32m---> 87\u001b[0m         \u001b[38;5;28;01mraise\u001b[39;00m \u001b[38;5;167;01mImportError\u001b[39;00m(\n\u001b[0;32m     88\u001b[0m             \u001b[38;5;124m\"\u001b[39m\u001b[38;5;124mVersion check of the existing lazylinker compiled file.\u001b[39m\u001b[38;5;124m\"\u001b[39m\n\u001b[0;32m     89\u001b[0m             \u001b[38;5;124mf\u001b[39m\u001b[38;5;124m\"\u001b[39m\u001b[38;5;124m Looking for version \u001b[39m\u001b[38;5;132;01m{\u001b[39;00mversion\u001b[38;5;132;01m}\u001b[39;00m\u001b[38;5;124m, but found \u001b[39m\u001b[38;5;132;01m{\u001b[39;00mactual_version\u001b[38;5;132;01m}\u001b[39;00m\u001b[38;5;124m. \u001b[39m\u001b[38;5;124m\"\u001b[39m\n\u001b[0;32m     90\u001b[0m             \u001b[38;5;124mf\u001b[39m\u001b[38;5;124m\"\u001b[39m\u001b[38;5;124mExtra debug information: force_compile=\u001b[39m\u001b[38;5;132;01m{\u001b[39;00mforce_compile\u001b[38;5;132;01m}\u001b[39;00m\u001b[38;5;124m, _need_reload=\u001b[39m\u001b[38;5;132;01m{\u001b[39;00m_need_reload\u001b[38;5;132;01m}\u001b[39;00m\u001b[38;5;124m\"\u001b[39m\n\u001b[0;32m     91\u001b[0m         )\n\u001b[0;32m     92\u001b[0m \u001b[38;5;28;01mexcept\u001b[39;00m \u001b[38;5;167;01mImportError\u001b[39;00m:\n\u001b[0;32m     93\u001b[0m     \u001b[38;5;66;03m# It is useless to try to compile if there isn't any\u001b[39;00m\n\u001b[0;32m     94\u001b[0m     \u001b[38;5;66;03m# compiler!  But we still want to try to load it, in case\u001b[39;00m\n\u001b[0;32m     95\u001b[0m     \u001b[38;5;66;03m# the cache was copied from another computer.\u001b[39;00m\n",
      "\u001b[1;31mImportError\u001b[0m: Version check of the existing lazylinker compiled file. Looking for version 0.212, but found None. Extra debug information: force_compile=False, _need_reload=True",
      "\nDuring handling of the above exception, another exception occurred:\n",
      "\u001b[1;31mCompileError\u001b[0m                              Traceback (most recent call last)",
      "Cell \u001b[1;32mIn[24], line 11\u001b[0m\n\u001b[0;32m      7\u001b[0m \u001b[38;5;66;03m# set up our observed variable x\u001b[39;00m\n\u001b[0;32m      8\u001b[0m \u001b[38;5;66;03m# i.e. read this as 'x is distributed as a Cauchy variable'\u001b[39;00m\n\u001b[0;32m      9\u001b[0m x \u001b[38;5;241m=\u001b[39m pm\u001b[38;5;241m.\u001b[39mCauchy(\u001b[38;5;124m'\u001b[39m\u001b[38;5;124mx\u001b[39m\u001b[38;5;124m'\u001b[39m, mu, np\u001b[38;5;241m.\u001b[39mexp(log_gamma), observed\u001b[38;5;241m=\u001b[39mxi)\n\u001b[1;32m---> 11\u001b[0m trace \u001b[38;5;241m=\u001b[39m \u001b[43mpm\u001b[49m\u001b[38;5;241;43m.\u001b[39;49m\u001b[43msample\u001b[49m\u001b[43m(\u001b[49m\u001b[43mdraws\u001b[49m\u001b[38;5;241;43m=\u001b[39;49m\u001b[38;5;241;43m12000\u001b[39;49m\u001b[43m,\u001b[49m\u001b[43m \u001b[49m\u001b[43mtune\u001b[49m\u001b[38;5;241;43m=\u001b[39;49m\u001b[38;5;241;43m1000\u001b[39;49m\u001b[43m,\u001b[49m\u001b[43m \u001b[49m\u001b[43mcores\u001b[49m\u001b[38;5;241;43m=\u001b[39;49m\u001b[38;5;241;43m1\u001b[39;49m\u001b[43m)\u001b[49m\n",
      "File \u001b[1;32mc:\\Users\\heide\\AppData\\Local\\Programs\\Python\\Python311\\Lib\\site-packages\\pymc\\sampling\\mcmc.py:832\u001b[0m, in \u001b[0;36msample\u001b[1;34m(draws, tune, chains, cores, random_seed, progressbar, progressbar_theme, step, var_names, nuts_sampler, initvals, init, jitter_max_retries, n_init, trace, discard_tuned_samples, compute_convergence_checks, keep_warning_stat, return_inferencedata, idata_kwargs, nuts_sampler_kwargs, callback, mp_ctx, blas_cores, model, compile_kwargs, **kwargs)\u001b[0m\n\u001b[0;32m    830\u001b[0m         [kwargs\u001b[38;5;241m.\u001b[39msetdefault(k, v) \u001b[38;5;28;01mfor\u001b[39;00m k, v \u001b[38;5;129;01min\u001b[39;00m nuts_kwargs\u001b[38;5;241m.\u001b[39mitems()]\n\u001b[0;32m    831\u001b[0m     \u001b[38;5;28;01mwith\u001b[39;00m joined_blas_limiter():\n\u001b[1;32m--> 832\u001b[0m         initial_points, step \u001b[38;5;241m=\u001b[39m \u001b[43minit_nuts\u001b[49m\u001b[43m(\u001b[49m\n\u001b[0;32m    833\u001b[0m \u001b[43m            \u001b[49m\u001b[43minit\u001b[49m\u001b[38;5;241;43m=\u001b[39;49m\u001b[43minit\u001b[49m\u001b[43m,\u001b[49m\n\u001b[0;32m    834\u001b[0m \u001b[43m            \u001b[49m\u001b[43mchains\u001b[49m\u001b[38;5;241;43m=\u001b[39;49m\u001b[43mchains\u001b[49m\u001b[43m,\u001b[49m\n\u001b[0;32m    835\u001b[0m \u001b[43m            \u001b[49m\u001b[43mn_init\u001b[49m\u001b[38;5;241;43m=\u001b[39;49m\u001b[43mn_init\u001b[49m\u001b[43m,\u001b[49m\n\u001b[0;32m    836\u001b[0m \u001b[43m            \u001b[49m\u001b[43mmodel\u001b[49m\u001b[38;5;241;43m=\u001b[39;49m\u001b[43mmodel\u001b[49m\u001b[43m,\u001b[49m\n\u001b[0;32m    837\u001b[0m \u001b[43m            \u001b[49m\u001b[43mrandom_seed\u001b[49m\u001b[38;5;241;43m=\u001b[39;49m\u001b[43mrandom_seed_list\u001b[49m\u001b[43m,\u001b[49m\n\u001b[0;32m    838\u001b[0m \u001b[43m            \u001b[49m\u001b[43mprogressbar\u001b[49m\u001b[38;5;241;43m=\u001b[39;49m\u001b[43mprogress_bool\u001b[49m\u001b[43m,\u001b[49m\n\u001b[0;32m    839\u001b[0m \u001b[43m            \u001b[49m\u001b[43mjitter_max_retries\u001b[49m\u001b[38;5;241;43m=\u001b[39;49m\u001b[43mjitter_max_retries\u001b[49m\u001b[43m,\u001b[49m\n\u001b[0;32m    840\u001b[0m \u001b[43m            \u001b[49m\u001b[43mtune\u001b[49m\u001b[38;5;241;43m=\u001b[39;49m\u001b[43mtune\u001b[49m\u001b[43m,\u001b[49m\n\u001b[0;32m    841\u001b[0m \u001b[43m            \u001b[49m\u001b[43minitvals\u001b[49m\u001b[38;5;241;43m=\u001b[39;49m\u001b[43minitvals\u001b[49m\u001b[43m,\u001b[49m\n\u001b[0;32m    842\u001b[0m \u001b[43m            \u001b[49m\u001b[43mcompile_kwargs\u001b[49m\u001b[38;5;241;43m=\u001b[39;49m\u001b[43mcompile_kwargs\u001b[49m\u001b[43m,\u001b[49m\n\u001b[0;32m    843\u001b[0m \u001b[43m            \u001b[49m\u001b[38;5;241;43m*\u001b[39;49m\u001b[38;5;241;43m*\u001b[39;49m\u001b[43mkwargs\u001b[49m\u001b[43m,\u001b[49m\n\u001b[0;32m    844\u001b[0m \u001b[43m        \u001b[49m\u001b[43m)\u001b[49m\n\u001b[0;32m    845\u001b[0m \u001b[38;5;28;01melse\u001b[39;00m:\n\u001b[0;32m    846\u001b[0m     \u001b[38;5;66;03m# Get initial points\u001b[39;00m\n\u001b[0;32m    847\u001b[0m     ipfns \u001b[38;5;241m=\u001b[39m make_initial_point_fns_per_chain(\n\u001b[0;32m    848\u001b[0m         model\u001b[38;5;241m=\u001b[39mmodel,\n\u001b[0;32m    849\u001b[0m         overrides\u001b[38;5;241m=\u001b[39minitvals,\n\u001b[0;32m    850\u001b[0m         jitter_rvs\u001b[38;5;241m=\u001b[39m\u001b[38;5;28mset\u001b[39m(),\n\u001b[0;32m    851\u001b[0m         chains\u001b[38;5;241m=\u001b[39mchains,\n\u001b[0;32m    852\u001b[0m     )\n",
      "File \u001b[1;32mc:\\Users\\heide\\AppData\\Local\\Programs\\Python\\Python311\\Lib\\site-packages\\pymc\\sampling\\mcmc.py:1598\u001b[0m, in \u001b[0;36minit_nuts\u001b[1;34m(init, chains, n_init, model, random_seed, progressbar, jitter_max_retries, tune, initvals, compile_kwargs, **kwargs)\u001b[0m\n\u001b[0;32m   1592\u001b[0m \u001b[38;5;28;01mif\u001b[39;00m \u001b[38;5;124m\"\u001b[39m\u001b[38;5;124madvi\u001b[39m\u001b[38;5;124m\"\u001b[39m \u001b[38;5;129;01min\u001b[39;00m init:\n\u001b[0;32m   1593\u001b[0m     cb \u001b[38;5;241m=\u001b[39m [\n\u001b[0;32m   1594\u001b[0m         pm\u001b[38;5;241m.\u001b[39mcallbacks\u001b[38;5;241m.\u001b[39mCheckParametersConvergence(tolerance\u001b[38;5;241m=\u001b[39m\u001b[38;5;241m1e-2\u001b[39m, diff\u001b[38;5;241m=\u001b[39m\u001b[38;5;124m\"\u001b[39m\u001b[38;5;124mabsolute\u001b[39m\u001b[38;5;124m\"\u001b[39m),\n\u001b[0;32m   1595\u001b[0m         pm\u001b[38;5;241m.\u001b[39mcallbacks\u001b[38;5;241m.\u001b[39mCheckParametersConvergence(tolerance\u001b[38;5;241m=\u001b[39m\u001b[38;5;241m1e-2\u001b[39m, diff\u001b[38;5;241m=\u001b[39m\u001b[38;5;124m\"\u001b[39m\u001b[38;5;124mrelative\u001b[39m\u001b[38;5;124m\"\u001b[39m),\n\u001b[0;32m   1596\u001b[0m     ]\n\u001b[1;32m-> 1598\u001b[0m logp_dlogp_func \u001b[38;5;241m=\u001b[39m \u001b[43mmodel\u001b[49m\u001b[38;5;241;43m.\u001b[39;49m\u001b[43mlogp_dlogp_function\u001b[49m\u001b[43m(\u001b[49m\u001b[43mravel_inputs\u001b[49m\u001b[38;5;241;43m=\u001b[39;49m\u001b[38;5;28;43;01mTrue\u001b[39;49;00m\u001b[43m,\u001b[49m\u001b[43m \u001b[49m\u001b[38;5;241;43m*\u001b[39;49m\u001b[38;5;241;43m*\u001b[39;49m\u001b[43mcompile_kwargs\u001b[49m\u001b[43m)\u001b[49m\n\u001b[0;32m   1599\u001b[0m logp_dlogp_func\u001b[38;5;241m.\u001b[39mtrust_input \u001b[38;5;241m=\u001b[39m \u001b[38;5;28;01mTrue\u001b[39;00m\n\u001b[0;32m   1601\u001b[0m \u001b[38;5;28;01mdef\u001b[39;00m\u001b[38;5;250m \u001b[39m\u001b[38;5;21mmodel_logp_fn\u001b[39m(ip: PointType) \u001b[38;5;241m-\u001b[39m\u001b[38;5;241m>\u001b[39m np\u001b[38;5;241m.\u001b[39mndarray:\n",
      "File \u001b[1;32mc:\\Users\\heide\\AppData\\Local\\Programs\\Python\\Python311\\Lib\\site-packages\\pymc\\model\\core.py:566\u001b[0m, in \u001b[0;36mModel.logp_dlogp_function\u001b[1;34m(self, grad_vars, tempered, initial_point, ravel_inputs, **kwargs)\u001b[0m\n\u001b[0;32m    564\u001b[0m input_vars \u001b[38;5;241m=\u001b[39m {i \u001b[38;5;28;01mfor\u001b[39;00m i \u001b[38;5;129;01min\u001b[39;00m graph_inputs(costs) \u001b[38;5;28;01mif\u001b[39;00m \u001b[38;5;129;01mnot\u001b[39;00m \u001b[38;5;28misinstance\u001b[39m(i, Constant)}\n\u001b[0;32m    565\u001b[0m \u001b[38;5;28;01mif\u001b[39;00m initial_point \u001b[38;5;129;01mis\u001b[39;00m \u001b[38;5;28;01mNone\u001b[39;00m:\n\u001b[1;32m--> 566\u001b[0m     initial_point \u001b[38;5;241m=\u001b[39m \u001b[38;5;28;43mself\u001b[39;49m\u001b[38;5;241;43m.\u001b[39;49m\u001b[43minitial_point\u001b[49m\u001b[43m(\u001b[49m\u001b[38;5;241;43m0\u001b[39;49m\u001b[43m)\u001b[49m\n\u001b[0;32m    567\u001b[0m extra_vars_and_values \u001b[38;5;241m=\u001b[39m {\n\u001b[0;32m    568\u001b[0m     var: initial_point[var\u001b[38;5;241m.\u001b[39mname]\n\u001b[0;32m    569\u001b[0m     \u001b[38;5;28;01mfor\u001b[39;00m var \u001b[38;5;129;01min\u001b[39;00m \u001b[38;5;28mself\u001b[39m\u001b[38;5;241m.\u001b[39mvalue_vars\n\u001b[0;32m    570\u001b[0m     \u001b[38;5;28;01mif\u001b[39;00m var \u001b[38;5;129;01min\u001b[39;00m input_vars \u001b[38;5;129;01mand\u001b[39;00m var \u001b[38;5;129;01mnot\u001b[39;00m \u001b[38;5;129;01min\u001b[39;00m grad_vars\n\u001b[0;32m    571\u001b[0m }\n\u001b[0;32m    572\u001b[0m \u001b[38;5;28;01mreturn\u001b[39;00m ValueGradFunction(\n\u001b[0;32m    573\u001b[0m     costs,\n\u001b[0;32m    574\u001b[0m     grad_vars,\n\u001b[1;32m   (...)\u001b[0m\n\u001b[0;32m    579\u001b[0m     \u001b[38;5;241m*\u001b[39m\u001b[38;5;241m*\u001b[39mkwargs,\n\u001b[0;32m    580\u001b[0m )\n",
      "File \u001b[1;32mc:\\Users\\heide\\AppData\\Local\\Programs\\Python\\Python311\\Lib\\site-packages\\pymc\\model\\core.py:1041\u001b[0m, in \u001b[0;36mModel.initial_point\u001b[1;34m(self, random_seed)\u001b[0m\n\u001b[0;32m   1028\u001b[0m \u001b[38;5;28;01mdef\u001b[39;00m\u001b[38;5;250m \u001b[39m\u001b[38;5;21minitial_point\u001b[39m(\u001b[38;5;28mself\u001b[39m, random_seed: SeedSequenceSeed \u001b[38;5;241m=\u001b[39m \u001b[38;5;28;01mNone\u001b[39;00m) \u001b[38;5;241m-\u001b[39m\u001b[38;5;241m>\u001b[39m \u001b[38;5;28mdict\u001b[39m[\u001b[38;5;28mstr\u001b[39m, np\u001b[38;5;241m.\u001b[39mndarray]:\n\u001b[0;32m   1029\u001b[0m \u001b[38;5;250m    \u001b[39m\u001b[38;5;124;03m\"\"\"Compute the initial point of the model.\u001b[39;00m\n\u001b[0;32m   1030\u001b[0m \n\u001b[0;32m   1031\u001b[0m \u001b[38;5;124;03m    Parameters\u001b[39;00m\n\u001b[1;32m   (...)\u001b[0m\n\u001b[0;32m   1039\u001b[0m \u001b[38;5;124;03m        Maps names of transformed variables to numeric initial values in the transformed space.\u001b[39;00m\n\u001b[0;32m   1040\u001b[0m \u001b[38;5;124;03m    \"\"\"\u001b[39;00m\n\u001b[1;32m-> 1041\u001b[0m     fn \u001b[38;5;241m=\u001b[39m \u001b[43mmake_initial_point_fn\u001b[49m\u001b[43m(\u001b[49m\u001b[43mmodel\u001b[49m\u001b[38;5;241;43m=\u001b[39;49m\u001b[38;5;28;43mself\u001b[39;49m\u001b[43m,\u001b[49m\u001b[43m \u001b[49m\u001b[43mreturn_transformed\u001b[49m\u001b[38;5;241;43m=\u001b[39;49m\u001b[38;5;28;43;01mTrue\u001b[39;49;00m\u001b[43m)\u001b[49m\n\u001b[0;32m   1042\u001b[0m     \u001b[38;5;28;01mreturn\u001b[39;00m Point(fn(random_seed), model\u001b[38;5;241m=\u001b[39m\u001b[38;5;28mself\u001b[39m)\n",
      "File \u001b[1;32mc:\\Users\\heide\\AppData\\Local\\Programs\\Python\\Python311\\Lib\\site-packages\\pymc\\initial_point.py:170\u001b[0m, in \u001b[0;36mmake_initial_point_fn\u001b[1;34m(model, overrides, jitter_rvs, default_strategy, return_transformed)\u001b[0m\n\u001b[0;32m    167\u001b[0m \u001b[38;5;66;03m# Replace original rng shared variables so that we don't mess with them\u001b[39;00m\n\u001b[0;32m    168\u001b[0m \u001b[38;5;66;03m# when calling the final seeded function\u001b[39;00m\n\u001b[0;32m    169\u001b[0m initial_values \u001b[38;5;241m=\u001b[39m replace_rng_nodes(initial_values)\n\u001b[1;32m--> 170\u001b[0m func \u001b[38;5;241m=\u001b[39m \u001b[38;5;28;43mcompile\u001b[39;49m\u001b[43m(\u001b[49m\u001b[43minputs\u001b[49m\u001b[38;5;241;43m=\u001b[39;49m\u001b[43m[\u001b[49m\u001b[43m]\u001b[49m\u001b[43m,\u001b[49m\u001b[43m \u001b[49m\u001b[43moutputs\u001b[49m\u001b[38;5;241;43m=\u001b[39;49m\u001b[43minitial_values\u001b[49m\u001b[43m,\u001b[49m\u001b[43m \u001b[49m\u001b[43mmode\u001b[49m\u001b[38;5;241;43m=\u001b[39;49m\u001b[43mpytensor\u001b[49m\u001b[38;5;241;43m.\u001b[39;49m\u001b[43mcompile\u001b[49m\u001b[38;5;241;43m.\u001b[39;49m\u001b[43mmode\u001b[49m\u001b[38;5;241;43m.\u001b[39;49m\u001b[43mFAST_COMPILE\u001b[49m\u001b[43m)\u001b[49m\n\u001b[0;32m    172\u001b[0m varnames \u001b[38;5;241m=\u001b[39m []\n\u001b[0;32m    173\u001b[0m \u001b[38;5;28;01mfor\u001b[39;00m var \u001b[38;5;129;01min\u001b[39;00m model\u001b[38;5;241m.\u001b[39mfree_RVs:\n",
      "File \u001b[1;32mc:\\Users\\heide\\AppData\\Local\\Programs\\Python\\Python311\\Lib\\site-packages\\pymc\\pytensorf.py:1046\u001b[0m, in \u001b[0;36mcompile\u001b[1;34m(inputs, outputs, random_seed, mode, **kwargs)\u001b[0m\n\u001b[0;32m   1044\u001b[0m opt_qry \u001b[38;5;241m=\u001b[39m mode\u001b[38;5;241m.\u001b[39mprovided_optimizer\u001b[38;5;241m.\u001b[39mincluding(\u001b[38;5;124m\"\u001b[39m\u001b[38;5;124mrandom_make_inplace\u001b[39m\u001b[38;5;124m\"\u001b[39m, check_parameter_opt)\n\u001b[0;32m   1045\u001b[0m mode \u001b[38;5;241m=\u001b[39m Mode(linker\u001b[38;5;241m=\u001b[39mmode\u001b[38;5;241m.\u001b[39mlinker, optimizer\u001b[38;5;241m=\u001b[39mopt_qry)\n\u001b[1;32m-> 1046\u001b[0m pytensor_function \u001b[38;5;241m=\u001b[39m \u001b[43mpytensor\u001b[49m\u001b[38;5;241;43m.\u001b[39;49m\u001b[43mfunction\u001b[49m\u001b[43m(\u001b[49m\n\u001b[0;32m   1047\u001b[0m \u001b[43m    \u001b[49m\u001b[43minputs\u001b[49m\u001b[43m,\u001b[49m\n\u001b[0;32m   1048\u001b[0m \u001b[43m    \u001b[49m\u001b[43moutputs\u001b[49m\u001b[43m,\u001b[49m\n\u001b[0;32m   1049\u001b[0m \u001b[43m    \u001b[49m\u001b[43mupdates\u001b[49m\u001b[38;5;241;43m=\u001b[39;49m\u001b[43m{\u001b[49m\u001b[38;5;241;43m*\u001b[39;49m\u001b[38;5;241;43m*\u001b[39;49m\u001b[43mrng_updates\u001b[49m\u001b[43m,\u001b[49m\u001b[43m \u001b[49m\u001b[38;5;241;43m*\u001b[39;49m\u001b[38;5;241;43m*\u001b[39;49m\u001b[43mkwargs\u001b[49m\u001b[38;5;241;43m.\u001b[39;49m\u001b[43mpop\u001b[49m\u001b[43m(\u001b[49m\u001b[38;5;124;43m\"\u001b[39;49m\u001b[38;5;124;43mupdates\u001b[39;49m\u001b[38;5;124;43m\"\u001b[39;49m\u001b[43m,\u001b[49m\u001b[43m \u001b[49m\u001b[43m{\u001b[49m\u001b[43m}\u001b[49m\u001b[43m)\u001b[49m\u001b[43m}\u001b[49m\u001b[43m,\u001b[49m\n\u001b[0;32m   1050\u001b[0m \u001b[43m    \u001b[49m\u001b[43mmode\u001b[49m\u001b[38;5;241;43m=\u001b[39;49m\u001b[43mmode\u001b[49m\u001b[43m,\u001b[49m\n\u001b[0;32m   1051\u001b[0m \u001b[43m    \u001b[49m\u001b[38;5;241;43m*\u001b[39;49m\u001b[38;5;241;43m*\u001b[39;49m\u001b[43mkwargs\u001b[49m\u001b[43m,\u001b[49m\n\u001b[0;32m   1052\u001b[0m \u001b[43m\u001b[49m\u001b[43m)\u001b[49m\n\u001b[0;32m   1053\u001b[0m \u001b[38;5;28;01mreturn\u001b[39;00m pytensor_function\n",
      "File \u001b[1;32mc:\\Users\\heide\\AppData\\Local\\Programs\\Python\\Python311\\Lib\\site-packages\\pytensor\\compile\\function\\__init__.py:318\u001b[0m, in \u001b[0;36mfunction\u001b[1;34m(inputs, outputs, mode, updates, givens, no_default_updates, accept_inplace, name, rebuild_strict, allow_input_downcast, profile, on_unused_input)\u001b[0m\n\u001b[0;32m    312\u001b[0m     fn \u001b[38;5;241m=\u001b[39m orig_function(\n\u001b[0;32m    313\u001b[0m         inputs, outputs, mode\u001b[38;5;241m=\u001b[39mmode, accept_inplace\u001b[38;5;241m=\u001b[39maccept_inplace, name\u001b[38;5;241m=\u001b[39mname\n\u001b[0;32m    314\u001b[0m     )\n\u001b[0;32m    315\u001b[0m \u001b[38;5;28;01melse\u001b[39;00m:\n\u001b[0;32m    316\u001b[0m     \u001b[38;5;66;03m# note: pfunc will also call orig_function -- orig_function is\u001b[39;00m\n\u001b[0;32m    317\u001b[0m     \u001b[38;5;66;03m#      a choke point that all compilation must pass through\u001b[39;00m\n\u001b[1;32m--> 318\u001b[0m     fn \u001b[38;5;241m=\u001b[39m \u001b[43mpfunc\u001b[49m\u001b[43m(\u001b[49m\n\u001b[0;32m    319\u001b[0m \u001b[43m        \u001b[49m\u001b[43mparams\u001b[49m\u001b[38;5;241;43m=\u001b[39;49m\u001b[43minputs\u001b[49m\u001b[43m,\u001b[49m\n\u001b[0;32m    320\u001b[0m \u001b[43m        \u001b[49m\u001b[43moutputs\u001b[49m\u001b[38;5;241;43m=\u001b[39;49m\u001b[43moutputs\u001b[49m\u001b[43m,\u001b[49m\n\u001b[0;32m    321\u001b[0m \u001b[43m        \u001b[49m\u001b[43mmode\u001b[49m\u001b[38;5;241;43m=\u001b[39;49m\u001b[43mmode\u001b[49m\u001b[43m,\u001b[49m\n\u001b[0;32m    322\u001b[0m \u001b[43m        \u001b[49m\u001b[43mupdates\u001b[49m\u001b[38;5;241;43m=\u001b[39;49m\u001b[43mupdates\u001b[49m\u001b[43m,\u001b[49m\n\u001b[0;32m    323\u001b[0m \u001b[43m        \u001b[49m\u001b[43mgivens\u001b[49m\u001b[38;5;241;43m=\u001b[39;49m\u001b[43mgivens\u001b[49m\u001b[43m,\u001b[49m\n\u001b[0;32m    324\u001b[0m \u001b[43m        \u001b[49m\u001b[43mno_default_updates\u001b[49m\u001b[38;5;241;43m=\u001b[39;49m\u001b[43mno_default_updates\u001b[49m\u001b[43m,\u001b[49m\n\u001b[0;32m    325\u001b[0m \u001b[43m        \u001b[49m\u001b[43maccept_inplace\u001b[49m\u001b[38;5;241;43m=\u001b[39;49m\u001b[43maccept_inplace\u001b[49m\u001b[43m,\u001b[49m\n\u001b[0;32m    326\u001b[0m \u001b[43m        \u001b[49m\u001b[43mname\u001b[49m\u001b[38;5;241;43m=\u001b[39;49m\u001b[43mname\u001b[49m\u001b[43m,\u001b[49m\n\u001b[0;32m    327\u001b[0m \u001b[43m        \u001b[49m\u001b[43mrebuild_strict\u001b[49m\u001b[38;5;241;43m=\u001b[39;49m\u001b[43mrebuild_strict\u001b[49m\u001b[43m,\u001b[49m\n\u001b[0;32m    328\u001b[0m \u001b[43m        \u001b[49m\u001b[43mallow_input_downcast\u001b[49m\u001b[38;5;241;43m=\u001b[39;49m\u001b[43mallow_input_downcast\u001b[49m\u001b[43m,\u001b[49m\n\u001b[0;32m    329\u001b[0m \u001b[43m        \u001b[49m\u001b[43mon_unused_input\u001b[49m\u001b[38;5;241;43m=\u001b[39;49m\u001b[43mon_unused_input\u001b[49m\u001b[43m,\u001b[49m\n\u001b[0;32m    330\u001b[0m \u001b[43m        \u001b[49m\u001b[43mprofile\u001b[49m\u001b[38;5;241;43m=\u001b[39;49m\u001b[43mprofile\u001b[49m\u001b[43m,\u001b[49m\n\u001b[0;32m    331\u001b[0m \u001b[43m        \u001b[49m\u001b[43moutput_keys\u001b[49m\u001b[38;5;241;43m=\u001b[39;49m\u001b[43moutput_keys\u001b[49m\u001b[43m,\u001b[49m\n\u001b[0;32m    332\u001b[0m \u001b[43m    \u001b[49m\u001b[43m)\u001b[49m\n\u001b[0;32m    333\u001b[0m \u001b[38;5;28;01mreturn\u001b[39;00m fn\n",
      "File \u001b[1;32mc:\\Users\\heide\\AppData\\Local\\Programs\\Python\\Python311\\Lib\\site-packages\\pytensor\\compile\\function\\pfunc.py:465\u001b[0m, in \u001b[0;36mpfunc\u001b[1;34m(params, outputs, mode, updates, givens, no_default_updates, accept_inplace, name, rebuild_strict, allow_input_downcast, profile, on_unused_input, output_keys, fgraph)\u001b[0m\n\u001b[0;32m    451\u001b[0m     profile \u001b[38;5;241m=\u001b[39m ProfileStats(message\u001b[38;5;241m=\u001b[39mprofile)\n\u001b[0;32m    453\u001b[0m inputs, cloned_outputs \u001b[38;5;241m=\u001b[39m construct_pfunc_ins_and_outs(\n\u001b[0;32m    454\u001b[0m     params,\n\u001b[0;32m    455\u001b[0m     outputs,\n\u001b[1;32m   (...)\u001b[0m\n\u001b[0;32m    462\u001b[0m     fgraph\u001b[38;5;241m=\u001b[39mfgraph,\n\u001b[0;32m    463\u001b[0m )\n\u001b[1;32m--> 465\u001b[0m \u001b[38;5;28;01mreturn\u001b[39;00m \u001b[43morig_function\u001b[49m\u001b[43m(\u001b[49m\n\u001b[0;32m    466\u001b[0m \u001b[43m    \u001b[49m\u001b[43minputs\u001b[49m\u001b[43m,\u001b[49m\n\u001b[0;32m    467\u001b[0m \u001b[43m    \u001b[49m\u001b[43mcloned_outputs\u001b[49m\u001b[43m,\u001b[49m\n\u001b[0;32m    468\u001b[0m \u001b[43m    \u001b[49m\u001b[43mmode\u001b[49m\u001b[43m,\u001b[49m\n\u001b[0;32m    469\u001b[0m \u001b[43m    \u001b[49m\u001b[43maccept_inplace\u001b[49m\u001b[38;5;241;43m=\u001b[39;49m\u001b[43maccept_inplace\u001b[49m\u001b[43m,\u001b[49m\n\u001b[0;32m    470\u001b[0m \u001b[43m    \u001b[49m\u001b[43mname\u001b[49m\u001b[38;5;241;43m=\u001b[39;49m\u001b[43mname\u001b[49m\u001b[43m,\u001b[49m\n\u001b[0;32m    471\u001b[0m \u001b[43m    \u001b[49m\u001b[43mprofile\u001b[49m\u001b[38;5;241;43m=\u001b[39;49m\u001b[43mprofile\u001b[49m\u001b[43m,\u001b[49m\n\u001b[0;32m    472\u001b[0m \u001b[43m    \u001b[49m\u001b[43mon_unused_input\u001b[49m\u001b[38;5;241;43m=\u001b[39;49m\u001b[43mon_unused_input\u001b[49m\u001b[43m,\u001b[49m\n\u001b[0;32m    473\u001b[0m \u001b[43m    \u001b[49m\u001b[43moutput_keys\u001b[49m\u001b[38;5;241;43m=\u001b[39;49m\u001b[43moutput_keys\u001b[49m\u001b[43m,\u001b[49m\n\u001b[0;32m    474\u001b[0m \u001b[43m    \u001b[49m\u001b[43mfgraph\u001b[49m\u001b[38;5;241;43m=\u001b[39;49m\u001b[43mfgraph\u001b[49m\u001b[43m,\u001b[49m\n\u001b[0;32m    475\u001b[0m \u001b[43m\u001b[49m\u001b[43m)\u001b[49m\n",
      "File \u001b[1;32mc:\\Users\\heide\\AppData\\Local\\Programs\\Python\\Python311\\Lib\\site-packages\\pytensor\\compile\\function\\types.py:1769\u001b[0m, in \u001b[0;36morig_function\u001b[1;34m(inputs, outputs, mode, accept_inplace, name, profile, on_unused_input, output_keys, fgraph)\u001b[0m\n\u001b[0;32m   1757\u001b[0m     m \u001b[38;5;241m=\u001b[39m Maker(\n\u001b[0;32m   1758\u001b[0m         inputs,\n\u001b[0;32m   1759\u001b[0m         outputs,\n\u001b[1;32m   (...)\u001b[0m\n\u001b[0;32m   1766\u001b[0m         fgraph\u001b[38;5;241m=\u001b[39mfgraph,\n\u001b[0;32m   1767\u001b[0m     )\n\u001b[0;32m   1768\u001b[0m     \u001b[38;5;28;01mwith\u001b[39;00m config\u001b[38;5;241m.\u001b[39mchange_flags(compute_test_value\u001b[38;5;241m=\u001b[39m\u001b[38;5;124m\"\u001b[39m\u001b[38;5;124moff\u001b[39m\u001b[38;5;124m\"\u001b[39m):\n\u001b[1;32m-> 1769\u001b[0m         fn \u001b[38;5;241m=\u001b[39m \u001b[43mm\u001b[49m\u001b[38;5;241;43m.\u001b[39;49m\u001b[43mcreate\u001b[49m\u001b[43m(\u001b[49m\u001b[43mdefaults\u001b[49m\u001b[43m)\u001b[49m\n\u001b[0;32m   1770\u001b[0m \u001b[38;5;28;01mfinally\u001b[39;00m:\n\u001b[0;32m   1771\u001b[0m     \u001b[38;5;28;01mif\u001b[39;00m profile \u001b[38;5;129;01mand\u001b[39;00m fn:\n",
      "File \u001b[1;32mc:\\Users\\heide\\AppData\\Local\\Programs\\Python\\Python311\\Lib\\site-packages\\pytensor\\compile\\function\\types.py:1661\u001b[0m, in \u001b[0;36mFunctionMaker.create\u001b[1;34m(self, input_storage, storage_map)\u001b[0m\n\u001b[0;32m   1658\u001b[0m start_import_time \u001b[38;5;241m=\u001b[39m pytensor\u001b[38;5;241m.\u001b[39mlink\u001b[38;5;241m.\u001b[39mc\u001b[38;5;241m.\u001b[39mcmodule\u001b[38;5;241m.\u001b[39mimport_time\n\u001b[0;32m   1660\u001b[0m \u001b[38;5;28;01mwith\u001b[39;00m config\u001b[38;5;241m.\u001b[39mchange_flags(traceback__limit\u001b[38;5;241m=\u001b[39mconfig\u001b[38;5;241m.\u001b[39mtraceback__compile_limit):\n\u001b[1;32m-> 1661\u001b[0m     _fn, _i, _o \u001b[38;5;241m=\u001b[39m \u001b[38;5;28;43mself\u001b[39;49m\u001b[38;5;241;43m.\u001b[39;49m\u001b[43mlinker\u001b[49m\u001b[38;5;241;43m.\u001b[39;49m\u001b[43mmake_thunk\u001b[49m\u001b[43m(\u001b[49m\n\u001b[0;32m   1662\u001b[0m \u001b[43m        \u001b[49m\u001b[43minput_storage\u001b[49m\u001b[38;5;241;43m=\u001b[39;49m\u001b[43minput_storage_lists\u001b[49m\u001b[43m,\u001b[49m\u001b[43m \u001b[49m\u001b[43mstorage_map\u001b[49m\u001b[38;5;241;43m=\u001b[39;49m\u001b[43mstorage_map\u001b[49m\n\u001b[0;32m   1663\u001b[0m \u001b[43m    \u001b[49m\u001b[43m)\u001b[49m\n\u001b[0;32m   1665\u001b[0m end_linker \u001b[38;5;241m=\u001b[39m time\u001b[38;5;241m.\u001b[39mperf_counter()\n\u001b[0;32m   1667\u001b[0m linker_time \u001b[38;5;241m=\u001b[39m end_linker \u001b[38;5;241m-\u001b[39m start_linker\n",
      "File \u001b[1;32mc:\\Users\\heide\\AppData\\Local\\Programs\\Python\\Python311\\Lib\\site-packages\\pytensor\\link\\basic.py:245\u001b[0m, in \u001b[0;36mLocalLinker.make_thunk\u001b[1;34m(self, input_storage, output_storage, storage_map, **kwargs)\u001b[0m\n\u001b[0;32m    238\u001b[0m \u001b[38;5;28;01mdef\u001b[39;00m\u001b[38;5;250m \u001b[39m\u001b[38;5;21mmake_thunk\u001b[39m(\n\u001b[0;32m    239\u001b[0m     \u001b[38;5;28mself\u001b[39m,\n\u001b[0;32m    240\u001b[0m     input_storage: Optional[\u001b[38;5;124m\"\u001b[39m\u001b[38;5;124mInputStorageType\u001b[39m\u001b[38;5;124m\"\u001b[39m] \u001b[38;5;241m=\u001b[39m \u001b[38;5;28;01mNone\u001b[39;00m,\n\u001b[1;32m   (...)\u001b[0m\n\u001b[0;32m    243\u001b[0m     \u001b[38;5;241m*\u001b[39m\u001b[38;5;241m*\u001b[39mkwargs,\n\u001b[0;32m    244\u001b[0m ) \u001b[38;5;241m-\u001b[39m\u001b[38;5;241m>\u001b[39m \u001b[38;5;28mtuple\u001b[39m[\u001b[38;5;124m\"\u001b[39m\u001b[38;5;124mBasicThunkType\u001b[39m\u001b[38;5;124m\"\u001b[39m, \u001b[38;5;124m\"\u001b[39m\u001b[38;5;124mInputStorageType\u001b[39m\u001b[38;5;124m\"\u001b[39m, \u001b[38;5;124m\"\u001b[39m\u001b[38;5;124mOutputStorageType\u001b[39m\u001b[38;5;124m\"\u001b[39m]:\n\u001b[1;32m--> 245\u001b[0m     \u001b[38;5;28;01mreturn\u001b[39;00m \u001b[38;5;28;43mself\u001b[39;49m\u001b[38;5;241;43m.\u001b[39;49m\u001b[43mmake_all\u001b[49m\u001b[43m(\u001b[49m\n\u001b[0;32m    246\u001b[0m \u001b[43m        \u001b[49m\u001b[43minput_storage\u001b[49m\u001b[38;5;241;43m=\u001b[39;49m\u001b[43minput_storage\u001b[49m\u001b[43m,\u001b[49m\n\u001b[0;32m    247\u001b[0m \u001b[43m        \u001b[49m\u001b[43moutput_storage\u001b[49m\u001b[38;5;241;43m=\u001b[39;49m\u001b[43moutput_storage\u001b[49m\u001b[43m,\u001b[49m\n\u001b[0;32m    248\u001b[0m \u001b[43m        \u001b[49m\u001b[43mstorage_map\u001b[49m\u001b[38;5;241;43m=\u001b[39;49m\u001b[43mstorage_map\u001b[49m\u001b[43m,\u001b[49m\n\u001b[0;32m    249\u001b[0m \u001b[43m    \u001b[49m\u001b[43m)\u001b[49m[:\u001b[38;5;241m3\u001b[39m]\n",
      "File \u001b[1;32mc:\\Users\\heide\\AppData\\Local\\Programs\\Python\\Python311\\Lib\\site-packages\\pytensor\\link\\vm.py:1285\u001b[0m, in \u001b[0;36mVMLinker.make_all\u001b[1;34m(self, profiler, input_storage, output_storage, storage_map)\u001b[0m\n\u001b[0;32m   1282\u001b[0m \u001b[38;5;28;01melse\u001b[39;00m:\n\u001b[0;32m   1283\u001b[0m     post_thunk_clear \u001b[38;5;241m=\u001b[39m \u001b[38;5;28;01mNone\u001b[39;00m\n\u001b[1;32m-> 1285\u001b[0m vm \u001b[38;5;241m=\u001b[39m \u001b[38;5;28;43mself\u001b[39;49m\u001b[38;5;241;43m.\u001b[39;49m\u001b[43mmake_vm\u001b[49m\u001b[43m(\u001b[49m\n\u001b[0;32m   1286\u001b[0m \u001b[43m    \u001b[49m\u001b[43morder\u001b[49m\u001b[43m,\u001b[49m\n\u001b[0;32m   1287\u001b[0m \u001b[43m    \u001b[49m\u001b[43mthunks\u001b[49m\u001b[43m,\u001b[49m\n\u001b[0;32m   1288\u001b[0m \u001b[43m    \u001b[49m\u001b[43minput_storage\u001b[49m\u001b[43m,\u001b[49m\n\u001b[0;32m   1289\u001b[0m \u001b[43m    \u001b[49m\u001b[43moutput_storage\u001b[49m\u001b[43m,\u001b[49m\n\u001b[0;32m   1290\u001b[0m \u001b[43m    \u001b[49m\u001b[43mstorage_map\u001b[49m\u001b[43m,\u001b[49m\n\u001b[0;32m   1291\u001b[0m \u001b[43m    \u001b[49m\u001b[43mpost_thunk_clear\u001b[49m\u001b[43m,\u001b[49m\n\u001b[0;32m   1292\u001b[0m \u001b[43m    \u001b[49m\u001b[43mcomputed\u001b[49m\u001b[43m,\u001b[49m\n\u001b[0;32m   1293\u001b[0m \u001b[43m    \u001b[49m\u001b[43mcompute_map\u001b[49m\u001b[43m,\u001b[49m\n\u001b[0;32m   1294\u001b[0m \u001b[43m    \u001b[49m\u001b[38;5;28;43mself\u001b[39;49m\u001b[38;5;241;43m.\u001b[39;49m\u001b[43mupdated_vars\u001b[49m\u001b[43m,\u001b[49m\n\u001b[0;32m   1295\u001b[0m \u001b[43m\u001b[49m\u001b[43m)\u001b[49m\n\u001b[0;32m   1297\u001b[0m vm\u001b[38;5;241m.\u001b[39mstorage_map \u001b[38;5;241m=\u001b[39m storage_map\n\u001b[0;32m   1298\u001b[0m vm\u001b[38;5;241m.\u001b[39mcompute_map \u001b[38;5;241m=\u001b[39m compute_map\n",
      "File \u001b[1;32mc:\\Users\\heide\\AppData\\Local\\Programs\\Python\\Python311\\Lib\\site-packages\\pytensor\\link\\vm.py:1013\u001b[0m, in \u001b[0;36mVMLinker.make_vm\u001b[1;34m(self, nodes, thunks, input_storage, output_storage, storage_map, post_thunk_clear, computed, compute_map, updated_vars)\u001b[0m\n\u001b[0;32m   1010\u001b[0m pre_call_clear \u001b[38;5;241m=\u001b[39m [storage_map[v] \u001b[38;5;28;01mfor\u001b[39;00m v \u001b[38;5;129;01min\u001b[39;00m \u001b[38;5;28mself\u001b[39m\u001b[38;5;241m.\u001b[39mno_recycling]\n\u001b[0;32m   1012\u001b[0m \u001b[38;5;28;01mtry\u001b[39;00m:\n\u001b[1;32m-> 1013\u001b[0m     \u001b[38;5;28;01mfrom\u001b[39;00m\u001b[38;5;250m \u001b[39m\u001b[38;5;21;01mpytensor\u001b[39;00m\u001b[38;5;21;01m.\u001b[39;00m\u001b[38;5;21;01mlink\u001b[39;00m\u001b[38;5;21;01m.\u001b[39;00m\u001b[38;5;21;01mc\u001b[39;00m\u001b[38;5;21;01m.\u001b[39;00m\u001b[38;5;21;01mcvm\u001b[39;00m\u001b[38;5;250m \u001b[39m\u001b[38;5;28;01mimport\u001b[39;00m CVM\n\u001b[0;32m   1014\u001b[0m \u001b[38;5;28;01mexcept\u001b[39;00m (MissingGXX, \u001b[38;5;167;01mImportError\u001b[39;00m):\n\u001b[0;32m   1015\u001b[0m     CVM \u001b[38;5;241m=\u001b[39m \u001b[38;5;28;01mNone\u001b[39;00m\n",
      "File \u001b[1;32mc:\\Users\\heide\\AppData\\Local\\Programs\\Python\\Python311\\Lib\\site-packages\\pytensor\\link\\c\\cvm.py:13\u001b[0m\n\u001b[0;32m      9\u001b[0m \u001b[38;5;28;01mif\u001b[39;00m \u001b[38;5;129;01mnot\u001b[39;00m config\u001b[38;5;241m.\u001b[39mcxx:\n\u001b[0;32m     10\u001b[0m     \u001b[38;5;28;01mraise\u001b[39;00m MissingGXX(\n\u001b[0;32m     11\u001b[0m         \u001b[38;5;124m\"\u001b[39m\u001b[38;5;124mlazylinker will not be imported if pytensor.config.cxx is not set.\u001b[39m\u001b[38;5;124m\"\u001b[39m\n\u001b[0;32m     12\u001b[0m     )\n\u001b[1;32m---> 13\u001b[0m \u001b[38;5;28;01mfrom\u001b[39;00m\u001b[38;5;250m \u001b[39m\u001b[38;5;21;01mpytensor\u001b[39;00m\u001b[38;5;21;01m.\u001b[39;00m\u001b[38;5;21;01mlink\u001b[39;00m\u001b[38;5;21;01m.\u001b[39;00m\u001b[38;5;21;01mc\u001b[39;00m\u001b[38;5;21;01m.\u001b[39;00m\u001b[38;5;21;01mlazylinker_c\u001b[39;00m\u001b[38;5;250m \u001b[39m\u001b[38;5;28;01mimport\u001b[39;00m CLazyLinker\n\u001b[0;32m     15\u001b[0m \u001b[38;5;28;01mclass\u001b[39;00m\u001b[38;5;250m \u001b[39m\u001b[38;5;21;01mCVM\u001b[39;00m(CLazyLinker, VM):\n\u001b[0;32m     16\u001b[0m     \u001b[38;5;28;01mdef\u001b[39;00m\u001b[38;5;250m \u001b[39m\u001b[38;5;21m__init__\u001b[39m(\u001b[38;5;28mself\u001b[39m, fgraph, \u001b[38;5;241m*\u001b[39margs, \u001b[38;5;241m*\u001b[39m\u001b[38;5;241m*\u001b[39mkwargs):\n",
      "File \u001b[1;32mc:\\Users\\heide\\AppData\\Local\\Programs\\Python\\Python311\\Lib\\site-packages\\pytensor\\link\\c\\lazylinker_c.py:122\u001b[0m\n\u001b[0;32m    119\u001b[0m loc\u001b[38;5;241m.\u001b[39mmkdir(exist_ok\u001b[38;5;241m=\u001b[39m\u001b[38;5;28;01mTrue\u001b[39;00m)\n\u001b[0;32m    121\u001b[0m args \u001b[38;5;241m=\u001b[39m GCC_compiler\u001b[38;5;241m.\u001b[39mcompile_args()\n\u001b[1;32m--> 122\u001b[0m \u001b[43mGCC_compiler\u001b[49m\u001b[38;5;241;43m.\u001b[39;49m\u001b[43mcompile_str\u001b[49m\u001b[43m(\u001b[49m\u001b[43mdirname\u001b[49m\u001b[43m,\u001b[49m\u001b[43m \u001b[49m\u001b[43mcode\u001b[49m\u001b[43m,\u001b[49m\u001b[43m \u001b[49m\u001b[43mlocation\u001b[49m\u001b[38;5;241;43m=\u001b[39;49m\u001b[43mloc\u001b[49m\u001b[43m,\u001b[49m\u001b[43m \u001b[49m\u001b[43mpreargs\u001b[49m\u001b[38;5;241;43m=\u001b[39;49m\u001b[43margs\u001b[49m\u001b[43m)\u001b[49m\n\u001b[0;32m    123\u001b[0m \u001b[38;5;66;03m# Save version into the __init__.py file.\u001b[39;00m\n\u001b[0;32m    124\u001b[0m init_py \u001b[38;5;241m=\u001b[39m loc \u001b[38;5;241m/\u001b[39m \u001b[38;5;124m\"\u001b[39m\u001b[38;5;124m__init__.py\u001b[39m\u001b[38;5;124m\"\u001b[39m\n",
      "File \u001b[1;32mc:\\Users\\heide\\AppData\\Local\\Programs\\Python\\Python311\\Lib\\site-packages\\pytensor\\link\\c\\cmodule.py:2676\u001b[0m, in \u001b[0;36mGCC_compiler.compile_str\u001b[1;34m(module_name, src_code, location, include_dirs, lib_dirs, libs, preargs, py_module, hide_symbols)\u001b[0m\n\u001b[0;32m   2668\u001b[0m                 \u001b[38;5;28mprint\u001b[39m(\n\u001b[0;32m   2669\u001b[0m                     \u001b[38;5;124m\"\u001b[39m\u001b[38;5;124mCheck if package python-dev or python-devel is installed.\u001b[39m\u001b[38;5;124m\"\u001b[39m\n\u001b[0;32m   2670\u001b[0m                 )\n\u001b[0;32m   2672\u001b[0m     \u001b[38;5;66;03m# We replace '\\n' by '. ' in the error message because when Python\u001b[39;00m\n\u001b[0;32m   2673\u001b[0m     \u001b[38;5;66;03m# prints the exception, having '\\n' in the text makes it more\u001b[39;00m\n\u001b[0;32m   2674\u001b[0m     \u001b[38;5;66;03m# difficult to read.\u001b[39;00m\n\u001b[0;32m   2675\u001b[0m     \u001b[38;5;66;03m# compile_stderr = compile_stderr.replace(\"\\n\", \". \")\u001b[39;00m\n\u001b[1;32m-> 2676\u001b[0m     \u001b[38;5;28;01mraise\u001b[39;00m CompileError(\n\u001b[0;32m   2677\u001b[0m         \u001b[38;5;124mf\u001b[39m\u001b[38;5;124m\"\u001b[39m\u001b[38;5;124mCompilation failed (return status=\u001b[39m\u001b[38;5;132;01m{\u001b[39;00mstatus\u001b[38;5;132;01m}\u001b[39;00m\u001b[38;5;124m):\u001b[39m\u001b[38;5;130;01m\\n\u001b[39;00m\u001b[38;5;132;01m{\u001b[39;00m\u001b[38;5;124m'\u001b[39m\u001b[38;5;124m \u001b[39m\u001b[38;5;124m'\u001b[39m\u001b[38;5;241m.\u001b[39mjoin(cmd)\u001b[38;5;132;01m}\u001b[39;00m\u001b[38;5;130;01m\\n\u001b[39;00m\u001b[38;5;132;01m{\u001b[39;00mcompile_stderr\u001b[38;5;132;01m}\u001b[39;00m\u001b[38;5;124m\"\u001b[39m\n\u001b[0;32m   2678\u001b[0m     )\n\u001b[0;32m   2679\u001b[0m \u001b[38;5;28;01melif\u001b[39;00m config\u001b[38;5;241m.\u001b[39mcmodule__compilation_warning \u001b[38;5;129;01mand\u001b[39;00m compile_stderr:\n\u001b[0;32m   2680\u001b[0m     \u001b[38;5;66;03m# Print errors just below the command line.\u001b[39;00m\n\u001b[0;32m   2681\u001b[0m     \u001b[38;5;28mprint\u001b[39m(compile_stderr)\n",
      "\u001b[1;31mCompileError\u001b[0m: Compilation failed (return status=1):\n\"C:\\MinGW\\bin\\g++.EXE\" -shared -g -Wno-c++11-narrowing -fno-exceptions -fno-unwind-tables -fno-asynchronous-unwind-tables -DNPY_NO_DEPRECATED_API=NPY_1_7_API_VERSION -m64 -DMS_WIN64 -I\"c:\\Users\\heide\\AppData\\Local\\Programs\\Python\\Python311\\Lib\\site-packages\\numpy\\core\\include\" -I\"c:\\Users\\heide\\AppData\\Local\\Programs\\Python\\Python311\\include\" -I\"c:\\Users\\heide\\AppData\\Local\\Programs\\Python\\Python311\\Lib\\site-packages\\pytensor\\link\\c\\c_code\" -L\"c:\\Users\\heide\\AppData\\Local\\Programs\\Python\\Python311\\libs\" -L\"c:\\Users\\heide\\AppData\\Local\\Programs\\Python\\Python311\" -o \"C:\\Users\\heide\\AppData\\Local\\PyTensor\\compiledir_Windows-10-10.0.26100-SP0-Intel64_Family_6_Model_142_Stepping_12_GenuineIntel-3.11.2-64\\lazylinker_ext\\lazylinker_ext.pyd\" \"C:\\Users\\heide\\AppData\\Local\\PyTensor\\compiledir_Windows-10-10.0.26100-SP0-Intel64_Family_6_Model_142_Stepping_12_GenuineIntel-3.11.2-64\\lazylinker_ext\\mod.cpp\" \"c:\\Users\\heide\\AppData\\Local\\Programs\\Python\\Python311\\python311.dll\"\nC:\\Users\\heide\\AppData\\Local\\PyTensor\\compiledir_Windows-10-10.0.26100-SP0-Intel64_Family_6_Model_142_Stepping_12_GenuineIntel-3.11.2-64\\lazylinker_ext\\mod.cpp:1:0: sorry, unimplemented: 64-bit mode not compiled in\r\n #include \"pytensor_mod_helper.h\"\r\n \r\n"
     ]
    }
   ],
   "source": [
    "# ----------------------------------------------------------------------\n",
    "# Set up and run MCMC:\n",
    "with pm.Model():\n",
    "    mu = pm.Uniform('mu', -5, 5) #uniform in Cauchy mu\n",
    "    log_gamma = pm.Uniform('log_gamma', -10, 10) #uniform in log of Cauchy gamma\n",
    "\n",
    "    # set up our observed variable x\n",
    "    # i.e. read this as 'x is distributed as a Cauchy variable'\n",
    "    x = pm.Cauchy('x', mu, np.exp(log_gamma), observed=xi)\n",
    "\n",
    "    trace = pm.sample(draws=12000, tune=1000, cores=1)"
   ]
  },
  {
   "cell_type": "markdown",
   "metadata": {},
   "source": [
    "You may have seen some output messages along the lines of \"Auto-assigning NUTS sampler...\". `PyMC3` is very sophisticated, and will automatically decide for you the best tools for the job. \n",
    "\n",
    "In this case, it decided you needed **No-U-Turn Hamiltonian gradient-based sampling**, where gradient information about the Cauchy likelihood helped in the exploration of parameter space. "
   ]
  },
  {
   "cell_type": "code",
   "execution_count": 25,
   "metadata": {},
   "outputs": [
    {
     "ename": "NameError",
     "evalue": "name 'trace' is not defined",
     "output_type": "error",
     "traceback": [
      "\u001b[1;31m---------------------------------------------------------------------------\u001b[0m",
      "\u001b[1;31mNameError\u001b[0m                                 Traceback (most recent call last)",
      "Cell \u001b[1;32mIn[25], line 1\u001b[0m\n\u001b[1;32m----> 1\u001b[0m np\u001b[38;5;241m.\u001b[39marray(\u001b[43mtrace\u001b[49m\u001b[38;5;241m.\u001b[39mposterior[\u001b[38;5;124m'\u001b[39m\u001b[38;5;124mmu\u001b[39m\u001b[38;5;124m'\u001b[39m])\u001b[38;5;241m.\u001b[39mflatten()\n",
      "\u001b[1;31mNameError\u001b[0m: name 'trace' is not defined"
     ]
    }
   ],
   "source": [
    "np.array(trace.posterior['mu']).flatten()"
   ]
  },
  {
   "cell_type": "code",
   "execution_count": null,
   "metadata": {},
   "outputs": [],
   "source": []
  },
  {
   "cell_type": "code",
   "execution_count": null,
   "metadata": {},
   "outputs": [],
   "source": []
  },
  {
   "cell_type": "code",
   "execution_count": 26,
   "metadata": {},
   "outputs": [
    {
     "ename": "NameError",
     "evalue": "name 'trace' is not defined",
     "output_type": "error",
     "traceback": [
      "\u001b[1;31m---------------------------------------------------------------------------\u001b[0m",
      "\u001b[1;31mNameError\u001b[0m                                 Traceback (most recent call last)",
      "Cell \u001b[1;32mIn[26], line 2\u001b[0m\n\u001b[0;32m      1\u001b[0m \u001b[38;5;66;03m# compute histogram of results to plot below\u001b[39;00m\n\u001b[1;32m----> 2\u001b[0m L_MCMC, mu_bins, gamma_bins \u001b[38;5;241m=\u001b[39m np\u001b[38;5;241m.\u001b[39mhistogram2d(np\u001b[38;5;241m.\u001b[39marray(\u001b[43mtrace\u001b[49m\u001b[38;5;241m.\u001b[39mposterior[\u001b[38;5;124m'\u001b[39m\u001b[38;5;124mmu\u001b[39m\u001b[38;5;124m'\u001b[39m])\u001b[38;5;241m.\u001b[39mflatten(),\n\u001b[0;32m      3\u001b[0m                                              np\u001b[38;5;241m.\u001b[39mexp(np\u001b[38;5;241m.\u001b[39marray(trace\u001b[38;5;241m.\u001b[39mposterior[\u001b[38;5;124m'\u001b[39m\u001b[38;5;124mlog_gamma\u001b[39m\u001b[38;5;124m'\u001b[39m]))\u001b[38;5;241m.\u001b[39mflatten(),\n\u001b[0;32m      4\u001b[0m                                              bins\u001b[38;5;241m=\u001b[39m(np\u001b[38;5;241m.\u001b[39mlinspace(\u001b[38;5;241m-\u001b[39m\u001b[38;5;241m5\u001b[39m, \u001b[38;5;241m5\u001b[39m, \u001b[38;5;241m41\u001b[39m),\n\u001b[0;32m      5\u001b[0m                                                    np\u001b[38;5;241m.\u001b[39mlinspace(\u001b[38;5;241m0\u001b[39m, \u001b[38;5;241m5\u001b[39m, \u001b[38;5;241m41\u001b[39m)))\n\u001b[0;32m      6\u001b[0m L_MCMC[L_MCMC \u001b[38;5;241m==\u001b[39m \u001b[38;5;241m0\u001b[39m] \u001b[38;5;241m=\u001b[39m \u001b[38;5;241m1E-16\u001b[39m  \u001b[38;5;66;03m# prevents zero-division errors\u001b[39;00m\n\u001b[0;32m      8\u001b[0m \u001b[38;5;66;03m# ----------------------------------------------------------------------\u001b[39;00m\n\u001b[0;32m      9\u001b[0m \u001b[38;5;66;03m# Compute likelihood analytically for comparison\u001b[39;00m\n",
      "\u001b[1;31mNameError\u001b[0m: name 'trace' is not defined"
     ]
    }
   ],
   "source": [
    "# compute histogram of results to plot below\n",
    "L_MCMC, mu_bins, gamma_bins = np.histogram2d(np.array(trace.posterior['mu']).flatten(),\n",
    "                                             np.exp(np.array(trace.posterior['log_gamma'])).flatten(),\n",
    "                                             bins=(np.linspace(-5, 5, 41),\n",
    "                                                   np.linspace(0, 5, 41)))\n",
    "L_MCMC[L_MCMC == 0] = 1E-16  # prevents zero-division errors\n",
    "\n",
    "# ----------------------------------------------------------------------\n",
    "# Compute likelihood analytically for comparison\n",
    "mu = np.linspace(-5, 5, 70)\n",
    "gamma = np.linspace(0.1, 5, 70)\n",
    "logL = cauchy_logL(xi, gamma[:, np.newaxis], mu)\n",
    "logL -= logL.max()\n",
    "\n",
    "p_mu = np.exp(logL).sum(0)\n",
    "p_mu /= p_mu.sum() * (mu[1] - mu[0])\n",
    "\n",
    "p_gamma = np.exp(logL).sum(1)\n",
    "p_gamma /= p_gamma.sum() * (gamma[1] - gamma[0])\n",
    "\n",
    "hist_mu, bins_mu = np.histogram(np.array(trace.posterior['mu']).flatten(), \n",
    "                                bins=mu_bins, density=True)\n",
    "hist_gamma, bins_gamma = np.histogram(np.exp(np.array(trace.posterior['log_gamma'])).flatten(),\n",
    "                                      bins=gamma_bins, density=True)"
   ]
  },
  {
   "cell_type": "code",
   "execution_count": 27,
   "metadata": {},
   "outputs": [
    {
     "ename": "NameError",
     "evalue": "name 'gamma' is not defined",
     "output_type": "error",
     "traceback": [
      "\u001b[1;31m---------------------------------------------------------------------------\u001b[0m",
      "\u001b[1;31mNameError\u001b[0m                                 Traceback (most recent call last)",
      "Cell \u001b[1;32mIn[27], line 10\u001b[0m\n\u001b[0;32m      7\u001b[0m ax1\u001b[38;5;241m.\u001b[39mxaxis\u001b[38;5;241m.\u001b[39mset_major_formatter(plt\u001b[38;5;241m.\u001b[39mNullFormatter())\n\u001b[0;32m      8\u001b[0m ax1\u001b[38;5;241m.\u001b[39myaxis\u001b[38;5;241m.\u001b[39mset_major_formatter(plt\u001b[38;5;241m.\u001b[39mNullFormatter())\n\u001b[1;32m---> 10\u001b[0m ax1\u001b[38;5;241m.\u001b[39mcontour(mu, \u001b[43mgamma\u001b[49m, convert_to_stdev(logL),\n\u001b[0;32m     11\u001b[0m             levels\u001b[38;5;241m=\u001b[39m(\u001b[38;5;241m0.683\u001b[39m, \u001b[38;5;241m0.955\u001b[39m, \u001b[38;5;241m0.997\u001b[39m),\n\u001b[0;32m     12\u001b[0m             colors\u001b[38;5;241m=\u001b[39m\u001b[38;5;124m'\u001b[39m\u001b[38;5;124mb\u001b[39m\u001b[38;5;124m'\u001b[39m, linestyles\u001b[38;5;241m=\u001b[39m\u001b[38;5;124m'\u001b[39m\u001b[38;5;124mdashed\u001b[39m\u001b[38;5;124m'\u001b[39m)\n\u001b[0;32m     14\u001b[0m ax1\u001b[38;5;241m.\u001b[39mcontour(\u001b[38;5;241m0.5\u001b[39m \u001b[38;5;241m*\u001b[39m (mu_bins[:\u001b[38;5;241m-\u001b[39m\u001b[38;5;241m1\u001b[39m] \u001b[38;5;241m+\u001b[39m mu_bins[\u001b[38;5;241m1\u001b[39m:]),\n\u001b[0;32m     15\u001b[0m             \u001b[38;5;241m0.5\u001b[39m \u001b[38;5;241m*\u001b[39m (gamma_bins[:\u001b[38;5;241m-\u001b[39m\u001b[38;5;241m1\u001b[39m] \u001b[38;5;241m+\u001b[39m gamma_bins[\u001b[38;5;241m1\u001b[39m:]),\n\u001b[0;32m     16\u001b[0m             convert_to_stdev(np\u001b[38;5;241m.\u001b[39mlog(L_MCMC\u001b[38;5;241m.\u001b[39mT)),\n\u001b[0;32m     17\u001b[0m             levels\u001b[38;5;241m=\u001b[39m(\u001b[38;5;241m0.683\u001b[39m, \u001b[38;5;241m0.955\u001b[39m, \u001b[38;5;241m0.997\u001b[39m),\n\u001b[0;32m     18\u001b[0m             colors\u001b[38;5;241m=\u001b[39m\u001b[38;5;124m'\u001b[39m\u001b[38;5;124mk\u001b[39m\u001b[38;5;124m'\u001b[39m)\n\u001b[0;32m     20\u001b[0m \u001b[38;5;66;03m# second axis: marginalized over mu\u001b[39;00m\n",
      "\u001b[1;31mNameError\u001b[0m: name 'gamma' is not defined"
     ]
    },
    {
     "data": {
      "image/png": "[encoded data removed]",
      "text/plain": [
       "<Figure size 500x500 with 1 Axes>"
      ]
     },
     "metadata": {
      "image/png": {
       "height": 299,
       "width": 299
      }
     },
     "output_type": "display_data"
    }
   ],
   "source": [
    "# ----------------------------------------------------------------------\n",
    "# plot all the results\n",
    "fig = plt.figure(figsize=(5, 5))\n",
    "\n",
    "# first axis: likelihood contours\n",
    "ax1 = fig.add_axes((0.4, 0.4, 0.55, 0.55))\n",
    "ax1.xaxis.set_major_formatter(plt.NullFormatter())\n",
    "ax1.yaxis.set_major_formatter(plt.NullFormatter())\n",
    "\n",
    "ax1.contour(mu, gamma, convert_to_stdev(logL),\n",
    "            levels=(0.683, 0.955, 0.997),\n",
    "            colors='b', linestyles='dashed')\n",
    "\n",
    "ax1.contour(0.5 * (mu_bins[:-1] + mu_bins[1:]),\n",
    "            0.5 * (gamma_bins[:-1] + gamma_bins[1:]),\n",
    "            convert_to_stdev(np.log(L_MCMC.T)),\n",
    "            levels=(0.683, 0.955, 0.997),\n",
    "            colors='k')\n",
    "\n",
    "# second axis: marginalized over mu\n",
    "ax2 = fig.add_axes((0.1, 0.4, 0.29, 0.55))\n",
    "ax2.xaxis.set_major_formatter(plt.NullFormatter())\n",
    "ax2.plot(hist_gamma, 0.5 * (bins_gamma[1:] + bins_gamma[:-1]\n",
    "                            - bins_gamma[1] + bins_gamma[0]),\n",
    "         '-k', drawstyle='steps')\n",
    "ax2.plot(p_gamma, gamma, '--b')\n",
    "ax2.set_ylabel(r'$\\gamma$')\n",
    "ax2.set_ylim(0, 5)\n",
    "\n",
    "# third axis: marginalized over gamma\n",
    "ax3 = fig.add_axes((0.4, 0.1, 0.55, 0.29))\n",
    "ax3.yaxis.set_major_formatter(plt.NullFormatter())\n",
    "ax3.plot(0.5 * (bins_mu[1:] + bins_mu[:-1]), hist_mu,\n",
    "         '-k', drawstyle='steps-mid')\n",
    "ax3.plot(mu, p_mu, '--b')\n",
    "ax3.set_xlabel(r'$\\mu$')\n",
    "plt.xlim(-5, 5)\n",
    "\n",
    "plt.show()"
   ]
  },
  {
   "cell_type": "markdown",
   "metadata": {},
   "source": [
    "The resulting $2$D joint posterior pdf corner plot shows analytic results as blue dashed lines, and MCMC sampling results as black contours."
   ]
  },
  {
   "cell_type": "markdown",
   "metadata": {},
   "source": [
    "## MCMC With The PTMCMCSampler <a class=\"anchor\" id=\"five\"></a>"
   ]
  },
  {
   "cell_type": "markdown",
   "metadata": {},
   "source": [
    "Let's now explore the more bare-bones sampler. This helps to expose a lot of what is going on in the other samplers, where it's difficult to see what happens under the hood.\n",
    "\n",
    "**We're going to analyze a homoescedastic Gaussian dataset, but this time search over the mean and standard deviation with our MCMC.**"
   ]
  },
  {
   "cell_type": "code",
   "execution_count": 28,
   "metadata": {},
   "outputs": [
    {
     "name": "stdout",
     "output_type": "stream",
     "text": [
      "Optional mpi4py package is not installed.  MPI support is not available.\n"
     ]
    }
   ],
   "source": [
    "# don't worry about any warning messages regarding mpi4py\n",
    "from PTMCMCSampler.PTMCMCSampler import PTSampler as ptmcmc"
   ]
  },
  {
   "cell_type": "code",
   "execution_count": 29,
   "metadata": {},
   "outputs": [],
   "source": [
    "np.random.seed(21)\n",
    "Ndata = 100\n",
    "mu = 1.0\n",
    "sigma = 0.5 # assumed known \n",
    "data = stats.norm(mu, sigma).rvs(Ndata)"
   ]
  },
  {
   "cell_type": "markdown",
   "metadata": {},
   "source": [
    "Fill in the function below to create a prior function that is the multiplication of a uniform prior for the mean over $0.5$ to $1.5$, and a uniform prior for the standard deviation between $0.1$ and $0.9$. \n",
    "\n",
    "The priors are separable and independent, so the overall prior should be the product of the prior for each parameter."
   ]
  },
  {
   "cell_type": "code",
   "execution_count": 31,
   "metadata": {},
   "outputs": [],
   "source": [
    "def Likelihood(x, data):\n",
    "    # Gaussian likelihood \n",
    "    return np.prod(stats.norm(loc=x[0], scale=x[1]).pdf(data))\n",
    "\n",
    "def Prior(x):\n",
    "    # create a uniform prior in mu and sigma\n",
    "    return 1 / Ndata\n",
    "\n",
    "def logLikelihood(x):\n",
    "    return np.log(Likelihood(x, data))\n",
    "\n",
    "def logPrior(x):\n",
    "    return np.log(Prior(x))"
   ]
  },
  {
   "cell_type": "code",
   "execution_count": 32,
   "metadata": {},
   "outputs": [],
   "source": [
    "# dimension of parameter space\n",
    "ndim = 2\n",
    "\n",
    "# initial jump covariance matrix\n",
    "cov = np.diag(np.ones(ndim) * 0.01**2)\n",
    "\n",
    "# intialize sampler\n",
    "sampler = ptmcmc(ndim, logLikelihood, logPrior, cov, \n",
    "                 outDir='./my_ptmcmc_chain', resume=False)"
   ]
  },
  {
   "cell_type": "markdown",
   "metadata": {},
   "source": [
    "Start sampling!"
   ]
  },
  {
   "cell_type": "code",
   "execution_count": 33,
   "metadata": {},
   "outputs": [
    {
     "name": "stdout",
     "output_type": "stream",
     "text": [
      "Finished 3.33 percent in 1.616849 s Acceptance rate = 0.862"
     ]
    },
    {
     "name": "stderr",
     "output_type": "stream",
     "text": [
      "C:\\Users\\heide\\AppData\\Local\\Temp\\ipykernel_11280\\4115305815.py:10: RuntimeWarning: divide by zero encountered in log\n",
      "  return np.log(Likelihood(x, data))\n"
     ]
    },
    {
     "name": "stdout",
     "output_type": "stream",
     "text": [
      "Finished 33.33 percent in 16.786575 s Acceptance rate = 0.544989Adding DE jump with weight 50\n",
      "Finished 100.00 percent in 49.735257 s Acceptance rate = 0.61237\n",
      "Run Complete\n"
     ]
    }
   ],
   "source": [
    "# sampler for N steps\n",
    "N = int(3e4)\n",
    "x0 = np.array([0.9, 0.3])\n",
    "sampler.sample(x0, N, SCAMweight=30, AMweight=15, DEweight=50)"
   ]
  },
  {
   "cell_type": "code",
   "execution_count": 34,
   "metadata": {},
   "outputs": [],
   "source": [
    "# Load in the chain\n",
    "chain = np.loadtxt('./my_ptmcmc_chain/chain_1.txt')"
   ]
  },
  {
   "cell_type": "markdown",
   "metadata": {},
   "source": [
    "Ignore the final 4 columns in your chain array. Those are chain diagnostics, not parameters.\n",
    "\n",
    "<font color='red'>OK, now that you have your chain, it's up to you to diagnose it.</font>\n",
    "    \n",
    "- Make traceplots in both $\\mu$ and $\\sigma$. \n",
    "- Discuss when you should cut off burn-in. \n",
    "- Compute the autocorrelation length of the chain, and down-sample it to select only points every autocorrelation length. \n",
    "- Finally, make a corner plot that has labels, shows titles, and has $68\\%$ and $95\\%$ quantiles and levels."
   ]
  },
  {
   "cell_type": "code",
   "execution_count": 38,
   "metadata": {},
   "outputs": [
    {
     "ename": "ModuleNotFoundError",
     "evalue": "No module named 'acor'",
     "output_type": "error",
     "traceback": [
      "\u001b[1;31m---------------------------------------------------------------------------\u001b[0m",
      "\u001b[1;31mModuleNotFoundError\u001b[0m                       Traceback (most recent call last)",
      "Cell \u001b[1;32mIn[38], line 1\u001b[0m\n\u001b[1;32m----> 1\u001b[0m \u001b[38;5;28;01mimport\u001b[39;00m\u001b[38;5;250m \u001b[39m\u001b[38;5;21;01macor\u001b[39;00m\n\u001b[0;32m      2\u001b[0m acor\u001b[38;5;241m.\u001b[39macor(chain[:,\u001b[38;5;241m0\u001b[39m]) \n\u001b[0;32m      3\u001b[0m \u001b[38;5;66;03m# the first element of the tuple is the length between independent samples.\u001b[39;00m\n\u001b[0;32m      4\u001b[0m \u001b[38;5;66;03m# thin by the nearest integer.\u001b[39;00m\n",
      "\u001b[1;31mModuleNotFoundError\u001b[0m: No module named 'acor'"
     ]
    }
   ],
   "source": [
    "import acor\n",
    "acor.acor(chain[:,0]) \n",
    "# the first element of the tuple is the length between independent samples.\n",
    "# thin by the nearest integer."
   ]
  }
 ],
 "metadata": {
  "anaconda-cloud": {},
  "kernelspec": {
   "display_name": "Python 3",
   "language": "python",
   "name": "python3"
  },
  "language_info": {
   "codemirror_mode": {
    "name": "ipython",
    "version": 3
   },
   "file_extension": ".py",
   "mimetype": "text/x-python",
   "name": "python",
   "nbconvert_exporter": "python",
   "pygments_lexer": "ipython3",
   "version": "3.11.2"
  }
 },
 "nbformat": 4,
 "nbformat_minor": 4
}
